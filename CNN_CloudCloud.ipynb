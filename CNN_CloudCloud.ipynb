{
  "cells": [
    {
      "cell_type": "markdown",
      "metadata": {
        "id": "view-in-github",
        "colab_type": "text"
      },
      "source": [
        "<a href=\"https://colab.research.google.com/github/Jueunkim429/Cloud-cloud/blob/main/CNN_CloudCloud.ipynb\" target=\"_parent\"><img src=\"https://colab.research.google.com/assets/colab-badge.svg\" alt=\"Open In Colab\"/></a>"
      ]
    },
    {
      "cell_type": "code",
      "execution_count": 1,
      "metadata": {
        "colab": {
          "base_uri": "https://localhost:8080/"
        },
        "id": "EX70GOa1pgC3",
        "outputId": "115ba10c-fe7a-4230-cf67-a9a0c5bd955a"
      },
      "outputs": [
        {
          "output_type": "stream",
          "name": "stdout",
          "text": [
            "Looking in indexes: https://pypi.org/simple, https://us-python.pkg.dev/colab-wheels/public/simple/\n",
            "Collecting libarchive-c\n",
            "  Downloading libarchive_c-4.0-py2.py3-none-any.whl (15 kB)\n",
            "Installing collected packages: libarchive-c\n",
            "Successfully installed libarchive-c-4.0\n"
          ]
        }
      ],
      "source": [
        "!pip install libarchive-c"
      ]
    },
    {
      "cell_type": "code",
      "execution_count": 2,
      "metadata": {
        "colab": {
          "base_uri": "https://localhost:8080/"
        },
        "id": "GuEb_3v7pzfI",
        "outputId": "07b01a70-8a88-48f8-9b11-1f1c6b667085"
      },
      "outputs": [
        {
          "output_type": "stream",
          "name": "stdout",
          "text": [
            "Looking in indexes: https://pypi.org/simple, https://us-python.pkg.dev/colab-wheels/public/simple/\n",
            "Collecting cartopy\n",
            "  Downloading Cartopy-0.21.1.tar.gz (10.9 MB)\n",
            "\u001b[2K     \u001b[90m━━━━━━━━━━━━━━━━━━━━━━━━━━━━━━━━━━━━━━━━\u001b[0m \u001b[32m10.9/10.9 MB\u001b[0m \u001b[31m54.4 MB/s\u001b[0m eta \u001b[36m0:00:00\u001b[0m\n",
            "\u001b[?25h  Installing build dependencies ... \u001b[?25l\u001b[?25hdone\n",
            "  Getting requirements to build wheel ... \u001b[?25l\u001b[?25hdone\n",
            "  Preparing metadata (pyproject.toml) ... \u001b[?25l\u001b[?25hdone\n",
            "Requirement already satisfied: numpy>=1.18 in /usr/local/lib/python3.10/dist-packages (from cartopy) (1.22.4)\n",
            "Requirement already satisfied: matplotlib>=3.1 in /usr/local/lib/python3.10/dist-packages (from cartopy) (3.7.1)\n",
            "Requirement already satisfied: shapely>=1.6.4 in /usr/local/lib/python3.10/dist-packages (from cartopy) (2.0.1)\n",
            "Collecting pyshp>=2.1 (from cartopy)\n",
            "  Downloading pyshp-2.3.1-py2.py3-none-any.whl (46 kB)\n",
            "\u001b[2K     \u001b[90m━━━━━━━━━━━━━━━━━━━━━━━━━━━━━━━━━━━━━━━━\u001b[0m \u001b[32m46.5/46.5 kB\u001b[0m \u001b[31m5.6 MB/s\u001b[0m eta \u001b[36m0:00:00\u001b[0m\n",
            "\u001b[?25hCollecting pyproj>=3.0.0 (from cartopy)\n",
            "  Downloading pyproj-3.6.0-cp310-cp310-manylinux_2_17_x86_64.manylinux2014_x86_64.whl (7.9 MB)\n",
            "\u001b[2K     \u001b[90m━━━━━━━━━━━━━━━━━━━━━━━━━━━━━━━━━━━━━━━━\u001b[0m \u001b[32m7.9/7.9 MB\u001b[0m \u001b[31m77.8 MB/s\u001b[0m eta \u001b[36m0:00:00\u001b[0m\n",
            "\u001b[?25hRequirement already satisfied: contourpy>=1.0.1 in /usr/local/lib/python3.10/dist-packages (from matplotlib>=3.1->cartopy) (1.0.7)\n",
            "Requirement already satisfied: cycler>=0.10 in /usr/local/lib/python3.10/dist-packages (from matplotlib>=3.1->cartopy) (0.11.0)\n",
            "Requirement already satisfied: fonttools>=4.22.0 in /usr/local/lib/python3.10/dist-packages (from matplotlib>=3.1->cartopy) (4.39.3)\n",
            "Requirement already satisfied: kiwisolver>=1.0.1 in /usr/local/lib/python3.10/dist-packages (from matplotlib>=3.1->cartopy) (1.4.4)\n",
            "Requirement already satisfied: packaging>=20.0 in /usr/local/lib/python3.10/dist-packages (from matplotlib>=3.1->cartopy) (23.1)\n",
            "Requirement already satisfied: pillow>=6.2.0 in /usr/local/lib/python3.10/dist-packages (from matplotlib>=3.1->cartopy) (8.4.0)\n",
            "Requirement already satisfied: pyparsing>=2.3.1 in /usr/local/lib/python3.10/dist-packages (from matplotlib>=3.1->cartopy) (3.0.9)\n",
            "Requirement already satisfied: python-dateutil>=2.7 in /usr/local/lib/python3.10/dist-packages (from matplotlib>=3.1->cartopy) (2.8.2)\n",
            "Requirement already satisfied: certifi in /usr/local/lib/python3.10/dist-packages (from pyproj>=3.0.0->cartopy) (2022.12.7)\n",
            "Requirement already satisfied: six>=1.5 in /usr/local/lib/python3.10/dist-packages (from python-dateutil>=2.7->matplotlib>=3.1->cartopy) (1.16.0)\n",
            "Building wheels for collected packages: cartopy\n",
            "  Building wheel for cartopy (pyproject.toml) ... \u001b[?25l\u001b[?25hdone\n",
            "  Created wheel for cartopy: filename=Cartopy-0.21.1-cp310-cp310-linux_x86_64.whl size=11102740 sha256=7d4bea243d9e416949280be94fce7151df5447a42892f6f84c3f10e3cff788a2\n",
            "  Stored in directory: /root/.cache/pip/wheels/30/b0/1a/1c1909e00c76653dc4e2ff48555257c0eb2d1698280c8d9955\n",
            "Successfully built cartopy\n",
            "Installing collected packages: pyshp, pyproj, cartopy\n",
            "Successfully installed cartopy-0.21.1 pyproj-3.6.0 pyshp-2.3.1\n"
          ]
        }
      ],
      "source": [
        "!pip install cartopy"
      ]
    },
    {
      "cell_type": "code",
      "execution_count": 3,
      "metadata": {
        "colab": {
          "base_uri": "https://localhost:8080/"
        },
        "id": "iL3ulF7qqO5y",
        "outputId": "aeab8090-ee3d-43b8-b851-6f7356eb692a"
      },
      "outputs": [
        {
          "output_type": "stream",
          "name": "stdout",
          "text": [
            "Looking in indexes: https://pypi.org/simple, https://us-python.pkg.dev/colab-wheels/public/simple/\n",
            "Requirement already satisfied: keras in /usr/local/lib/python3.10/dist-packages (2.12.0)\n"
          ]
        }
      ],
      "source": [
        "!pip install --upgrade keras"
      ]
    },
    {
      "cell_type": "code",
      "execution_count": 4,
      "metadata": {
        "colab": {
          "base_uri": "https://localhost:8080/"
        },
        "id": "G-DFi-fpqQ4O",
        "outputId": "f17f6aa0-6d62-4060-c20d-bd56033bf74d"
      },
      "outputs": [
        {
          "output_type": "stream",
          "name": "stdout",
          "text": [
            "Looking in indexes: https://pypi.org/simple, https://us-python.pkg.dev/colab-wheels/public/simple/\n",
            "Requirement already satisfied: tensorflow in /usr/local/lib/python3.10/dist-packages (2.12.0)\n",
            "Requirement already satisfied: absl-py>=1.0.0 in /usr/local/lib/python3.10/dist-packages (from tensorflow) (1.4.0)\n",
            "Requirement already satisfied: astunparse>=1.6.0 in /usr/local/lib/python3.10/dist-packages (from tensorflow) (1.6.3)\n",
            "Requirement already satisfied: flatbuffers>=2.0 in /usr/local/lib/python3.10/dist-packages (from tensorflow) (23.3.3)\n",
            "Requirement already satisfied: gast<=0.4.0,>=0.2.1 in /usr/local/lib/python3.10/dist-packages (from tensorflow) (0.4.0)\n",
            "Requirement already satisfied: google-pasta>=0.1.1 in /usr/local/lib/python3.10/dist-packages (from tensorflow) (0.2.0)\n",
            "Requirement already satisfied: grpcio<2.0,>=1.24.3 in /usr/local/lib/python3.10/dist-packages (from tensorflow) (1.54.0)\n",
            "Requirement already satisfied: h5py>=2.9.0 in /usr/local/lib/python3.10/dist-packages (from tensorflow) (3.8.0)\n",
            "Requirement already satisfied: jax>=0.3.15 in /usr/local/lib/python3.10/dist-packages (from tensorflow) (0.4.10)\n",
            "Requirement already satisfied: keras<2.13,>=2.12.0 in /usr/local/lib/python3.10/dist-packages (from tensorflow) (2.12.0)\n",
            "Requirement already satisfied: libclang>=13.0.0 in /usr/local/lib/python3.10/dist-packages (from tensorflow) (16.0.0)\n",
            "Requirement already satisfied: numpy<1.24,>=1.22 in /usr/local/lib/python3.10/dist-packages (from tensorflow) (1.22.4)\n",
            "Requirement already satisfied: opt-einsum>=2.3.2 in /usr/local/lib/python3.10/dist-packages (from tensorflow) (3.3.0)\n",
            "Requirement already satisfied: packaging in /usr/local/lib/python3.10/dist-packages (from tensorflow) (23.1)\n",
            "Requirement already satisfied: protobuf!=4.21.0,!=4.21.1,!=4.21.2,!=4.21.3,!=4.21.4,!=4.21.5,<5.0.0dev,>=3.20.3 in /usr/local/lib/python3.10/dist-packages (from tensorflow) (3.20.3)\n",
            "Requirement already satisfied: setuptools in /usr/local/lib/python3.10/dist-packages (from tensorflow) (67.7.2)\n",
            "Requirement already satisfied: six>=1.12.0 in /usr/local/lib/python3.10/dist-packages (from tensorflow) (1.16.0)\n",
            "Requirement already satisfied: tensorboard<2.13,>=2.12 in /usr/local/lib/python3.10/dist-packages (from tensorflow) (2.12.2)\n",
            "Requirement already satisfied: tensorflow-estimator<2.13,>=2.12.0 in /usr/local/lib/python3.10/dist-packages (from tensorflow) (2.12.0)\n",
            "Requirement already satisfied: termcolor>=1.1.0 in /usr/local/lib/python3.10/dist-packages (from tensorflow) (2.3.0)\n",
            "Requirement already satisfied: typing-extensions>=3.6.6 in /usr/local/lib/python3.10/dist-packages (from tensorflow) (4.5.0)\n",
            "Requirement already satisfied: wrapt<1.15,>=1.11.0 in /usr/local/lib/python3.10/dist-packages (from tensorflow) (1.14.1)\n",
            "Requirement already satisfied: tensorflow-io-gcs-filesystem>=0.23.1 in /usr/local/lib/python3.10/dist-packages (from tensorflow) (0.32.0)\n",
            "Requirement already satisfied: wheel<1.0,>=0.23.0 in /usr/local/lib/python3.10/dist-packages (from astunparse>=1.6.0->tensorflow) (0.40.0)\n",
            "Requirement already satisfied: ml-dtypes>=0.1.0 in /usr/local/lib/python3.10/dist-packages (from jax>=0.3.15->tensorflow) (0.1.0)\n",
            "Requirement already satisfied: scipy>=1.7 in /usr/local/lib/python3.10/dist-packages (from jax>=0.3.15->tensorflow) (1.10.1)\n",
            "Requirement already satisfied: google-auth<3,>=1.6.3 in /usr/local/lib/python3.10/dist-packages (from tensorboard<2.13,>=2.12->tensorflow) (2.17.3)\n",
            "Requirement already satisfied: google-auth-oauthlib<1.1,>=0.5 in /usr/local/lib/python3.10/dist-packages (from tensorboard<2.13,>=2.12->tensorflow) (1.0.0)\n",
            "Requirement already satisfied: markdown>=2.6.8 in /usr/local/lib/python3.10/dist-packages (from tensorboard<2.13,>=2.12->tensorflow) (3.4.3)\n",
            "Requirement already satisfied: requests<3,>=2.21.0 in /usr/local/lib/python3.10/dist-packages (from tensorboard<2.13,>=2.12->tensorflow) (2.27.1)\n",
            "Requirement already satisfied: tensorboard-data-server<0.8.0,>=0.7.0 in /usr/local/lib/python3.10/dist-packages (from tensorboard<2.13,>=2.12->tensorflow) (0.7.0)\n",
            "Requirement already satisfied: tensorboard-plugin-wit>=1.6.0 in /usr/local/lib/python3.10/dist-packages (from tensorboard<2.13,>=2.12->tensorflow) (1.8.1)\n",
            "Requirement already satisfied: werkzeug>=1.0.1 in /usr/local/lib/python3.10/dist-packages (from tensorboard<2.13,>=2.12->tensorflow) (2.3.0)\n",
            "Requirement already satisfied: cachetools<6.0,>=2.0.0 in /usr/local/lib/python3.10/dist-packages (from google-auth<3,>=1.6.3->tensorboard<2.13,>=2.12->tensorflow) (5.3.0)\n",
            "Requirement already satisfied: pyasn1-modules>=0.2.1 in /usr/local/lib/python3.10/dist-packages (from google-auth<3,>=1.6.3->tensorboard<2.13,>=2.12->tensorflow) (0.3.0)\n",
            "Requirement already satisfied: rsa<5,>=3.1.4 in /usr/local/lib/python3.10/dist-packages (from google-auth<3,>=1.6.3->tensorboard<2.13,>=2.12->tensorflow) (4.9)\n",
            "Requirement already satisfied: requests-oauthlib>=0.7.0 in /usr/local/lib/python3.10/dist-packages (from google-auth-oauthlib<1.1,>=0.5->tensorboard<2.13,>=2.12->tensorflow) (1.3.1)\n",
            "Requirement already satisfied: urllib3<1.27,>=1.21.1 in /usr/local/lib/python3.10/dist-packages (from requests<3,>=2.21.0->tensorboard<2.13,>=2.12->tensorflow) (1.26.15)\n",
            "Requirement already satisfied: certifi>=2017.4.17 in /usr/local/lib/python3.10/dist-packages (from requests<3,>=2.21.0->tensorboard<2.13,>=2.12->tensorflow) (2022.12.7)\n",
            "Requirement already satisfied: charset-normalizer~=2.0.0 in /usr/local/lib/python3.10/dist-packages (from requests<3,>=2.21.0->tensorboard<2.13,>=2.12->tensorflow) (2.0.12)\n",
            "Requirement already satisfied: idna<4,>=2.5 in /usr/local/lib/python3.10/dist-packages (from requests<3,>=2.21.0->tensorboard<2.13,>=2.12->tensorflow) (3.4)\n",
            "Requirement already satisfied: MarkupSafe>=2.1.1 in /usr/local/lib/python3.10/dist-packages (from werkzeug>=1.0.1->tensorboard<2.13,>=2.12->tensorflow) (2.1.2)\n",
            "Requirement already satisfied: pyasn1<0.6.0,>=0.4.6 in /usr/local/lib/python3.10/dist-packages (from pyasn1-modules>=0.2.1->google-auth<3,>=1.6.3->tensorboard<2.13,>=2.12->tensorflow) (0.5.0)\n",
            "Requirement already satisfied: oauthlib>=3.0.0 in /usr/local/lib/python3.10/dist-packages (from requests-oauthlib>=0.7.0->google-auth-oauthlib<1.1,>=0.5->tensorboard<2.13,>=2.12->tensorflow) (3.2.2)\n"
          ]
        }
      ],
      "source": [
        "!pip install --upgrade tensorflow"
      ]
    },
    {
      "cell_type": "code",
      "execution_count": 5,
      "metadata": {
        "id": "I9WwjvTcpLa1"
      },
      "outputs": [],
      "source": [
        "from PIL import Image\n",
        "import os, glob, numpy as np\n",
        "import os\n",
        "from sklearn.model_selection import train_test_split\n",
        "import os, glob, numpy as np\n",
        "from keras.models import Sequential\n",
        "from keras.layers import Conv2D, MaxPooling2D, Dense, Flatten, Dropout\n",
        "from keras.callbacks import EarlyStopping, ModelCheckpoint\n",
        "import matplotlib.pyplot as plt\n",
        "import tensorflow as tf\n",
        "from keras.backend import set_session as K\n",
        "from tensorflow.keras.preprocessing.image import img_to_array, load_img, array_to_img\n",
        "from keras.preprocessing.image import ImageDataGenerator\n",
        "import libarchive\n",
        "import pydot\n",
        "import cartopy"
      ]
    },
    {
      "cell_type": "code",
      "execution_count": 6,
      "metadata": {
        "colab": {
          "base_uri": "https://localhost:8080/"
        },
        "id": "QCJ-nD6lq8i-",
        "outputId": "4bb140a3-4197-4482-df47-6edc1dd2eed7"
      },
      "outputs": [
        {
          "output_type": "stream",
          "name": "stdout",
          "text": [
            "2.12.0\n"
          ]
        }
      ],
      "source": [
        "from tensorflow.keras.preprocessing.image import load_img, img_to_array, array_to_img\n",
        "import tensorflow.keras\n",
        "print(tensorflow.keras.__version__)"
      ]
    },
    {
      "cell_type": "code",
      "execution_count": 7,
      "metadata": {
        "colab": {
          "base_uri": "https://localhost:8080/"
        },
        "id": "RzqQpOpoq_JP",
        "outputId": "b70122e9-9afc-483f-fb69-d352e4229311"
      },
      "outputs": [
        {
          "output_type": "stream",
          "name": "stdout",
          "text": [
            "Mounted at /content/drive\n"
          ]
        }
      ],
      "source": [
        "from google.colab import drive\n",
        "drive.mount('/content/drive')"
      ]
    },
    {
      "cell_type": "markdown",
      "source": [
        "## Image를 학습데이터로 변환"
      ],
      "metadata": {
        "id": "77sU2UXKm0i6"
      }
    },
    {
      "cell_type": "code",
      "execution_count": 8,
      "metadata": {
        "colab": {
          "base_uri": "https://localhost:8080/"
        },
        "id": "mKKuyIoTyzLT",
        "outputId": "2b6ff3d0-4f8b-4161-97c2-77268e157fb3"
      },
      "outputs": [
        {
          "output_type": "stream",
          "name": "stdout",
          "text": [
            "Cb  :  /content/drive/MyDrive/Colab Notebooks/clouddata/train14/Cb/new_Cb-N156_0_135.jpg\n",
            "Cb  :  /content/drive/MyDrive/Colab Notebooks/clouddata/train14/Cb/new_Cb-N149_0_9394.jpg\n",
            "Cb  :  /content/drive/MyDrive/Colab Notebooks/clouddata/train14/Cb/new_Cb-N159_0_3662.jpg\n",
            "Cb  :  /content/drive/MyDrive/Colab Notebooks/clouddata/train14/Cb/new_Cb-N227_0_6095.jpg\n",
            "Cb  :  /content/drive/MyDrive/Colab Notebooks/clouddata/train14/Cb/new_Cb-N027_0_1818.jpg\n",
            "Cb  :  /content/drive/MyDrive/Colab Notebooks/clouddata/train14/Cb/new_Cb-N063_0_5104.jpg\n",
            "Cb  :  /content/drive/MyDrive/Colab Notebooks/clouddata/train14/Cb/new_Cb-N111_0_4797.jpg\n",
            "Cb  :  /content/drive/MyDrive/Colab Notebooks/clouddata/train14/Cb/new_0_626.jpg\n",
            "Cb  :  /content/drive/MyDrive/Colab Notebooks/clouddata/train14/Cb/new_0_8064.jpg\n",
            "Cb  :  /content/drive/MyDrive/Colab Notebooks/clouddata/train14/Cb/new_0_4888.jpg\n",
            "Cb  :  /content/drive/MyDrive/Colab Notebooks/clouddata/train14/Cb/Cb-N022.jpg\n",
            "Cb  :  /content/drive/MyDrive/Colab Notebooks/clouddata/train14/Cb/new_0_3624.jpg\n",
            "Cb  :  /content/drive/MyDrive/Colab Notebooks/clouddata/train14/Cb/new_0_2134.jpg\n",
            "Cc  :  /content/drive/MyDrive/Colab Notebooks/clouddata/train14/Cc/new_Cc-N115_0_8934.jpg\n",
            "Cc  :  /content/drive/MyDrive/Colab Notebooks/clouddata/train14/Cc/new_Cc-N189_0_6331.jpg\n",
            "Cc  :  /content/drive/MyDrive/Colab Notebooks/clouddata/train14/Cc/new_Cc-N202_0_8301.jpg\n",
            "Cc  :  /content/drive/MyDrive/Colab Notebooks/clouddata/train14/Cc/new_Cc-N238_0_1209.jpg\n",
            "Cc  :  /content/drive/MyDrive/Colab Notebooks/clouddata/train14/Cc/new_Cc-N069_0_1780.jpg\n",
            "Cc  :  /content/drive/MyDrive/Colab Notebooks/clouddata/train14/Cc/new_Cc-N092_0_9730.jpg\n",
            "Cc  :  /content/drive/MyDrive/Colab Notebooks/clouddata/train14/Cc/new_Cc-N135_0_4105.jpg\n",
            "Cc  :  /content/drive/MyDrive/Colab Notebooks/clouddata/train14/Cc/Cc_new_0_2035.jpg\n",
            "Cc  :  /content/drive/MyDrive/Colab Notebooks/clouddata/train14/Cc/Cc_new_0_6701.jpg\n",
            "Cc  :  /content/drive/MyDrive/Colab Notebooks/clouddata/train14/Cc/Cc_new_0_8592.jpg\n",
            "Cc  :  /content/drive/MyDrive/Colab Notebooks/clouddata/train14/Cc/Cc_new_0_6614.jpg\n",
            "Cc  :  /content/drive/MyDrive/Colab Notebooks/clouddata/train14/Cc/Cc_new_0_2420.jpg\n",
            "Cc  :  /content/drive/MyDrive/Colab Notebooks/clouddata/train14/Cc/Cc_new_0_7542.jpg\n",
            "Cc  :  /content/drive/MyDrive/Colab Notebooks/clouddata/train14/Cc/Cc_new_0_7491.jpg\n",
            "Cc  :  /content/drive/MyDrive/Colab Notebooks/clouddata/train14/Cc/Cc-N213.jpg\n",
            "St  :  /content/drive/MyDrive/Colab Notebooks/clouddata/train14/St/St_new_0_4320.jpg\n",
            "St  :  /content/drive/MyDrive/Colab Notebooks/clouddata/train14/St/St_new_0_4343.jpg\n",
            "St  :  /content/drive/MyDrive/Colab Notebooks/clouddata/train14/St/St_new_0_116.jpg\n",
            "St  :  /content/drive/MyDrive/Colab Notebooks/clouddata/train14/St/St_new_0_3444.jpg\n",
            "St  :  /content/drive/MyDrive/Colab Notebooks/clouddata/train14/St/St_new_0_1542.jpg\n",
            "St  :  /content/drive/MyDrive/Colab Notebooks/clouddata/train14/St/St_new_0_2862.jpg\n",
            "Ns  :  /content/drive/MyDrive/Colab Notebooks/clouddata/train14/Ns/new_Ns-N163_0_2381.jpg\n",
            "Ns  :  /content/drive/MyDrive/Colab Notebooks/clouddata/train14/Ns/new_Ns-N168_0_986.jpg\n",
            "Ns  :  /content/drive/MyDrive/Colab Notebooks/clouddata/train14/Ns/new_Ns-N209_0_1848.jpg\n",
            "Ns  :  /content/drive/MyDrive/Colab Notebooks/clouddata/train14/Ns/new_Ns-N253_0_9761.jpg\n",
            "Ns  :  /content/drive/MyDrive/Colab Notebooks/clouddata/train14/Ns/new_Ns-N081_0_8185.jpg\n",
            "Ns  :  /content/drive/MyDrive/Colab Notebooks/clouddata/train14/Ns/new_Ns-N111_0_3657.jpg\n",
            "Ns  :  /content/drive/MyDrive/Colab Notebooks/clouddata/train14/Ns/new_Ns-N145_0_747.jpg\n",
            "Ns  :  /content/drive/MyDrive/Colab Notebooks/clouddata/train14/Ns/Ns_new_0_4092.jpg\n",
            "Ns  :  /content/drive/MyDrive/Colab Notebooks/clouddata/train14/Ns/Ns_new_0_5344.jpg\n",
            "Ns  :  /content/drive/MyDrive/Colab Notebooks/clouddata/train14/Ns/Ns_new_0_1741.jpg\n",
            "Ns  :  /content/drive/MyDrive/Colab Notebooks/clouddata/train14/Ns/Ns_new_0_1574.jpg\n",
            "Ns  :  /content/drive/MyDrive/Colab Notebooks/clouddata/train14/Ns/Ns_new_0_6633.jpg\n",
            "Ns  :  /content/drive/MyDrive/Colab Notebooks/clouddata/train14/Ns/Ns_new_0_652.jpg\n",
            "Ns  :  /content/drive/MyDrive/Colab Notebooks/clouddata/train14/Ns/Ns_new_0_8664.jpg\n",
            "Ns  :  /content/drive/MyDrive/Colab Notebooks/clouddata/train14/Ns/Ns-N205.jpg\n",
            "Sc  :  /content/drive/MyDrive/Colab Notebooks/clouddata/train14/Sc/new_Sc-N124_0_8784.jpg\n",
            "Sc  :  /content/drive/MyDrive/Colab Notebooks/clouddata/train14/Sc/new_Sc-N110_0_841.jpg\n",
            "Sc  :  /content/drive/MyDrive/Colab Notebooks/clouddata/train14/Sc/new_Sc-N134_0_8642.jpg\n",
            "Sc  :  /content/drive/MyDrive/Colab Notebooks/clouddata/train14/Sc/new_Sc-N192_0_3636.jpg\n",
            "Sc  :  /content/drive/MyDrive/Colab Notebooks/clouddata/train14/Sc/Sc_new_0_7719.jpg\n",
            "Sc  :  /content/drive/MyDrive/Colab Notebooks/clouddata/train14/Sc/new_Sc-N017_0_221.jpg\n",
            "Sc  :  /content/drive/MyDrive/Colab Notebooks/clouddata/train14/Sc/new_Sc-N060_0_2134.jpg\n",
            "Sc  :  /content/drive/MyDrive/Colab Notebooks/clouddata/train14/Sc/Sc_new_0_9057.jpg\n",
            "Sc  :  /content/drive/MyDrive/Colab Notebooks/clouddata/train14/Sc/Sc_new_0_4403.jpg\n",
            "Sc  :  /content/drive/MyDrive/Colab Notebooks/clouddata/train14/Sc/Sc_new_0_5607.jpg\n",
            "Sc  :  /content/drive/MyDrive/Colab Notebooks/clouddata/train14/Sc/Sc-N340.jpg\n",
            "Sc  :  /content/drive/MyDrive/Colab Notebooks/clouddata/train14/Sc/Sc_new_0_5077.jpg\n",
            "Sc  :  /content/drive/MyDrive/Colab Notebooks/clouddata/train14/Sc/Sc_new_0_6296.jpg\n",
            "Sc  :  /content/drive/MyDrive/Colab Notebooks/clouddata/train14/Sc/Sc_new_0_3856.jpg\n",
            "Sc  :  /content/drive/MyDrive/Colab Notebooks/clouddata/train14/Sc/Sc-N213.jpg\n"
          ]
        }
      ],
      "source": [
        "img_dir =  \"/content/drive/MyDrive/Colab Notebooks/clouddata/train14\" #학습데이터로 변환할 데이터 위치\n",
        "categories = os.listdir(img_dir)\n",
        "num_classes = len(categories)\n",
        "\n",
        "image_w = 64  #64*64*3 사이즈로 조정\n",
        "image_h = 64\n",
        "\n",
        "pixel=  image_w * image_h * 3\n",
        "X=[]\n",
        "y=[]\n",
        "\n",
        "for idx, cat in enumerate(categories): # 카테고리를 enumerate를 이용하여 카테고리와 인덱스 사용\n",
        "    img_dir_detail = img_dir + '/' + cat\n",
        "    files = glob.glob(img_dir_detail + \"/*.jpg\")\n",
        "    for i,f in enumerate(files):\n",
        "        try:\n",
        "            img = Image.open(f)\n",
        "            img = img.convert('RGB')\n",
        "            img = img.resize((image_w,image_h)) #이미지의 사이즈를 조정\n",
        "            data = np.asarray(img)\n",
        "            X.append(data)\n",
        "            y.append(idx)\n",
        "            if i % 300 == 0 : # 300번 마다 프린트\n",
        "                print(cat, \" : \", f)\n",
        "        except:\n",
        "            print(cat,str(i),\" 번째에서 에러\")\n",
        "\n",
        "X = np.array(X)  #array로 변환\n",
        "y = np.array(y)  #array로 변환\n",
        "\n",
        "X_train, X_test, y_train, y_test = train_test_split(X,y, test_size = 0.3) #train test 구분"
      ]
    },
    {
      "cell_type": "markdown",
      "metadata": {
        "id": "U4OsknnR0WDb"
      },
      "source": [
        "## 학습데이터 가공"
      ]
    },
    {
      "cell_type": "code",
      "execution_count": 9,
      "metadata": {
        "colab": {
          "base_uri": "https://localhost:8080/"
        },
        "id": "8uLDY5yh0ZXh",
        "outputId": "12188fa5-25d4-4092-fc66-ed46819b39ab"
      },
      "outputs": [
        {
          "output_type": "stream",
          "name": "stdout",
          "text": [
            "(12846, 64, 64, 3)\n",
            "(12846,)\n",
            "(5506, 64, 64, 3)\n",
            "(5506,)\n"
          ]
        }
      ],
      "source": [
        "print(X_train.shape) # 데이터 크기 확인\n",
        "print(y_train.shape)\n",
        "print(X_test.shape)\n",
        "print(y_test.shape)\n",
        "\n",
        "# img를 array로 변환시 0~255의 값을 가지는데 이것을 0~1로 변환\n",
        "X_train = X_train.astype(float) / 255.0\n",
        "X_test = X_test.astype(float) / 255.0\n",
        "\n",
        "from keras.utils import to_categorical\n",
        "# 기존의 1의 값을가지는 y값을 [0,1,0,0,---]와 같이 변환\n",
        "y_train = to_categorical(y_train)\n",
        "y_test = to_categorical(y_test)"
      ]
    },
    {
      "cell_type": "markdown",
      "metadata": {
        "id": "qCvW0wvM0d05"
      },
      "source": [
        "## 모델 구축"
      ]
    },
    {
      "cell_type": "markdown",
      "source": [
        "### model 1"
      ],
      "metadata": {
        "id": "1378HxWJBN5E"
      }
    },
    {
      "cell_type": "code",
      "execution_count": 10,
      "metadata": {
        "id": "4O4u7E_uz76B"
      },
      "outputs": [],
      "source": [
        "image_w = 64\n",
        "image_h = 64\n",
        "\n",
        "with tf.device('/device:GPU:0'):\n",
        "    model = Sequential()\n",
        "\n",
        "    model.add(Conv2D(32, (3,3), padding=\"same\", input_shape=X_train.shape[1:], activation=\"relu\"))\n",
        "    model.add(MaxPooling2D(pool_size=(2,2)))\n",
        "    model.add(Dropout(0.25))\n",
        "\n",
        "    model.add(Conv2D(64, (3,3), padding=\"same\", activation=\"relu\"))\n",
        "    model.add(MaxPooling2D(pool_size=(2,2)))\n",
        "    model.add(Dropout(0.25))\n",
        "\n",
        "    model.add(Flatten())\n",
        "    model.add(Dense(256, activation='relu'))\n",
        "    model.add(Dropout(0.5))\n",
        "    model.add(Dense(num_classes, activation='softmax')) # 출력 레이어 수정\n",
        "\n",
        "    model.compile(loss='categorical_crossentropy', optimizer='adam', metrics=['accuracy'])\n",
        "\n",
        "    model_dir = './model'\n",
        "    model_path = model_dir + \"/cloud_classify.model\"\n",
        "\n",
        "    checkpoint = ModelCheckpoint(filepath=model_path, monitor='val_loss', verbose=1, save_best_only=True)\n",
        "    early_stopping = EarlyStopping(monitor='val_loss', patience=6)\n"
      ]
    },
    {
      "cell_type": "code",
      "execution_count": null,
      "metadata": {
        "id": "_LtDJgVI05II"
      },
      "outputs": [],
      "source": [
        "model.summary()"
      ]
    },
    {
      "cell_type": "code",
      "source": [
        "X_train.shape\n",
        "history = model.fit(X_train, y_train, batch_size=32, epochs=100, validation_split=0.1)"
      ],
      "metadata": {
        "id": "BkP_irWDqdVS"
      },
      "execution_count": null,
      "outputs": []
    },
    {
      "cell_type": "code",
      "source": [
        "print(\"정확도 : %.2f\" %(model.evaluate(X_test, y_test)[1]))"
      ],
      "metadata": {
        "colab": {
          "base_uri": "https://localhost:8080/"
        },
        "id": "sijwAwL_srAw",
        "outputId": "b946e429-2060-4c00-fdf5-67267c1ed45c"
      },
      "execution_count": 12,
      "outputs": [
        {
          "output_type": "stream",
          "name": "stdout",
          "text": [
            "173/173 [==============================] - 1s 4ms/step - loss: 0.6093 - accuracy: 0.8939\n",
            "정확도 : 0.89\n"
          ]
        }
      ]
    },
    {
      "cell_type": "code",
      "source": [
        "accuracy = np.mean(history.history['accuracy'])\n",
        "val_accuracy = np.mean(history.history['val_accuracy'])\n",
        "loss = np.mean(history.history['loss'])\n",
        "val_loss = np.mean(history.history['val_loss'])\n",
        "\n",
        "print(f\"평균 정확도: {accuracy:.4f}\")\n",
        "print(f\"평균 손실: {loss:.4f}\")\n",
        "print(f\"평균 검증 정확도: {val_accuracy:.4f}\")\n",
        "print(f\"평균 검증 손실: {val_loss:.4f}\")"
      ],
      "metadata": {
        "colab": {
          "base_uri": "https://localhost:8080/"
        },
        "id": "m3HIcRwbqugE",
        "outputId": "59999e28-497d-421a-eac2-aaa41b2eb66d"
      },
      "execution_count": 13,
      "outputs": [
        {
          "output_type": "stream",
          "name": "stdout",
          "text": [
            "평균 정확도: 0.9248\n",
            "평균 손실: 0.2022\n",
            "평균 검증 정확도: 0.8751\n",
            "평균 검증 손실: 0.4714\n"
          ]
        }
      ]
    },
    {
      "cell_type": "markdown",
      "metadata": {
        "id": "d2GzOWo31s5V"
      },
      "source": [
        "### model 2"
      ]
    },
    {
      "cell_type": "code",
      "execution_count": 26,
      "metadata": {
        "id": "d-4hviku1vTX"
      },
      "outputs": [],
      "source": [
        "with tf.device('/device:GPU:0'):\n",
        "    model2 = Sequential()\n",
        "\n",
        "    model2.add(Conv2D(32, (3,3), padding=\"same\", input_shape=X_train.shape[1:], activation=\"relu\"))\n",
        "    model2.add(MaxPooling2D(pool_size=(2,2)))\n",
        "    model2.add(Dropout(0.25))\n",
        "\n",
        "    model2.add(Conv2D(64, (3,3), padding=\"same\", activation=\"relu\"))\n",
        "    model2.add(MaxPooling2D(pool_size=(2,2)))\n",
        "    model2.add(Dropout(0.25))\n",
        "\n",
        "    model2.add(Conv2D(128, (3,3), padding=\"same\", activation=\"relu\")) #새로추가\n",
        "    model2.add(Conv2D(128, (3,3), padding=\"same\", activation=\"relu\")) #새로추가\n",
        "    model2.add(MaxPooling2D(pool_size=(2,2)))\n",
        "    model2.add(Dropout(0.25))\n",
        "\n",
        "    model2.add(Flatten())\n",
        "    model2.add(Dense(256, activation = 'relu'))\n",
        "    model2.add(Dropout(0.5))\n",
        "    model2.add(Dense(num_classes, activation = 'softmax'))\n",
        "\n",
        "    model2.compile(loss = 'categorical_crossentropy', optimizer = 'adam',metrics=['accuracy'])\n",
        "\n",
        "    model_dir = './model2'\n",
        "    model_path = model_dir + \"/cloud_classify.model2\"\n",
        "\n",
        "    checkpoint = ModelCheckpoint(filepath = model_path, monitor='val_loss', verbose = 1, save_best_only = True)\n",
        "    early_stopping = EarlyStopping(monitor = 'val_loss', patience = 6)\n"
      ]
    },
    {
      "cell_type": "code",
      "execution_count": null,
      "metadata": {
        "id": "TNdCALYSsyyL"
      },
      "outputs": [],
      "source": [
        "model2.summary()"
      ]
    },
    {
      "cell_type": "code",
      "execution_count": null,
      "metadata": {
        "id": "-BJ2gUL9jtq0"
      },
      "outputs": [],
      "source": [
        "history = model2.fit(X_train, y_train, batch_size=32, epochs=100, validation_split=0.1)\n",
        "#callbacks=[checkpoint, early_stopping]"
      ]
    },
    {
      "cell_type": "code",
      "source": [
        "accuracy = np.mean(history.history['accuracy'])\n",
        "val_accuracy = np.mean(history.history['val_accuracy'])\n",
        "loss = np.mean(history.history['loss'])\n",
        "val_loss = np.mean(history.history['val_loss'])\n",
        "\n",
        "print(f\"평균 정확도: {accuracy:.4f}\")\n",
        "print(f\"평균 손실: {loss:.4f}\")\n",
        "print(f\"평균 검증 정확도: {val_accuracy:.4f}\")\n",
        "print(f\"평균 검증 손실: {val_loss:.4f}\")"
      ],
      "metadata": {
        "id": "U8-w1hlI9W36",
        "colab": {
          "base_uri": "https://localhost:8080/"
        },
        "outputId": "779c40d9-9f80-4289-9e03-6f1b1eda799c"
      },
      "execution_count": 29,
      "outputs": [
        {
          "output_type": "stream",
          "name": "stdout",
          "text": [
            "평균 정확도: 0.9374\n",
            "평균 손실: 0.1741\n",
            "평균 검증 정확도: 0.9075\n",
            "평균 검증 손실: 0.3257\n"
          ]
        }
      ]
    },
    {
      "cell_type": "markdown",
      "source": [
        "### model2 + normalization = model3"
      ],
      "metadata": {
        "id": "8zHgHkZt_zq0"
      }
    },
    {
      "cell_type": "code",
      "source": [
        "from tensorflow.keras.models import Sequential\n",
        "from tensorflow.keras.layers import Conv2D, MaxPooling2D, Dropout, Flatten, Dense, BatchNormalization, Activation\n",
        "from tensorflow.keras.callbacks import ModelCheckpoint, EarlyStopping\n",
        "\n",
        "with tf.device('/device:GPU:0'):\n",
        "\n",
        "    model3 = Sequential()\n",
        "\n",
        "    model3.add(Conv2D(32, (3,3), padding=\"same\", input_shape=X_train.shape[1:]))\n",
        "    model3.add(BatchNormalization())\n",
        "    model3.add(Activation(\"relu\"))\n",
        "    model3.add(MaxPooling2D(pool_size=(2,2)))\n",
        "    model3.add(Dropout(0.25))\n",
        "\n",
        "    model3.add(Conv2D(64, (3,3), padding=\"same\"))\n",
        "    model3.add(BatchNormalization())\n",
        "    model3.add(Activation(\"relu\"))\n",
        "    model3.add(MaxPooling2D(pool_size=(2,2)))\n",
        "    model3.add(Dropout(0.25))\n",
        "\n",
        "    model3.add(Conv2D(128, (3,3), padding=\"same\"))\n",
        "    model3.add(BatchNormalization())\n",
        "    model3.add(Activation(\"relu\"))\n",
        "    model3.add(Conv2D(128, (3,3), padding=\"same\"))\n",
        "    model3.add(BatchNormalization())\n",
        "    model3.add(Activation(\"relu\"))\n",
        "    model3.add(MaxPooling2D(pool_size=(2,2)))\n",
        "    model3.add(Dropout(0.25))\n",
        "\n",
        "    model3.add(Flatten())\n",
        "    model3.add(Dense(256, activation='relu'))\n",
        "    model3.add(Dropout(0.5))\n",
        "    model3.add(Dense(num_classes, activation='softmax'))\n",
        "\n",
        "    model3.compile(loss='categorical_crossentropy', optimizer='adam', metrics=['accuracy'])\n",
        "\n",
        "    model_dir = './model3'\n",
        "    model_path = model_dir + \"/cloud_classify.model3\"\n",
        "\n",
        "    checkpoint = ModelCheckpoint(filepath=model_path, monitor='val_loss', verbose=1, save_best_only=True)\n",
        "    early_stopping = EarlyStopping(monitor='val_loss', patience=6)\n"
      ],
      "metadata": {
        "id": "TGx9a-GNBjL-"
      },
      "execution_count": 72,
      "outputs": []
    },
    {
      "cell_type": "code",
      "source": [
        "model3.summary()"
      ],
      "metadata": {
        "id": "akOKOhEQBmF1"
      },
      "execution_count": null,
      "outputs": []
    },
    {
      "cell_type": "code",
      "source": [
        "history = model3.fit(X_train, y_train, batch_size=32, epochs=100, validation_split=0.1)\n",
        "#callbacks=[checkpoint, early_stopping]"
      ],
      "metadata": {
        "id": "6yfVSjEQBolX"
      },
      "execution_count": null,
      "outputs": []
    },
    {
      "cell_type": "code",
      "source": [
        "accuracy = np.mean(history.history['accuracy'])\n",
        "val_accuracy = np.mean(history.history['val_accuracy'])\n",
        "loss = np.mean(history.history['loss'])\n",
        "val_loss = np.mean(history.history['val_loss'])\n",
        "print(f\"평균 정확도: {accuracy:.4f}\")\n",
        "print(f\"평균 손실: {loss:.4f}\")\n",
        "print(f\"평균 검증 정확도: {val_accuracy:.4f}\")\n",
        "print(f\"평균 검증 손실: {val_loss:.4f}\")"
      ],
      "metadata": {
        "colab": {
          "base_uri": "https://localhost:8080/"
        },
        "id": "BAlv6tjMyBEB",
        "outputId": "cfd1ac3a-f5ed-493d-87da-18409cecb77d"
      },
      "execution_count": 139,
      "outputs": [
        {
          "output_type": "stream",
          "name": "stdout",
          "text": [
            "평균 정확도: 0.9416\n",
            "평균 손실: 0.0458\n",
            "평균 검증 정확도: 0.8747\n",
            "평균 검증 손실: 1.6677\n"
          ]
        }
      ]
    },
    {
      "cell_type": "code",
      "source": [
        "accuracy = np.mean(history.history['accuracy'])\n",
        "val_accuracy = np.mean(history.history['val_accuracy'])\n",
        "loss = np.mean(history.history['loss'])\n",
        "val_loss = np.mean(history.history['val_loss'])\n",
        "\n",
        "print(f\"평균 정확도: {accuracy:.4f}\")\n",
        "print(f\"평균 손실: {loss:.4f}\")\n",
        "print(f\"평균 검증 정확도: {val_accuracy:.4f}\")\n",
        "print(f\"평균 검증 손실: {val_loss:.4f}\")"
      ],
      "metadata": {
        "colab": {
          "base_uri": "https://localhost:8080/"
        },
        "id": "reHN-FkVGn7-",
        "outputId": "e09df4ad-0c77-49c6-9070-08106dd32b40"
      },
      "execution_count": 125,
      "outputs": [
        {
          "output_type": "stream",
          "name": "stdout",
          "text": [
            "평균 정확도: 0.9836\n",
            "평균 손실: 0.0458\n",
            "평균 검증 정확도: 0.8747\n",
            "평균 검증 손실: 1.6677\n"
          ]
        }
      ]
    },
    {
      "cell_type": "markdown",
      "source": [
        "### model1 + normalization = model4"
      ],
      "metadata": {
        "id": "n2STjUPnIgB6"
      }
    },
    {
      "cell_type": "code",
      "source": [
        "from tensorflow.keras.models import Sequential\n",
        "from tensorflow.keras.layers import Conv2D, MaxPooling2D, Dropout, Flatten, Dense, BatchNormalization\n",
        "from tensorflow.keras.callbacks import ModelCheckpoint, EarlyStopping\n",
        "from sklearn.preprocessing import StandardScaler\n",
        "\n",
        "# 모델 구성\n",
        "#scaler = StandardScaler()\n",
        "#X_train_normalized = scaler.fit_transform(X_train)\n",
        "#X_test_normalized = scaler.transform(X_test)\n",
        "model4 = Sequential()\n",
        "\n",
        "model4.add(Conv2D(32, (3,3), padding=\"same\", input_shape=(image_w, image_h, 3), activation=\"relu\"))\n",
        "model4.add(BatchNormalization())\n",
        "model4.add(MaxPooling2D(pool_size=(2,2)))\n",
        "model4.add(Dropout(0.25))\n",
        "\n",
        "model4.add(Conv2D(64, (3,3), padding=\"same\", activation=\"relu\"))\n",
        "model4.add(BatchNormalization())\n",
        "model4.add(MaxPooling2D(pool_size=(2,2)))\n",
        "model4.add(Dropout(0.25))\n",
        "\n",
        "model4.add(Flatten())\n",
        "model4.add(Dense(256, activation='relu'))\n",
        "model4.add(Dropout(0.5))\n",
        "model4.add(Dense(num_classes, activation='softmax'))\n",
        "\n",
        "model4.compile(loss='categorical_crossentropy', optimizer='adam', metrics=['accuracy'])\n",
        "\n",
        "model_dir = './model4'\n",
        "model_path = model_dir + \"/cloud_classify.model4\"\n",
        "\n",
        "checkpoint = ModelCheckpoint(filepath=model_path, monitor='val_loss', verbose=1, save_best_only=True)\n",
        "early_stopping = EarlyStopping(monitor='val_loss', patience=6)\n"
      ],
      "metadata": {
        "id": "Chv4_PoxIibb"
      },
      "execution_count": 104,
      "outputs": []
    },
    {
      "cell_type": "code",
      "source": [
        "model4.summary()"
      ],
      "metadata": {
        "id": "QbtYdLSII-8_"
      },
      "execution_count": null,
      "outputs": []
    },
    {
      "cell_type": "code",
      "source": [
        "X_train.shape\n",
        "history = model4.fit(X_train, y_train, batch_size=32, epochs=100, validation_split=0.1)"
      ],
      "metadata": {
        "id": "-p1_8OKIJApk"
      },
      "execution_count": null,
      "outputs": []
    },
    {
      "cell_type": "code",
      "source": [
        "accuracy = np.mean(history.history['accuracy'])\n",
        "val_accuracy = np.mean(history.history['val_accuracy'])\n",
        "loss = np.mean(history.history['loss'])\n",
        "val_loss = np.mean(history.history['val_loss'])\n",
        "\n",
        "print(f\"평균 정확도: {accuracy:.4f}\")\n",
        "print(f\"평균 손실: {loss:.4f}\")\n",
        "print(f\"평균 검증 정확도: {val_accuracy:.4f}\")\n",
        "print(f\"평균 검증 손실: {val_loss:.4f}\")"
      ],
      "metadata": {
        "colab": {
          "base_uri": "https://localhost:8080/"
        },
        "id": "ZefoqD45JFoJ",
        "outputId": "b95387ae-05fb-4f5e-85db-67475c1af356"
      },
      "execution_count": 142,
      "outputs": [
        {
          "output_type": "stream",
          "name": "stdout",
          "text": [
            "평균 정확도: 0.9389\n",
            "평균 손실: 0.1619\n",
            "평균 검증 정확도: 0.8858\n",
            "평균 검증 손실: 0.3250\n"
          ]
        }
      ]
    },
    {
      "cell_type": "markdown",
      "source": [
        "#### normalization 다르게 진행 =model41"
      ],
      "metadata": {
        "id": "ePJM3k_lD0ik"
      }
    },
    {
      "cell_type": "code",
      "source": [
        "from tensorflow.keras.models import Sequential\n",
        "from tensorflow.keras.layers import Conv2D, MaxPooling2D, Dropout, Flatten, Dense, BatchNormalization\n",
        "from tensorflow.keras.callbacks import ModelCheckpoint, EarlyStopping\n",
        "from sklearn.preprocessing import StandardScaler\n",
        "\n",
        "# 데이터 정규화\n",
        "X_train_normalized = X_train / 255.0\n",
        "X_test_normalized = X_test / 255.0\n",
        "\n",
        "model41 = Sequential()\n",
        "\n",
        "model41.add(Conv2D(32, (3,3), padding=\"same\", input_shape=X_train.shape[1:], activation=\"relu\"))\n",
        "model41.add(BatchNormalization())\n",
        "model41.add(MaxPooling2D(pool_size=(2,2)))\n",
        "model41.add(Dropout(0.25))\n",
        "\n",
        "model41.add(Conv2D(64, (3,3), padding=\"same\", activation=\"relu\"))\n",
        "model41.add(BatchNormalization())\n",
        "model41.add(MaxPooling2D(pool_size=(2,2)))\n",
        "model41.add(Dropout(0.25))\n",
        "\n",
        "model41.add(Flatten())\n",
        "model41.add(Dense(256, activation='relu'))\n",
        "model41.add(Dropout(0.5))\n",
        "model41.add(Dense(num_classes, activation='softmax'))\n",
        "\n",
        "model41.compile(loss='categorical_crossentropy', optimizer='adam', metrics=['accuracy'])\n",
        "\n",
        "model_dir = './model41'\n",
        "model_path = model_dir + \"/cloud_classify.model41\"\n",
        "\n",
        "checkpoint = ModelCheckpoint(filepath=model_path, monitor='val_loss', verbose=1, save_best_only=True)\n",
        "early_stopping = EarlyStopping(monitor='val_loss', patience=6)\n"
      ],
      "metadata": {
        "id": "iA7yEWqyCq1o"
      },
      "execution_count": 35,
      "outputs": []
    },
    {
      "cell_type": "code",
      "source": [
        "model41.summary()"
      ],
      "metadata": {
        "id": "9tTLkjBkC7Mu"
      },
      "execution_count": null,
      "outputs": []
    },
    {
      "cell_type": "code",
      "source": [
        "X_train.shape\n",
        "history = model41.fit(X_train, y_train, batch_size=32, epochs=100, validation_split=0.1)"
      ],
      "metadata": {
        "id": "eK48JxHRC8u4"
      },
      "execution_count": null,
      "outputs": []
    },
    {
      "cell_type": "code",
      "source": [
        "accuracy = np.mean(history.history['accuracy'])\n",
        "val_accuracy = np.mean(history.history['val_accuracy'])\n",
        "loss = np.mean(history.history['loss'])\n",
        "val_loss = np.mean(history.history['val_loss'])\n",
        "\n",
        "print(f\"평균 정확도: {accuracy:.4f}\")\n",
        "print(f\"평균 손실: {loss:.4f}\")\n",
        "print(f\"평균 검증 정확도: {val_accuracy:.4f}\")\n",
        "print(f\"평균 검증 손실: {val_loss:.4f}\")"
      ],
      "metadata": {
        "colab": {
          "base_uri": "https://localhost:8080/"
        },
        "id": "uT5XkYBPC-MV",
        "outputId": "9c7a9531-b7bf-4454-9ab7-039908df7d55"
      },
      "execution_count": 38,
      "outputs": [
        {
          "output_type": "stream",
          "name": "stdout",
          "text": [
            "평균 정확도: 0.8267\n",
            "평균 손실: 0.4594\n",
            "평균 검증 정확도: 0.7811\n",
            "평균 검증 손실: 0.8311\n"
          ]
        }
      ]
    },
    {
      "cell_type": "markdown",
      "source": [
        "### model1+RMSprop = model5"
      ],
      "metadata": {
        "id": "2SkPIxqdL99g"
      }
    },
    {
      "cell_type": "code",
      "source": [
        "from tensorflow.keras.optimizers import RMSprop\n",
        "image_w = 64\n",
        "image_h = 64\n",
        "\n",
        "with tf.device('/device:GPU:0'):\n",
        "    model5 = Sequential()\n",
        "\n",
        "    model5.add(Conv2D(32, (3,3), padding=\"same\", input_shape=X_train.shape[1:], activation=\"relu\"))\n",
        "    model5.add(MaxPooling2D(pool_size=(2,2)))\n",
        "    model5.add(Dropout(0.25))\n",
        "\n",
        "    model5.add(Conv2D(64, (3,3), padding=\"same\", activation=\"relu\"))\n",
        "    model5.add(MaxPooling2D(pool_size=(2,2)))\n",
        "    model5.add(Dropout(0.25))\n",
        "\n",
        "    model5.add(Flatten())\n",
        "    model5.add(Dense(256, activation='relu'))\n",
        "    model5.add(Dropout(0.5))\n",
        "    model5.add(Dense(num_classes, activation='softmax')) # 출력 레이어 수정\n",
        "\n",
        "    model5.compile(loss='categorical_crossentropy', optimizer='RMSprop', metrics=['accuracy'])\n",
        "\n",
        "    model_dir = './model5'\n",
        "    model_path = model_dir + \"/cloud_classify.model5\"\n",
        "\n",
        "    checkpoint = ModelCheckpoint(filepath=model_path, monitor='val_loss', verbose=1, save_best_only=True)\n",
        "    early_stopping = EarlyStopping(monitor='val_loss', patience=6)"
      ],
      "metadata": {
        "id": "_B6LYmkfMCnv"
      },
      "execution_count": 39,
      "outputs": []
    },
    {
      "cell_type": "code",
      "source": [
        "model5.summary()"
      ],
      "metadata": {
        "id": "DllLhFeKMWp9"
      },
      "execution_count": null,
      "outputs": []
    },
    {
      "cell_type": "code",
      "source": [
        "X_train.shape\n",
        "history = model5.fit(X_train, y_train, batch_size=32, epochs=100, validation_split=0.1)"
      ],
      "metadata": {
        "id": "drPWYEMkMYLp"
      },
      "execution_count": null,
      "outputs": []
    },
    {
      "cell_type": "code",
      "source": [
        "accuracy = np.mean(history.history['accuracy'])\n",
        "val_accuracy = np.mean(history.history['val_accuracy'])\n",
        "loss = np.mean(history.history['loss'])\n",
        "val_loss = np.mean(history.history['val_loss'])\n",
        "\n",
        "print(f\"평균 정확도: {accuracy:.4f}\")\n",
        "print(f\"평균 손실: {loss:.4f}\")\n",
        "print(f\"평균 검증 정확도: {val_accuracy:.4f}\")\n",
        "print(f\"평균 검증 손실: {val_loss:.4f}\")"
      ],
      "metadata": {
        "colab": {
          "base_uri": "https://localhost:8080/"
        },
        "id": "tvo6z1N4MaTd",
        "outputId": "0940858b-1436-4bf1-87f5-fc70d9a2bb9a"
      },
      "execution_count": 42,
      "outputs": [
        {
          "output_type": "stream",
          "name": "stdout",
          "text": [
            "평균 정확도: 0.9094\n",
            "평균 손실: 0.2824\n",
            "평균 검증 정확도: 0.8589\n",
            "평균 검증 손실: 0.4924\n"
          ]
        }
      ]
    },
    {
      "cell_type": "markdown",
      "source": [
        "### model2+RMSprop = model6"
      ],
      "metadata": {
        "id": "uvWR2W9PMnA6"
      }
    },
    {
      "cell_type": "code",
      "source": [
        "with tf.device('/device:GPU:0'):\n",
        "    model6 = Sequential()\n",
        "\n",
        "    model6.add(Conv2D(32, (3,3), padding=\"same\", input_shape=X_train.shape[1:], activation=\"relu\"))\n",
        "    model6.add(MaxPooling2D(pool_size=(2,2)))\n",
        "    model6.add(Dropout(0.25))\n",
        "\n",
        "    model6.add(Conv2D(64, (3,3), padding=\"same\", activation=\"relu\"))\n",
        "    model6.add(MaxPooling2D(pool_size=(2,2)))\n",
        "    model6.add(Dropout(0.25))\n",
        "\n",
        "    model6.add(Conv2D(128, (3,3), padding=\"same\", activation=\"relu\")) #새로추가\n",
        "    model6.add(Conv2D(128, (3,3), padding=\"same\", activation=\"relu\")) #새로추가\n",
        "    model6.add(MaxPooling2D(pool_size=(2,2)))\n",
        "    model6.add(Dropout(0.25))\n",
        "\n",
        "    model6.add(Flatten())\n",
        "    model6.add(Dense(256, activation = 'relu'))\n",
        "    model6.add(Dropout(0.5))\n",
        "    model6.add(Dense(num_classes, activation = 'softmax'))\n",
        "\n",
        "    model6.compile(loss = 'categorical_crossentropy', optimizer = 'RMSprop',metrics=['accuracy'])\n",
        "\n",
        "    model_dir = './model6'\n",
        "    model_path = model_dir + \"/cloud_classify.model6\"\n",
        "\n",
        "    checkpoint = ModelCheckpoint(filepath = model_path, monitor='val_loss', verbose = 1, save_best_only = True)\n",
        "    early_stopping = EarlyStopping(monitor = 'val_loss', patience = 6)"
      ],
      "metadata": {
        "id": "LgEVBFJhMqkr"
      },
      "execution_count": 43,
      "outputs": []
    },
    {
      "cell_type": "code",
      "source": [
        "model6.summary()"
      ],
      "metadata": {
        "id": "y-SLSa8mM89l"
      },
      "execution_count": null,
      "outputs": []
    },
    {
      "cell_type": "code",
      "source": [
        "history = model6.fit(X_train, y_train, batch_size=32, epochs=100, validation_split=0.1)\n",
        "#callbacks=[checkpoint, early_stopping]"
      ],
      "metadata": {
        "id": "AZ8I-o5TM-ep"
      },
      "execution_count": null,
      "outputs": []
    },
    {
      "cell_type": "code",
      "source": [
        "accuracy = np.mean(history.history['accuracy'])\n",
        "val_accuracy = np.mean(history.history['val_accuracy'])\n",
        "loss = np.mean(history.history['loss'])\n",
        "val_loss = np.mean(history.history['val_loss'])\n",
        "\n",
        "print(f\"평균 정확도: {accuracy:.4f}\")\n",
        "print(f\"평균 손실: {loss:.4f}\")\n",
        "print(f\"평균 검증 정확도: {val_accuracy:.4f}\")\n",
        "print(f\"평균 검증 손실: {val_loss:.4f}\")"
      ],
      "metadata": {
        "colab": {
          "base_uri": "https://localhost:8080/"
        },
        "id": "rd84IkTJNANx",
        "outputId": "c7ee4dbb-c229-471b-d899-df41b5e55726"
      },
      "execution_count": 46,
      "outputs": [
        {
          "output_type": "stream",
          "name": "stdout",
          "text": [
            "평균 정확도: 0.7489\n",
            "평균 손실: 0.8097\n",
            "평균 검증 정확도: 0.7351\n",
            "평균 검증 손실: 0.8215\n"
          ]
        }
      ]
    },
    {
      "cell_type": "markdown",
      "source": [
        "### model1+Adamax = model7"
      ],
      "metadata": {
        "id": "f1g5PFO8Oxto"
      }
    },
    {
      "cell_type": "code",
      "source": [
        "from tensorflow.keras.optimizers import Adamax\n",
        "image_w = 64\n",
        "image_h = 64\n",
        "\n",
        "with tf.device('/device:GPU:0'):\n",
        "    model7 = Sequential()\n",
        "\n",
        "    model7.add(Conv2D(32, (3,3), padding=\"same\", input_shape=X_train.shape[1:], activation=\"relu\"))\n",
        "    model7.add(MaxPooling2D(pool_size=(2,2)))\n",
        "    model7.add(Dropout(0.25))\n",
        "\n",
        "    model7.add(Conv2D(64, (3,3), padding=\"same\", activation=\"relu\"))\n",
        "    model7.add(MaxPooling2D(pool_size=(2,2)))\n",
        "    model7.add(Dropout(0.25))\n",
        "\n",
        "    model7.add(Flatten())\n",
        "    model7.add(Dense(256, activation='relu'))\n",
        "    model7.add(Dropout(0.5))\n",
        "    model7.add(Dense(num_classes, activation='softmax')) # 출력 레이어 수정\n",
        "\n",
        "    model7.compile(loss='categorical_crossentropy', optimizer='Adamax', metrics=['accuracy'])\n",
        "\n",
        "    model_dir = './model7'\n",
        "    model_path = model_dir + \"/cloud_classify.model7\"\n",
        "\n",
        "    checkpoint = ModelCheckpoint(filepath=model_path, monitor='val_loss', verbose=1, save_best_only=True)\n",
        "    early_stopping = EarlyStopping(monitor='val_loss', patience=6)"
      ],
      "metadata": {
        "id": "sX7CaxCNOxMo"
      },
      "execution_count": 47,
      "outputs": []
    },
    {
      "cell_type": "code",
      "source": [
        "model7.summary()"
      ],
      "metadata": {
        "id": "l1gNFAD4PdrU"
      },
      "execution_count": null,
      "outputs": []
    },
    {
      "cell_type": "code",
      "source": [
        "X_train.shape\n",
        "history = model7.fit(X_train, y_train, batch_size=32, epochs=100, validation_split=0.1)"
      ],
      "metadata": {
        "id": "ly0mPjEcPgAW"
      },
      "execution_count": null,
      "outputs": []
    },
    {
      "cell_type": "code",
      "source": [
        "accuracy = np.mean(history.history['accuracy'])\n",
        "val_accuracy = np.mean(history.history['val_accuracy'])\n",
        "loss = np.mean(history.history['loss'])\n",
        "val_loss = np.mean(history.history['val_loss'])\n",
        "\n",
        "print(f\"평균 정확도: {accuracy:.4f}\")\n",
        "print(f\"평균 손실: {loss:.4f}\")\n",
        "print(f\"평균 검증 정확도: {val_accuracy:.4f}\")\n",
        "print(f\"평균 검증 손실: {val_loss:.4f}\")"
      ],
      "metadata": {
        "colab": {
          "base_uri": "https://localhost:8080/"
        },
        "id": "XZ1FqGXFPh7d",
        "outputId": "a8652b15-559c-4283-ea69-8637f9a76e4a"
      },
      "execution_count": 50,
      "outputs": [
        {
          "output_type": "stream",
          "name": "stdout",
          "text": [
            "평균 정확도: 0.9163\n",
            "평균 손실: 0.2267\n",
            "평균 검증 정확도: 0.8751\n",
            "평균 검증 손실: 0.3816\n"
          ]
        }
      ]
    },
    {
      "cell_type": "markdown",
      "source": [
        "### model2+Adamax model8"
      ],
      "metadata": {
        "id": "I_b-_ObHRFKL"
      }
    },
    {
      "cell_type": "code",
      "source": [
        "from tensorflow.keras.optimizers import Adamax\n",
        "\n",
        "with tf.device('/device:GPU:0'):\n",
        "    model8 = Sequential()\n",
        "\n",
        "    model8.add(Conv2D(32, (3,3), padding=\"same\", input_shape=X_train.shape[1:], activation=\"relu\"))\n",
        "    model8.add(MaxPooling2D(pool_size=(2,2)))\n",
        "    model8.add(Dropout(0.25))\n",
        "\n",
        "    model8.add(Conv2D(64, (3,3), padding=\"same\", activation=\"relu\"))\n",
        "    model8.add(MaxPooling2D(pool_size=(2,2)))\n",
        "    model8.add(Dropout(0.25))\n",
        "\n",
        "    model8.add(Conv2D(128, (3,3), padding=\"same\", activation=\"relu\")) #새로추가\n",
        "    model8.add(Conv2D(128, (3,3), padding=\"same\", activation=\"relu\")) #새로추가\n",
        "    model8.add(MaxPooling2D(pool_size=(2,2)))\n",
        "    model8.add(Dropout(0.25))\n",
        "\n",
        "    model8.add(Flatten())\n",
        "    model8.add(Dense(256, activation = 'relu'))\n",
        "    model8.add(Dropout(0.5))\n",
        "    model8.add(Dense(num_classes, activation = 'softmax'))\n",
        "\n",
        "    model8.compile(loss = 'categorical_crossentropy', optimizer = 'Adamax',metrics=['accuracy'])\n",
        "\n",
        "    model_dir = './model8'\n",
        "    model_path = model_dir + \"/cloud_classify.model8\"\n",
        "\n",
        "    checkpoint = ModelCheckpoint(filepath = model_path, monitor='val_loss', verbose = 1, save_best_only = True)\n",
        "    early_stopping = EarlyStopping(monitor = 'val_loss', patience = 6)"
      ],
      "metadata": {
        "id": "0N46M17IRJlR"
      },
      "execution_count": 51,
      "outputs": []
    },
    {
      "cell_type": "code",
      "source": [
        "model8.summary()"
      ],
      "metadata": {
        "id": "GzMl7wFGRYka"
      },
      "execution_count": null,
      "outputs": []
    },
    {
      "cell_type": "code",
      "source": [
        "history = model8.fit(X_train, y_train, batch_size=32, epochs=100, validation_split=0.1)\n",
        "#callbacks=[checkpoint, early_stopping]"
      ],
      "metadata": {
        "id": "5vnV0Pu-RVN-"
      },
      "execution_count": null,
      "outputs": []
    },
    {
      "cell_type": "code",
      "source": [
        "accuracy = np.mean(history.history['accuracy'])\n",
        "val_accuracy = np.mean(history.history['val_accuracy'])\n",
        "loss = np.mean(history.history['loss'])\n",
        "val_loss = np.mean(history.history['val_loss'])\n",
        "\n",
        "print(f\"평균 정확도: {accuracy:.4f}\")\n",
        "print(f\"평균 손실: {loss:.4f}\")\n",
        "print(f\"평균 검증 정확도: {val_accuracy:.4f}\")\n",
        "print(f\"평균 검증 손실: {val_loss:.4f}\")"
      ],
      "metadata": {
        "colab": {
          "base_uri": "https://localhost:8080/"
        },
        "id": "Rs3CkNXeRbxp",
        "outputId": "3aacdb04-e4e1-416f-e3de-31ae1384288d"
      },
      "execution_count": 54,
      "outputs": [
        {
          "output_type": "stream",
          "name": "stdout",
          "text": [
            "평균 정확도: 0.9411\n",
            "평균 손실: 0.1574\n",
            "평균 검증 정확도: 0.9111\n",
            "평균 검증 손실: 0.3018\n"
          ]
        }
      ]
    },
    {
      "cell_type": "markdown",
      "source": [
        "### model1+Adamax+normalization = mode9"
      ],
      "metadata": {
        "id": "9QKuAaIgT0uu"
      }
    },
    {
      "cell_type": "code",
      "source": [
        "import tensorflow as tf\n",
        "from tensorflow.keras.models import Sequential\n",
        "from tensorflow.keras.layers import Conv2D, MaxPooling2D, Flatten, Dense, Dropout, BatchNormalization\n",
        "from tensorflow.keras.callbacks import ModelCheckpoint, EarlyStopping\n",
        "from tensorflow.keras.optimizers import Adamax\n",
        "\n",
        "# 모델 구성\n",
        "model9 = Sequential()\n",
        "\n",
        "model9.add(Conv2D(32, (3,3), padding=\"same\", input_shape=(image_w, image_h, 3), activation=\"relu\"))\n",
        "model9.add(BatchNormalization())\n",
        "model9.add(MaxPooling2D(pool_size=(2,2)))\n",
        "model9.add(Dropout(0.25))\n",
        "\n",
        "model9.add(Conv2D(64, (3,3), padding=\"same\", activation=\"relu\"))\n",
        "model9.add(BatchNormalization())\n",
        "model9.add(MaxPooling2D(pool_size=(2,2)))\n",
        "model9.add(Dropout(0.25))\n",
        "\n",
        "model9.add(Flatten())\n",
        "model9.add(Dense(256, activation='relu'))\n",
        "model9.add(Dropout(0.5))\n",
        "model9.add(Dense(num_classes, activation='softmax'))\n",
        "\n",
        "model9.compile(loss = 'categorical_crossentropy', optimizer = 'Adamax',metrics=['accuracy'])\n",
        "\n",
        "model_dir = './model9'\n",
        "model_path = model_dir + \"/cloud_classify.model9\"\n",
        "\n",
        "checkpoint = ModelCheckpoint(filepath=model_path, monitor='val_loss', verbose=1, save_best_only=True)\n",
        "early_stopping = EarlyStopping(monitor='val_loss', patience=6)"
      ],
      "metadata": {
        "id": "lGLX9eW6T8SK"
      },
      "execution_count": 55,
      "outputs": []
    },
    {
      "cell_type": "code",
      "source": [
        "model9.summary()"
      ],
      "metadata": {
        "id": "aIqLocT5UaSQ"
      },
      "execution_count": null,
      "outputs": []
    },
    {
      "cell_type": "code",
      "source": [
        "X_train.shape\n",
        "history = model9.fit(X_train, y_train, batch_size=32, epochs=100, validation_split=0.1)"
      ],
      "metadata": {
        "id": "pZ0G4fc5Ub75"
      },
      "execution_count": null,
      "outputs": []
    },
    {
      "cell_type": "code",
      "source": [
        "accuracy = np.mean(history.history['accuracy'])\n",
        "val_accuracy = np.mean(history.history['val_accuracy'])\n",
        "loss = np.mean(history.history['loss'])\n",
        "val_loss = np.mean(history.history['val_loss'])\n",
        "\n",
        "print(f\"평균 정확도: {accuracy:.4f}\")\n",
        "print(f\"평균 손실: {loss:.4f}\")\n",
        "print(f\"평균 검증 정확도: {val_accuracy:.4f}\")\n",
        "print(f\"평균 검증 손실: {val_loss:.4f}\")"
      ],
      "metadata": {
        "colab": {
          "base_uri": "https://localhost:8080/"
        },
        "id": "B3xLIxBUUeEb",
        "outputId": "67c73c23-abcc-4453-e8bc-96921368aa64"
      },
      "execution_count": 58,
      "outputs": [
        {
          "output_type": "stream",
          "name": "stdout",
          "text": [
            "평균 정확도: 0.9216\n",
            "평균 손실: 0.2100\n",
            "평균 검증 정확도: 0.8559\n",
            "평균 검증 손실: 0.5569\n"
          ]
        }
      ]
    },
    {
      "cell_type": "markdown",
      "source": [
        "### model2+Adamax+normalization = mode10"
      ],
      "metadata": {
        "id": "H_Latu95T4u5"
      }
    },
    {
      "cell_type": "code",
      "source": [
        "from tensorflow.keras.models import Sequential\n",
        "from tensorflow.keras.layers import Conv2D, MaxPooling2D, Dropout, Flatten, Dense, BatchNormalization, Activation\n",
        "from tensorflow.keras.callbacks import ModelCheckpoint, EarlyStopping\n",
        "import tensorflow as tf\n",
        "tf.config.run_functions_eagerly(True)\n",
        "\n",
        "with tf.device('/device:GPU:0'):\n",
        "    model10 = Sequential()\n",
        "\n",
        "    model10.add(Conv2D(32, (3,3), padding=\"same\", input_shape=X_train.shape[1:]))\n",
        "    model10.add(BatchNormalization())\n",
        "    model10.add(Activation(\"relu\"))\n",
        "    model10.add(MaxPooling2D(pool_size=(2,2)))\n",
        "    model10.add(Dropout(0.25))\n",
        "\n",
        "    model10.add(Conv2D(64, (3,3), padding=\"same\"))\n",
        "    model10.add(BatchNormalization())\n",
        "    model10.add(Activation(\"relu\"))\n",
        "    model10.add(MaxPooling2D(pool_size=(2,2)))\n",
        "    model10.add(Dropout(0.25))\n",
        "\n",
        "    model10.add(Conv2D(128, (3,3), padding=\"same\"))\n",
        "    model10.add(BatchNormalization())\n",
        "    model10.add(Activation(\"relu\"))\n",
        "    model10.add(Conv2D(128, (3,3), padding=\"same\"))\n",
        "    model10.add(BatchNormalization())\n",
        "    model10.add(Activation(\"relu\"))\n",
        "    model10.add(MaxPooling2D(pool_size=(2,2)))\n",
        "    model10.add(Dropout(0.25))\n",
        "\n",
        "    model10.add(Flatten())\n",
        "    model10.add(Dense(256, activation='relu'))\n",
        "    model10.add(Dropout(0.5))\n",
        "    model10.add(Dense(num_classes, activation='softmax'))\n",
        "\n",
        "    model10.compile(loss='categorical_crossentropy', optimizer='Adamax', metrics=['accuracy'])\n",
        "\n",
        "    model_dir = './model10'\n",
        "    model_path = model_dir + \"/cloud_classify.model10\"\n",
        "\n",
        "    checkpoint = ModelCheckpoint(filepath=model_path, monitor='val_loss', verbose=1, save_best_only=True)\n",
        "    early_stopping = EarlyStopping(monitor='val_loss', patience=6)\n"
      ],
      "metadata": {
        "id": "tATd1F5wUllI"
      },
      "execution_count": 146,
      "outputs": []
    },
    {
      "cell_type": "code",
      "source": [
        "model10.summary()"
      ],
      "metadata": {
        "colab": {
          "base_uri": "https://localhost:8080/"
        },
        "id": "z0vWDyy1U4Hm",
        "outputId": "8ca138b2-acfd-479d-beaa-0240421734e0"
      },
      "execution_count": 147,
      "outputs": [
        {
          "output_type": "stream",
          "name": "stdout",
          "text": [
            "Model: \"sequential_15\"\n",
            "_________________________________________________________________\n",
            " Layer (type)                Output Shape              Param #   \n",
            "=================================================================\n",
            " conv2d_44 (Conv2D)          (None, 64, 64, 32)        896       \n",
            "                                                                 \n",
            " batch_normalization_26 (Bat  (None, 64, 64, 32)       128       \n",
            " chNormalization)                                                \n",
            "                                                                 \n",
            " activation_16 (Activation)  (None, 64, 64, 32)        0         \n",
            "                                                                 \n",
            " max_pooling2d_37 (MaxPoolin  (None, 32, 32, 32)       0         \n",
            " g2D)                                                            \n",
            "                                                                 \n",
            " dropout_52 (Dropout)        (None, 32, 32, 32)        0         \n",
            "                                                                 \n",
            " conv2d_45 (Conv2D)          (None, 32, 32, 64)        18496     \n",
            "                                                                 \n",
            " batch_normalization_27 (Bat  (None, 32, 32, 64)       256       \n",
            " chNormalization)                                                \n",
            "                                                                 \n",
            " activation_17 (Activation)  (None, 32, 32, 64)        0         \n",
            "                                                                 \n",
            " max_pooling2d_38 (MaxPoolin  (None, 16, 16, 64)       0         \n",
            " g2D)                                                            \n",
            "                                                                 \n",
            " dropout_53 (Dropout)        (None, 16, 16, 64)        0         \n",
            "                                                                 \n",
            " conv2d_46 (Conv2D)          (None, 16, 16, 128)       73856     \n",
            "                                                                 \n",
            " batch_normalization_28 (Bat  (None, 16, 16, 128)      512       \n",
            " chNormalization)                                                \n",
            "                                                                 \n",
            " activation_18 (Activation)  (None, 16, 16, 128)       0         \n",
            "                                                                 \n",
            " conv2d_47 (Conv2D)          (None, 16, 16, 128)       147584    \n",
            "                                                                 \n",
            " batch_normalization_29 (Bat  (None, 16, 16, 128)      512       \n",
            " chNormalization)                                                \n",
            "                                                                 \n",
            " activation_19 (Activation)  (None, 16, 16, 128)       0         \n",
            "                                                                 \n",
            " max_pooling2d_39 (MaxPoolin  (None, 8, 8, 128)        0         \n",
            " g2D)                                                            \n",
            "                                                                 \n",
            " dropout_54 (Dropout)        (None, 8, 8, 128)         0         \n",
            "                                                                 \n",
            " flatten_15 (Flatten)        (None, 8192)              0         \n",
            "                                                                 \n",
            " dense_30 (Dense)            (None, 256)               2097408   \n",
            "                                                                 \n",
            " dropout_55 (Dropout)        (None, 256)               0         \n",
            "                                                                 \n",
            " dense_31 (Dense)            (None, 5)                 1285      \n",
            "                                                                 \n",
            "=================================================================\n",
            "Total params: 2,340,933\n",
            "Trainable params: 2,340,229\n",
            "Non-trainable params: 704\n",
            "_________________________________________________________________\n"
          ]
        }
      ]
    },
    {
      "cell_type": "code",
      "source": [
        "history = model10.fit(X_train, y_train, batch_size=32, epochs=100, validation_split=0.1)\n",
        "#callbacks=[checkpoint, early_stopping]"
      ],
      "metadata": {
        "colab": {
          "base_uri": "https://localhost:8080/"
        },
        "id": "4A4L6qbqU5xf",
        "outputId": "708cb2a9-dfd6-4ae0-c428-9625291d00a2"
      },
      "execution_count": 148,
      "outputs": [
        {
          "output_type": "stream",
          "name": "stdout",
          "text": [
            "Epoch 1/100\n",
            "362/362 [==============================] - 30s 83ms/step - loss: 1.5183 - accuracy: 0.4567 - val_loss: 1.5280 - val_accuracy: 0.2949\n",
            "Epoch 2/100\n",
            "362/362 [==============================] - 30s 83ms/step - loss: 1.1872 - accuracy: 0.5313 - val_loss: 1.1432 - val_accuracy: 0.5362\n",
            "Epoch 3/100\n",
            "362/362 [==============================] - 30s 84ms/step - loss: 1.0954 - accuracy: 0.5721 - val_loss: 1.0557 - val_accuracy: 0.5961\n",
            "Epoch 4/100\n",
            "362/362 [==============================] - 30s 82ms/step - loss: 1.0417 - accuracy: 0.5992 - val_loss: 0.9948 - val_accuracy: 0.6031\n",
            "Epoch 5/100\n",
            "362/362 [==============================] - 30s 83ms/step - loss: 0.9780 - accuracy: 0.6268 - val_loss: 0.9008 - val_accuracy: 0.6576\n",
            "Epoch 6/100\n",
            "362/362 [==============================] - 30s 84ms/step - loss: 0.9156 - accuracy: 0.6480 - val_loss: 0.8396 - val_accuracy: 0.6763\n",
            "Epoch 7/100\n",
            "362/362 [==============================] - 30s 84ms/step - loss: 0.8586 - accuracy: 0.6742 - val_loss: 1.0963 - val_accuracy: 0.5650\n",
            "Epoch 8/100\n",
            "362/362 [==============================] - 30s 84ms/step - loss: 0.8282 - accuracy: 0.6858 - val_loss: 0.8200 - val_accuracy: 0.6872\n",
            "Epoch 9/100\n",
            "362/362 [==============================] - 30s 83ms/step - loss: 0.7704 - accuracy: 0.7094 - val_loss: 0.8054 - val_accuracy: 0.6903\n",
            "Epoch 10/100\n",
            "362/362 [==============================] - 30s 83ms/step - loss: 0.7420 - accuracy: 0.7203 - val_loss: 0.8581 - val_accuracy: 0.6825\n",
            "Epoch 11/100\n",
            "362/362 [==============================] - 30s 83ms/step - loss: 0.6996 - accuracy: 0.7380 - val_loss: 1.1067 - val_accuracy: 0.6047\n",
            "Epoch 12/100\n",
            "362/362 [==============================] - 30s 84ms/step - loss: 0.6565 - accuracy: 0.7521 - val_loss: 0.5663 - val_accuracy: 0.7774\n",
            "Epoch 13/100\n",
            "362/362 [==============================] - 30s 84ms/step - loss: 0.6257 - accuracy: 0.7646 - val_loss: 0.7653 - val_accuracy: 0.7121\n",
            "Epoch 14/100\n",
            "362/362 [==============================] - 30s 83ms/step - loss: 0.6091 - accuracy: 0.7657 - val_loss: 0.6247 - val_accuracy: 0.7642\n",
            "Epoch 15/100\n",
            "362/362 [==============================] - 30s 84ms/step - loss: 0.5679 - accuracy: 0.7816 - val_loss: 0.6339 - val_accuracy: 0.7696\n",
            "Epoch 16/100\n",
            "362/362 [==============================] - 30s 84ms/step - loss: 0.5440 - accuracy: 0.7928 - val_loss: 0.5113 - val_accuracy: 0.8070\n",
            "Epoch 17/100\n",
            "362/362 [==============================] - 30s 84ms/step - loss: 0.5287 - accuracy: 0.7977 - val_loss: 0.5325 - val_accuracy: 0.7813\n",
            "Epoch 18/100\n",
            "362/362 [==============================] - 30s 83ms/step - loss: 0.5018 - accuracy: 0.8054 - val_loss: 0.7510 - val_accuracy: 0.7409\n",
            "Epoch 19/100\n",
            "362/362 [==============================] - 30s 83ms/step - loss: 0.4801 - accuracy: 0.8160 - val_loss: 0.4543 - val_accuracy: 0.8311\n",
            "Epoch 20/100\n",
            "362/362 [==============================] - 30s 83ms/step - loss: 0.4604 - accuracy: 0.8235 - val_loss: 0.4852 - val_accuracy: 0.8101\n",
            "Epoch 21/100\n",
            "362/362 [==============================] - 30s 83ms/step - loss: 0.4477 - accuracy: 0.8307 - val_loss: 1.2107 - val_accuracy: 0.6685\n",
            "Epoch 22/100\n",
            "362/362 [==============================] - 30s 83ms/step - loss: 0.4370 - accuracy: 0.8317 - val_loss: 0.4009 - val_accuracy: 0.8490\n",
            "Epoch 23/100\n",
            "362/362 [==============================] - 30s 83ms/step - loss: 0.4223 - accuracy: 0.8367 - val_loss: 0.6572 - val_accuracy: 0.7743\n",
            "Epoch 24/100\n",
            "362/362 [==============================] - 30s 82ms/step - loss: 0.4050 - accuracy: 0.8437 - val_loss: 0.7164 - val_accuracy: 0.7767\n",
            "Epoch 25/100\n",
            "362/362 [==============================] - 30s 83ms/step - loss: 0.3729 - accuracy: 0.8544 - val_loss: 0.4661 - val_accuracy: 0.8397\n",
            "Epoch 26/100\n",
            "362/362 [==============================] - 30s 83ms/step - loss: 0.3755 - accuracy: 0.8566 - val_loss: 0.5957 - val_accuracy: 0.7953\n",
            "Epoch 27/100\n",
            "362/362 [==============================] - 30s 83ms/step - loss: 0.3549 - accuracy: 0.8622 - val_loss: 1.0869 - val_accuracy: 0.7175\n",
            "Epoch 28/100\n",
            "362/362 [==============================] - 30s 83ms/step - loss: 0.3456 - accuracy: 0.8670 - val_loss: 0.8964 - val_accuracy: 0.7455\n",
            "Epoch 29/100\n",
            "362/362 [==============================] - 30s 83ms/step - loss: 0.3413 - accuracy: 0.8680 - val_loss: 0.2952 - val_accuracy: 0.8833\n",
            "Epoch 30/100\n",
            "362/362 [==============================] - 30s 84ms/step - loss: 0.3171 - accuracy: 0.8792 - val_loss: 0.4342 - val_accuracy: 0.8436\n",
            "Epoch 31/100\n",
            "362/362 [==============================] - 30s 84ms/step - loss: 0.3185 - accuracy: 0.8774 - val_loss: 0.2962 - val_accuracy: 0.8903\n",
            "Epoch 32/100\n",
            "362/362 [==============================] - 30s 84ms/step - loss: 0.3066 - accuracy: 0.8804 - val_loss: 0.3320 - val_accuracy: 0.8817\n",
            "Epoch 33/100\n",
            "362/362 [==============================] - 30s 84ms/step - loss: 0.3200 - accuracy: 0.8751 - val_loss: 0.3711 - val_accuracy: 0.8646\n",
            "Epoch 34/100\n",
            "362/362 [==============================] - 30s 83ms/step - loss: 0.2846 - accuracy: 0.8892 - val_loss: 0.7006 - val_accuracy: 0.7728\n",
            "Epoch 35/100\n",
            "362/362 [==============================] - 30s 83ms/step - loss: 0.2769 - accuracy: 0.8893 - val_loss: 0.3688 - val_accuracy: 0.8840\n",
            "Epoch 36/100\n",
            "362/362 [==============================] - 30s 82ms/step - loss: 0.2833 - accuracy: 0.8912 - val_loss: 0.4094 - val_accuracy: 0.8482\n",
            "Epoch 37/100\n",
            "362/362 [==============================] - 30s 83ms/step - loss: 0.2593 - accuracy: 0.8975 - val_loss: 0.3561 - val_accuracy: 0.8802\n",
            "Epoch 38/100\n",
            "362/362 [==============================] - 30s 83ms/step - loss: 0.2636 - accuracy: 0.8980 - val_loss: 0.2715 - val_accuracy: 0.8911\n",
            "Epoch 39/100\n",
            "362/362 [==============================] - 30s 83ms/step - loss: 0.2466 - accuracy: 0.9012 - val_loss: 0.4825 - val_accuracy: 0.8506\n",
            "Epoch 40/100\n",
            "362/362 [==============================] - 31s 86ms/step - loss: 0.2453 - accuracy: 0.9043 - val_loss: 0.2509 - val_accuracy: 0.9004\n",
            "Epoch 41/100\n",
            "362/362 [==============================] - 32s 88ms/step - loss: 0.2445 - accuracy: 0.9040 - val_loss: 0.2415 - val_accuracy: 0.9136\n",
            "Epoch 42/100\n",
            "362/362 [==============================] - 32s 89ms/step - loss: 0.2280 - accuracy: 0.9092 - val_loss: 0.2338 - val_accuracy: 0.9136\n",
            "Epoch 43/100\n",
            "362/362 [==============================] - 31s 87ms/step - loss: 0.2357 - accuracy: 0.9068 - val_loss: 1.7268 - val_accuracy: 0.6903\n",
            "Epoch 44/100\n",
            "362/362 [==============================] - 32s 87ms/step - loss: 0.2246 - accuracy: 0.9137 - val_loss: 0.3691 - val_accuracy: 0.8778\n",
            "Epoch 45/100\n",
            "362/362 [==============================] - 31s 87ms/step - loss: 0.2190 - accuracy: 0.9161 - val_loss: 0.3268 - val_accuracy: 0.8918\n",
            "Epoch 46/100\n",
            "362/362 [==============================] - 31s 86ms/step - loss: 0.2142 - accuracy: 0.9140 - val_loss: 0.9004 - val_accuracy: 0.7813\n",
            "Epoch 47/100\n",
            "362/362 [==============================] - 31s 85ms/step - loss: 0.1978 - accuracy: 0.9212 - val_loss: 0.2452 - val_accuracy: 0.9113\n",
            "Epoch 48/100\n",
            "362/362 [==============================] - 32s 89ms/step - loss: 0.2014 - accuracy: 0.9218 - val_loss: 0.2209 - val_accuracy: 0.9237\n",
            "Epoch 49/100\n",
            "362/362 [==============================] - 32s 89ms/step - loss: 0.1829 - accuracy: 0.9268 - val_loss: 0.2231 - val_accuracy: 0.9113\n",
            "Epoch 50/100\n",
            "362/362 [==============================] - 32s 89ms/step - loss: 0.1880 - accuracy: 0.9277 - val_loss: 0.1882 - val_accuracy: 0.9307\n",
            "Epoch 51/100\n",
            "362/362 [==============================] - 32s 89ms/step - loss: 0.1880 - accuracy: 0.9282 - val_loss: 0.1878 - val_accuracy: 0.9268\n",
            "Epoch 52/100\n",
            "362/362 [==============================] - 33s 90ms/step - loss: 0.1835 - accuracy: 0.9279 - val_loss: 0.6785 - val_accuracy: 0.8125\n",
            "Epoch 53/100\n",
            "362/362 [==============================] - 32s 90ms/step - loss: 0.1787 - accuracy: 0.9291 - val_loss: 0.2283 - val_accuracy: 0.9206\n",
            "Epoch 54/100\n",
            "362/362 [==============================] - 32s 89ms/step - loss: 0.1803 - accuracy: 0.9292 - val_loss: 0.2171 - val_accuracy: 0.9152\n",
            "Epoch 55/100\n",
            "362/362 [==============================] - 32s 90ms/step - loss: 0.1709 - accuracy: 0.9324 - val_loss: 0.2050 - val_accuracy: 0.9276\n",
            "Epoch 56/100\n",
            "362/362 [==============================] - 32s 89ms/step - loss: 0.1661 - accuracy: 0.9365 - val_loss: 0.1840 - val_accuracy: 0.9323\n",
            "Epoch 57/100\n",
            "362/362 [==============================] - 33s 90ms/step - loss: 0.1632 - accuracy: 0.9362 - val_loss: 0.2447 - val_accuracy: 0.9128\n",
            "Epoch 58/100\n",
            "362/362 [==============================] - 33s 91ms/step - loss: 0.1605 - accuracy: 0.9378 - val_loss: 0.2225 - val_accuracy: 0.9268\n",
            "Epoch 59/100\n",
            "362/362 [==============================] - 33s 91ms/step - loss: 0.1575 - accuracy: 0.9397 - val_loss: 0.2532 - val_accuracy: 0.9136\n",
            "Epoch 60/100\n",
            "362/362 [==============================] - 33s 90ms/step - loss: 0.1543 - accuracy: 0.9403 - val_loss: 0.1471 - val_accuracy: 0.9471\n",
            "Epoch 61/100\n",
            "362/362 [==============================] - 33s 90ms/step - loss: 0.1488 - accuracy: 0.9412 - val_loss: 0.1761 - val_accuracy: 0.9393\n",
            "Epoch 62/100\n",
            "362/362 [==============================] - 33s 90ms/step - loss: 0.1583 - accuracy: 0.9363 - val_loss: 0.2253 - val_accuracy: 0.9214\n",
            "Epoch 63/100\n",
            "362/362 [==============================] - 32s 90ms/step - loss: 0.1493 - accuracy: 0.9418 - val_loss: 0.3029 - val_accuracy: 0.9128\n",
            "Epoch 64/100\n",
            "362/362 [==============================] - 33s 90ms/step - loss: 0.1392 - accuracy: 0.9446 - val_loss: 0.2711 - val_accuracy: 0.9191\n",
            "Epoch 65/100\n",
            "362/362 [==============================] - 33s 90ms/step - loss: 0.1358 - accuracy: 0.9460 - val_loss: 0.2236 - val_accuracy: 0.9268\n",
            "Epoch 66/100\n",
            "362/362 [==============================] - 33s 91ms/step - loss: 0.1469 - accuracy: 0.9431 - val_loss: 0.2454 - val_accuracy: 0.9230\n",
            "Epoch 67/100\n",
            "362/362 [==============================] - 33s 90ms/step - loss: 0.1405 - accuracy: 0.9472 - val_loss: 0.1729 - val_accuracy: 0.9362\n",
            "Epoch 68/100\n",
            "362/362 [==============================] - 33s 90ms/step - loss: 0.1277 - accuracy: 0.9491 - val_loss: 0.2208 - val_accuracy: 0.9261\n",
            "Epoch 69/100\n",
            "362/362 [==============================] - 33s 90ms/step - loss: 0.1380 - accuracy: 0.9475 - val_loss: 0.2320 - val_accuracy: 0.9300\n",
            "Epoch 70/100\n",
            "362/362 [==============================] - 32s 89ms/step - loss: 0.1292 - accuracy: 0.9504 - val_loss: 0.3832 - val_accuracy: 0.8856\n",
            "Epoch 71/100\n",
            "362/362 [==============================] - 33s 90ms/step - loss: 0.1328 - accuracy: 0.9507 - val_loss: 0.2188 - val_accuracy: 0.9331\n",
            "Epoch 72/100\n",
            "362/362 [==============================] - 33s 90ms/step - loss: 0.1269 - accuracy: 0.9504 - val_loss: 0.1946 - val_accuracy: 0.9284\n",
            "Epoch 73/100\n",
            "362/362 [==============================] - 33s 91ms/step - loss: 0.1242 - accuracy: 0.9501 - val_loss: 0.6900 - val_accuracy: 0.8389\n",
            "Epoch 74/100\n",
            "362/362 [==============================] - 33s 91ms/step - loss: 0.1226 - accuracy: 0.9526 - val_loss: 1.1549 - val_accuracy: 0.8047\n",
            "Epoch 75/100\n",
            "362/362 [==============================] - 33s 90ms/step - loss: 0.1174 - accuracy: 0.9535 - val_loss: 0.3235 - val_accuracy: 0.8934\n",
            "Epoch 76/100\n",
            "362/362 [==============================] - 33s 90ms/step - loss: 0.1136 - accuracy: 0.9551 - val_loss: 0.2195 - val_accuracy: 0.9300\n",
            "Epoch 77/100\n",
            "362/362 [==============================] - 32s 89ms/step - loss: 0.1171 - accuracy: 0.9555 - val_loss: 0.2646 - val_accuracy: 0.9261\n",
            "Epoch 78/100\n",
            "362/362 [==============================] - 33s 90ms/step - loss: 0.1207 - accuracy: 0.9531 - val_loss: 0.2430 - val_accuracy: 0.9261\n",
            "Epoch 79/100\n",
            "362/362 [==============================] - 32s 88ms/step - loss: 0.1165 - accuracy: 0.9563 - val_loss: 0.2094 - val_accuracy: 0.9393\n",
            "Epoch 80/100\n",
            "362/362 [==============================] - 32s 89ms/step - loss: 0.1036 - accuracy: 0.9602 - val_loss: 0.2377 - val_accuracy: 0.9198\n",
            "Epoch 81/100\n",
            "362/362 [==============================] - 32s 89ms/step - loss: 0.1088 - accuracy: 0.9600 - val_loss: 0.2097 - val_accuracy: 0.9331\n",
            "Epoch 82/100\n",
            "362/362 [==============================] - 33s 90ms/step - loss: 0.1070 - accuracy: 0.9594 - val_loss: 0.1787 - val_accuracy: 0.9424\n",
            "Epoch 83/100\n",
            "362/362 [==============================] - 33s 90ms/step - loss: 0.1038 - accuracy: 0.9599 - val_loss: 0.2103 - val_accuracy: 0.9323\n",
            "Epoch 84/100\n",
            "362/362 [==============================] - 32s 89ms/step - loss: 0.0949 - accuracy: 0.9638 - val_loss: 0.7491 - val_accuracy: 0.8553\n",
            "Epoch 85/100\n",
            "362/362 [==============================] - 32s 90ms/step - loss: 0.1042 - accuracy: 0.9620 - val_loss: 0.1812 - val_accuracy: 0.9447\n",
            "Epoch 86/100\n",
            "362/362 [==============================] - 32s 89ms/step - loss: 0.0998 - accuracy: 0.9611 - val_loss: 0.2338 - val_accuracy: 0.9253\n",
            "Epoch 87/100\n",
            "362/362 [==============================] - 32s 89ms/step - loss: 0.1013 - accuracy: 0.9594 - val_loss: 0.2863 - val_accuracy: 0.9051\n",
            "Epoch 88/100\n",
            "362/362 [==============================] - 32s 89ms/step - loss: 0.0965 - accuracy: 0.9633 - val_loss: 0.8032 - val_accuracy: 0.8350\n",
            "Epoch 89/100\n",
            "362/362 [==============================] - 32s 89ms/step - loss: 0.0979 - accuracy: 0.9615 - val_loss: 0.5018 - val_accuracy: 0.8872\n",
            "Epoch 90/100\n",
            "362/362 [==============================] - 32s 89ms/step - loss: 0.1025 - accuracy: 0.9602 - val_loss: 0.3294 - val_accuracy: 0.9152\n",
            "Epoch 91/100\n",
            "362/362 [==============================] - 32s 89ms/step - loss: 0.0972 - accuracy: 0.9628 - val_loss: 0.1823 - val_accuracy: 0.9463\n",
            "Epoch 92/100\n",
            "362/362 [==============================] - 32s 89ms/step - loss: 0.0918 - accuracy: 0.9641 - val_loss: 0.1827 - val_accuracy: 0.9354\n",
            "Epoch 93/100\n",
            "362/362 [==============================] - 32s 89ms/step - loss: 0.0962 - accuracy: 0.9630 - val_loss: 1.2973 - val_accuracy: 0.7907\n",
            "Epoch 94/100\n",
            "362/362 [==============================] - 32s 89ms/step - loss: 0.0838 - accuracy: 0.9681 - val_loss: 0.1715 - val_accuracy: 0.9440\n",
            "Epoch 95/100\n",
            "362/362 [==============================] - 32s 88ms/step - loss: 0.0945 - accuracy: 0.9629 - val_loss: 0.5168 - val_accuracy: 0.8833\n",
            "Epoch 96/100\n",
            "362/362 [==============================] - 32s 89ms/step - loss: 0.0910 - accuracy: 0.9657 - val_loss: 0.2447 - val_accuracy: 0.9307\n",
            "Epoch 97/100\n",
            "362/362 [==============================] - 32s 89ms/step - loss: 0.0832 - accuracy: 0.9671 - val_loss: 0.1780 - val_accuracy: 0.9494\n",
            "Epoch 98/100\n",
            "362/362 [==============================] - 32s 89ms/step - loss: 0.0830 - accuracy: 0.9675 - val_loss: 0.1767 - val_accuracy: 0.9494\n",
            "Epoch 99/100\n",
            "362/362 [==============================] - 32s 89ms/step - loss: 0.0888 - accuracy: 0.9669 - val_loss: 0.1483 - val_accuracy: 0.9580\n",
            "Epoch 100/100\n",
            "362/362 [==============================] - 32s 89ms/step - loss: 0.0807 - accuracy: 0.9694 - val_loss: 0.2748 - val_accuracy: 0.9268\n"
          ]
        }
      ]
    },
    {
      "cell_type": "code",
      "source": [
        "accuracy = np.mean(history.history['accuracy'])\n",
        "val_accuracy = np.mean(history.history['val_accuracy'])\n",
        "loss = np.mean(history.history['loss'])\n",
        "val_loss = np.mean(history.history['val_loss'])\n",
        "\n",
        "print(f\"평균 정확도: {accuracy:.4f}\")\n",
        "print(f\"평균 손실: {loss:.4f}\")\n",
        "print(f\"평균 검증 정확도: {val_accuracy:.4f}\")\n",
        "print(f\"평균 검증 손실: {val_loss:.4f}\")"
      ],
      "metadata": {
        "colab": {
          "base_uri": "https://localhost:8080/"
        },
        "id": "y3jMKJG5U7gI",
        "outputId": "007be5e0-f61c-4f77-ccad-db1ee793d8fd"
      },
      "execution_count": 156,
      "outputs": [
        {
          "output_type": "stream",
          "name": "stdout",
          "text": [
            "평균 정확도: 0.9802\n",
            "평균 손실: 0.0525\n",
            "평균 검증 정확도: 0.9378\n",
            "평균 검증 손실: 0.2821\n"
          ]
        }
      ]
    },
    {
      "cell_type": "markdown",
      "metadata": {
        "id": "uZY1m2Fis5pO"
      },
      "source": [
        "## test"
      ]
    },
    {
      "cell_type": "markdown",
      "source": [
        "### test data로 비교"
      ],
      "metadata": {
        "id": "PDTDNdJDn9ct"
      }
    },
    {
      "cell_type": "code",
      "execution_count": null,
      "metadata": {
        "id": "J8Gk51iVs6xL"
      },
      "outputs": [],
      "source": [
        "from keras.models import load_model\n",
        "\n",
        "path = \"/content/drive/MyDrive/Colab Notebooks/clouddata/test/\"\n",
        "category = os.listdir(\"/content/drive/MyDrive/Colab Notebooks/clouddata/train14\") #train위치\n",
        "\n",
        "image_w = 64\n",
        "image_h = 64\n",
        "\n",
        "pixels = image_h * image_w * 3\n",
        "\n",
        "X = []\n",
        "filenames = []\n",
        "files = glob.glob(path+\"/*.*\")\n",
        "for f in files:\n",
        "    img = Image.open(f)\n",
        "    img = img.convert(\"RGB\")\n",
        "    img = img.resize((image_w, image_h))\n",
        "    data = np.asarray(img)\n",
        "    filenames.append(f)\n",
        "    X.append(data)\n",
        "\n",
        "X = np.array(X)\n",
        "prediction_test = model10.predict(X)\n",
        "\n",
        "file_index = 0\n",
        "for i in prediction_test:\n",
        "    label = i.argmax() # [0.000, 0.000, 0.000, ..., 0.000, 1.000, 0.000] 중 최대값 추출 즉,1값의 인덱스\n",
        "    print(\"////////////////////\")\n",
        "    print( filenames[file_index].split('/')[-1] + \"의 예측되는 구름종류 : \" + category[label])\n",
        "    file_index  = file_index+1"
      ]
    },
    {
      "cell_type": "markdown",
      "source": [
        "### 직접 찍은 data로 비교"
      ],
      "metadata": {
        "id": "yafGfeJAoGKD"
      }
    },
    {
      "cell_type": "code",
      "source": [
        "def weather (label) :\n",
        "  if label == \"Cc\" :\n",
        "    print(\"눈꺼풀 구름입니다.\")\n",
        "    print(\"단일한 선 모양입니다.\")\n",
        "    print(\"날씨에 큰 영향을 미치지 않는 구름입니다.\")\n",
        "  elif label == \"Cb\" :\n",
        "    print(\"눈구름입니다.\")\n",
        "    print(\"세포 형태의 구름입니다.\")\n",
        "    print(\"번개, 천둥, 강한 바람과 폭우가 내릴 수 있습니다. 외출을 자제해주세요!\")\n",
        "  elif label == \"Ns\" :\n",
        "    print(\"적란운입니다.\")\n",
        "    print(\"수직 형태의 구름입니다.\")\n",
        "    print(\"비, 이슬비가 내릴 수 있습니다. 우산을 챙겨 외출해주세요!\")\n",
        "  elif label == \"Sc\" :\n",
        "    print(\"층운입니다.\")\n",
        "    print(\"둥글고 조각난 모양의 구름입니다.\")\n",
        "    print(\"안정된 날씨에 발생하는 구름입니다. 마음놓고 외출하셔도 좋습니다!\")\n",
        "  elif label == \"St\" :\n",
        "    print(\"적운입니다.\")\n",
        "    print(\"평평하고 수평으로 퍼진 모양의 구름입니다.\")\n",
        "    print(\"약한 강수나 가벼운 이슬비가 내릴 수 있습니다. 흐림과 안개를 동반합니다. 우산을 챙겨 외출해주세요!\")"
      ],
      "metadata": {
        "id": "oC1Zyo1SXqVu"
      },
      "execution_count": 153,
      "outputs": []
    },
    {
      "cell_type": "code",
      "source": [
        "from keras.models import load_model\n",
        "\n",
        "path2 = \"/content/drive/MyDrive/Colab Notebooks/myclouddata/\"\n",
        "category = os.listdir(\"/content/drive/MyDrive/Colab Notebooks/clouddata/train14\")\n",
        "\n",
        "image_w = 64\n",
        "image_h = 64\n",
        "\n",
        "image_w = 64\n",
        "image_h = 64\n",
        "\n",
        "pixels = image_h * image_w * 3\n",
        "\n",
        "X = []\n",
        "filenames = []\n",
        "files = glob.glob(path2+\"/*.*\")\n",
        "\n",
        "for f in files:\n",
        "    img = Image.open(f)\n",
        "    img = img.convert(\"RGB\")\n",
        "    img = img.resize((image_w, image_h))\n",
        "    data = np.asarray(img)\n",
        "    filenames.append(f)\n",
        "    X.append(data)\n",
        "\n",
        "X = np.array(X)\n",
        "prediction_test = model8.predict(X)\n",
        "\n",
        "file_index = 0\n",
        "k=0\n",
        "for i in prediction_test:\n",
        "    label = i.argmax() # [0.000, 0.000, 0.000, ..., 0.000, 1.000, 0.000] 중 최대값 추출 즉,1값의 인덱스\n",
        "    print(\"////////////////////\")\n",
        "    #사진 나타내기\n",
        "    plt.imshow(X[k])\n",
        "    plt.axis('off')\n",
        "    plt.show()\n",
        "    # 날씨 예측\n",
        "    weather(category[label])\n",
        "    print( filenames[file_index].split('/')[-1] + \"의 예측되는 구름종류 : \" + category[label])\n",
        "    file_index  = file_index+1\n",
        "    k=k+1"
      ],
      "metadata": {
        "id": "vN-F1N_8lPPc",
        "colab": {
          "base_uri": "https://localhost:8080/",
          "height": 1000
        },
        "outputId": "c57465f5-67a4-4b35-cf35-6261ef416728"
      },
      "execution_count": 155,
      "outputs": [
        {
          "output_type": "stream",
          "name": "stdout",
          "text": [
            "1/1 [==============================] - 0s 47ms/step\n",
            "////////////////////\n"
          ]
        },
        {
          "output_type": "stream",
          "name": "stderr",
          "text": [
            "/usr/local/lib/python3.10/dist-packages/tensorflow/python/data/ops/structured_function.py:254: UserWarning: Even though the `tf.config.experimental_run_functions_eagerly` option is set, this option does not apply to tf.data functions. To force eager execution of tf.data functions, please use `tf.data.experimental.enable_debug_mode()`.\n",
            "  warnings.warn(\n"
          ]
        },
        {
          "output_type": "display_data",
          "data": {
            "text/plain": [
              "<Figure size 640x480 with 1 Axes>"
            ],
            "image/png": "[encoded data removed]"
          },
          "metadata": {}
        },
        {
          "output_type": "stream",
          "name": "stdout",
          "text": [
            "눈꺼풀 구름입니다.\n",
            "단일한 선 모양입니다.\n",
            "날씨에 큰 영향을 미치지 않는 구름입니다.\n",
            "cloud2.jpg의 예측되는 구름종류 : Cc\n",
            "////////////////////\n"
          ]
        },
        {
          "output_type": "display_data",
          "data": {
            "text/plain": [
              "<Figure size 640x480 with 1 Axes>"
            ],
            "image/png": "[encoded data removed]"
          },
          "metadata": {}
        },
        {
          "output_type": "stream",
          "name": "stdout",
          "text": [
            "층운입니다.\n",
            "둥글고 조각난 모양의 구름입니다.\n",
            "안정된 날씨에 발생하는 구름입니다. 마음놓고 외출하셔도 좋습니다!\n",
            "cloud1.jpg의 예측되는 구름종류 : Sc\n",
            "////////////////////\n"
          ]
        },
        {
          "output_type": "display_data",
          "data": {
            "text/plain": [
              "<Figure size 640x480 with 1 Axes>"
            ],
            "image/png": "[encoded data removed]"
          },
          "metadata": {}
        },
        {
          "output_type": "stream",
          "name": "stdout",
          "text": [
            "눈구름입니다.\n",
            "세포 형태의 구름입니다.\n",
            "번개, 천둥, 강한 바람과 폭우가 내릴 수 있습니다. 외출을 자제해주세요!\n",
            "cloud5.jpg의 예측되는 구름종류 : Cb\n",
            "////////////////////\n"
          ]
        },
        {
          "output_type": "display_data",
          "data": {
            "text/plain": [
              "<Figure size 640x480 with 1 Axes>"
            ],
            "image/png": "[encoded data removed]"
          },
          "metadata": {}
        },
        {
          "output_type": "stream",
          "name": "stdout",
          "text": [
            "적운입니다.\n",
            "평평하고 수평으로 퍼진 모양의 구름입니다.\n",
            "약한 강수나 가벼운 이슬비가 내릴 수 있습니다. 흐림과 안개를 동반합니다. 우산을 챙겨 외출해주세요!\n",
            "cloud4.jpg의 예측되는 구름종류 : St\n",
            "////////////////////\n"
          ]
        },
        {
          "output_type": "display_data",
          "data": {
            "text/plain": [
              "<Figure size 640x480 with 1 Axes>"
            ],
            "image/png": "[encoded data removed]"
          },
          "metadata": {}
        },
        {
          "output_type": "stream",
          "name": "stdout",
          "text": [
            "적란운입니다.\n",
            "수직 형태의 구름입니다.\n",
            "비, 이슬비가 내릴 수 있습니다. 우산을 챙겨 외출해주세요!\n",
            "cloud3.jpg의 예측되는 구름종류 : Ns\n"
          ]
        }
      ]
    }
  ],
  "metadata": {
    "colab": {
      "provenance": [],
      "machine_shape": "hm",
      "gpuType": "T4",
      "toc_visible": true,
      "authorship_tag": "ABX9TyNy3dB2uI3J3PdZIkb3z5D5",
      "include_colab_link": true
    },
    "kernelspec": {
      "display_name": "Python 3",
      "name": "python3"
    },
    "language_info": {
      "name": "python"
    },
    "accelerator": "GPU"
  },
  "nbformat": 4,
  "nbformat_minor": 0
}