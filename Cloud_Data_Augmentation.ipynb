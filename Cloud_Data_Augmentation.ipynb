{
  "nbformat": 4,
  "nbformat_minor": 0,
  "metadata": {
    "colab": {
      "provenance": [],
      "toc_visible": true,
      "authorship_tag": "ABX9TyNT+nTinpnng8OWijdW7g4o",
      "include_colab_link": true
    },
    "kernelspec": {
      "name": "python3",
      "display_name": "Python 3"
    },
    "language_info": {
      "name": "python"
    }
  },
  "cells": [
    {
      "cell_type": "markdown",
      "metadata": {
        "id": "view-in-github",
        "colab_type": "text"
      },
      "source": [
        "<a href=\"https://colab.research.google.com/github/Jueunkim429/Cloud-cloud/blob/main/Cloud_Data_Augmentation.ipynb\" target=\"_parent\"><img src=\"https://colab.research.google.com/assets/colab-badge.svg\" alt=\"Open In Colab\"/></a>"
      ]
    },
    {
      "cell_type": "markdown",
      "source": [
        "## ImageDataGenerator 를 활용하여 각 구름 종류별 데이터의 수를 1500개 이상으로 늘리기"
      ],
      "metadata": {
        "id": "jXDVPcOvbv_U"
      }
    },
    {
      "cell_type": "markdown",
      "source": [
        "### 드라이브 마운드"
      ],
      "metadata": {
        "id": "9KQFo717cNnW"
      }
    },
    {
      "cell_type": "code",
      "execution_count": 10,
      "metadata": {
        "colab": {
          "base_uri": "https://localhost:8080/"
        },
        "id": "AXqhn_GRaz0j",
        "outputId": "ea34bc3d-e74b-426f-efda-c3fa2b739ee8"
      },
      "outputs": [
        {
          "output_type": "stream",
          "name": "stdout",
          "text": [
            "Drive already mounted at /content/drive; to attempt to forcibly remount, call drive.mount(\"/content/drive\", force_remount=True).\n"
          ]
        }
      ],
      "source": [
        "from google.colab import drive\n",
        "drive.mount('/content/drive')"
      ]
    },
    {
      "cell_type": "code",
      "source": [
        "import os, glob, numpy as np\n",
        "import os\n",
        "import tensorflow as tf\n",
        "from tensorflow.keras.preprocessing.image import img_to_array, load_img, array_to_img\n",
        "from keras.preprocessing.image import ImageDataGenerator"
      ],
      "metadata": {
        "id": "oXtMObLEtlGY"
      },
      "execution_count": 11,
      "outputs": []
    },
    {
      "cell_type": "markdown",
      "source": [
        "### 폴더에 접근해서 이미지 생성하기"
      ],
      "metadata": {
        "id": "3bjF1tJSc4rS"
      }
    },
    {
      "cell_type": "markdown",
      "source": [
        "#### DA1- ImageDG = ImageDataGenerator(\n",
        "        rescale=1. / 255,\n",
        "        rotation_range=15,\n",
        "        width_shift_range=0.1,\n",
        "        height_shift_range=0.1,\n",
        "        horizontal_flip=True,\n",
        "        zoom_range=0.1,\n",
        "        fill_mode='nearest'\n",
        "    )"
      ],
      "metadata": {
        "id": "HxUJsSTVtEvv"
      }
    },
    {
      "cell_type": "code",
      "source": [
        "def IDG(fname):\n",
        "    ImageDG = ImageDataGenerator(\n",
        "        rescale=1. / 255,\n",
        "        rotation_range=15,\n",
        "        width_shift_range=0.1,\n",
        "        height_shift_range=0.1,\n",
        "        horizontal_flip=True,\n",
        "        zoom_range=0.1,\n",
        "        fill_mode='nearest'\n",
        "    )\n",
        "    img = tf.keras.preprocessing.image.load_img(fname)\n",
        "    x = img_to_array(img)\n",
        "    x = x.reshape((1,) + x.shape)\n",
        "    i = 0\n",
        "\n",
        "    save=\"/content/drive/MyDrive/Colab Notebooks/clouddata/train2/Cb\"\n",
        "\n",
        "    for batch in ImageDG.flow(x, batch_size=1, save_to_dir=save, save_prefix='new',\n",
        "                              save_format='jpg'):\n",
        "      print(save)\n",
        "      i += 1\n",
        "      if i > 7:\n",
        "          break\n",
        "\n",
        "\n",
        "folder_path = '/content/drive/MyDrive/Colab Notebooks/originaldata/train/Cb'\n",
        "file_list = os.listdir(folder_path)\n",
        "\n",
        "for filename in file_list:\n",
        "    filepath = os.path.join(folder_path, filename)\n",
        "    IDG(filepath)"
      ],
      "metadata": {
        "id": "dFCV6CayvL7J"
      },
      "execution_count": null,
      "outputs": []
    },
    {
      "cell_type": "code",
      "source": [
        "def IDG(fname):\n",
        "    ImageDG = ImageDataGenerator(\n",
        "        rescale=1. / 255,\n",
        "        rotation_range=15,\n",
        "        width_shift_range=0.1,\n",
        "        height_shift_range=0.1,\n",
        "        horizontal_flip=True,\n",
        "        zoom_range=0.1,\n",
        "        fill_mode='nearest'\n",
        "    )\n",
        "    img = tf.keras.preprocessing.image.load_img(fname)\n",
        "    x = img_to_array(img)\n",
        "    x = x.reshape((1,) + x.shape)\n",
        "    i = 0\n",
        "\n",
        "    save=\"/content/drive/MyDrive/Colab Notebooks/clouddata/train2/Cc\"\n",
        "\n",
        "    for batch in ImageDG.flow(x, batch_size=1, save_to_dir=save, save_prefix='Cc_new',\n",
        "                              save_format='jpg'):\n",
        "      print(save)\n",
        "      i += 1\n",
        "      if i > 7:\n",
        "          break\n",
        "\n",
        "\n",
        "folder_path = '/content/drive/MyDrive/Colab Notebooks/originaldata/train/Cc'\n",
        "file_list = os.listdir(folder_path)\n",
        "\n",
        "for filename in file_list:\n",
        "    filepath = os.path.join(folder_path, filename)\n",
        "    IDG(filepath)"
      ],
      "metadata": {
        "id": "UbfK1mucveJq"
      },
      "execution_count": null,
      "outputs": []
    },
    {
      "cell_type": "code",
      "source": [
        "def IDG(fname):\n",
        "    ImageDG = ImageDataGenerator(\n",
        "        rescale=1. / 255,\n",
        "        rotation_range=15,\n",
        "        width_shift_range=0.1,\n",
        "        height_shift_range=0.1,\n",
        "        horizontal_flip=True,\n",
        "        zoom_range=0.1,\n",
        "        fill_mode='nearest'\n",
        "    )\n",
        "    img = tf.keras.preprocessing.image.load_img(fname)\n",
        "    x = img_to_array(img)\n",
        "    x = x.reshape((1,) + x.shape)\n",
        "    i = 0\n",
        "\n",
        "    save=\"/content/drive/MyDrive/Colab Notebooks/clouddata/train2/Ns\"\n",
        "\n",
        "    for batch in ImageDG.flow(x, batch_size=1, save_to_dir=save, save_prefix='Ns_new',\n",
        "                              save_format='jpg'):\n",
        "      i += 1\n",
        "      if i > 7:\n",
        "          break\n",
        "\n",
        "\n",
        "folder_path = '/content/drive/MyDrive/Colab Notebooks/originaldata/train/Ns'\n",
        "file_list = os.listdir(folder_path)\n",
        "\n",
        "for filename in file_list:\n",
        "    filepath = os.path.join(folder_path, filename)\n",
        "    IDG(filepath)"
      ],
      "metadata": {
        "id": "H6_cCaL6vgXx"
      },
      "execution_count": 14,
      "outputs": []
    },
    {
      "cell_type": "code",
      "source": [
        "def IDG(fname):\n",
        "    ImageDG = ImageDataGenerator(\n",
        "        rescale=1. / 255,\n",
        "        rotation_range=15,\n",
        "        width_shift_range=0.1,\n",
        "        height_shift_range=0.1,\n",
        "        horizontal_flip=True,\n",
        "        zoom_range=0.1,\n",
        "        fill_mode='nearest'\n",
        "    )\n",
        "    img = tf.keras.preprocessing.image.load_img(fname)\n",
        "    x = img_to_array(img)\n",
        "    x = x.reshape((1,) + x.shape)\n",
        "    i = 0\n",
        "\n",
        "    for batch in ImageDG.flow(x, batch_size=1, save_to_dir=save, save_prefix='Sc_new',\n",
        "                              save_format='jpg'):\n",
        "      print(save)\n",
        "      i += 1\n",
        "      if i > 7:\n",
        "          break\n",
        "\n",
        "\n",
        "folder_path = '/content/drive/MyDrive/Colab Notebooks/originaldata/train/Sc'\n",
        "file_list = os.listdir(folder_path)\n",
        "\n",
        "for filename in file_list:\n",
        "    filepath = os.path.join(folder_path, filename)\n",
        "    IDG(filepath)"
      ],
      "metadata": {
        "id": "RG1m7wDRviWG"
      },
      "execution_count": null,
      "outputs": []
    },
    {
      "cell_type": "code",
      "source": [
        "def IDG(fname):\n",
        "    ImageDG = ImageDataGenerator(\n",
        "        rescale=1. / 255,\n",
        "        rotation_range=15,\n",
        "        width_shift_range=0.1,\n",
        "        height_shift_range=0.1,\n",
        "        horizontal_flip=True,\n",
        "        zoom_range=0.1,\n",
        "        fill_mode='nearest'\n",
        "    )\n",
        "    img = tf.keras.preprocessing.image.load_img(fname)\n",
        "    x = img_to_array(img)\n",
        "    x = x.reshape((1,) + x.shape)\n",
        "    i = 0\n",
        "\n",
        "    save=\"/content/drive/MyDrive/Colab Notebooks/clouddata/train2/St\"\n",
        "\n",
        "    for batch in ImageDG.flow(x, batch_size=1, save_to_dir=save, save_prefix='St_new',\n",
        "                              save_format='jpg'):\n",
        "      print(save)\n",
        "      i += 1\n",
        "      if i > 7:\n",
        "          break\n",
        "\n",
        "folder_path = '/content/drive/MyDrive/Colab Notebooks/originaldata/train/St'\n",
        "file_list = os.listdir(folder_path)\n",
        "\n",
        "for filename in file_list:\n",
        "    filepath = os.path.join(folder_path, filename)\n",
        "    IDG(filepath)"
      ],
      "metadata": {
        "id": "JHu5orYIvkrq"
      },
      "execution_count": null,
      "outputs": []
    },
    {
      "cell_type": "markdown",
      "source": [
        "#### DA2- ImageDG = ImageDataGenerator(\n",
        "        rescale=1. / 255,\n",
        "        rotation_range=30,\n",
        "        width_shift_range=0.4,\n",
        "        zoom_range=0.2,\n",
        "        fill_mode='nearest',\n",
        "        brightness_range=(0.7, 1.3)  # 밝기 범위 지정\n",
        "    )"
      ],
      "metadata": {
        "id": "OVQtmeTIwguj"
      }
    },
    {
      "cell_type": "code",
      "source": [
        "def IDG(filename):\n",
        "    ImageDG = tf.keras.preprocessing.image.ImageDataGenerator(\n",
        "        rescale=1. / 255,\n",
        "        rotation_range=30,\n",
        "        width_shift_range=0.4,\n",
        "        zoom_range=0.2,\n",
        "        fill_mode='nearest',\n",
        "        brightness_range=(0.7, 1.3)  # 밝기 범위 지정\n",
        "    )\n",
        "\n",
        "    img = tf.keras.preprocessing.image.load_img(fname)\n",
        "    x = img_to_array(img)\n",
        "    x = x.reshape((1,) + x.shape)\n",
        "    i = 0\n",
        "\n",
        "    save=\"/content/drive/MyDrive/Colab Notebooks/clouddata/train2/Cb\"\n",
        "\n",
        "    for batch in ImageDG.flow(x, batch_size=1, save_to_dir=save, save_prefix='Cb_DA2',\n",
        "                              save_format='jpg'):\n",
        "      print(save)\n",
        "      i += 1\n",
        "      if i > 7:\n",
        "          break\n",
        "\n",
        "folder_path = '/content/drive/MyDrive/Colab Notebooks/originaldata/train/Cb'\n",
        "file_list = os.listdir(folder_path)\n",
        "\n",
        "for filename in file_list:\n",
        "    filepath = os.path.join(folder_path, filename)\n",
        "    IDG(filepath)"
      ],
      "metadata": {
        "id": "1UuQ-LvPvmfH"
      },
      "execution_count": null,
      "outputs": []
    },
    {
      "cell_type": "code",
      "source": [
        "def IDG(filename):\n",
        "    ImageDG = tf.keras.preprocessing.image.ImageDataGenerator(\n",
        "        rescale=1. / 255,\n",
        "        rotation_range=30,\n",
        "        width_shift_range=0.4,\n",
        "        zoom_range=0.2,\n",
        "        fill_mode='nearest',\n",
        "        brightness_range=(0.7, 1.3)  # 밝기 범위 지정\n",
        "    )\n",
        "\n",
        "    img = tf.keras.preprocessing.image.load_img(fname)\n",
        "    x = img_to_array(img)\n",
        "    x = x.reshape((1,) + x.shape)\n",
        "    i = 0\n",
        "\n",
        "    save=\"/content/drive/MyDrive/Colab Notebooks/clouddata/train2/Cc\"\n",
        "\n",
        "    for batch in ImageDG.flow(x, batch_size=1, save_to_dir=save, save_prefix='Cc_DA2',\n",
        "                              save_format='jpg'):\n",
        "      print(save)\n",
        "      i += 1\n",
        "      if i > 7:\n",
        "          break\n",
        "\n",
        "folder_path = '/content/drive/MyDrive/Colab Notebooks/originaldata/train/Cc'\n",
        "file_list = os.listdir(folder_path)\n",
        "\n",
        "for filename in file_list:\n",
        "    filepath = os.path.join(folder_path, filename)\n",
        "    IDG(filepath)"
      ],
      "metadata": {
        "id": "o6gFmM8XyqYn"
      },
      "execution_count": null,
      "outputs": []
    },
    {
      "cell_type": "code",
      "source": [
        "def IDG(filename):\n",
        "    ImageDG = tf.keras.preprocessing.image.ImageDataGenerator(\n",
        "        rescale=1. / 255,\n",
        "        rotation_range=30,\n",
        "        width_shift_range=0.4,\n",
        "        zoom_range=0.2,\n",
        "        fill_mode='nearest',\n",
        "        brightness_range=(0.7, 1.3)  # 밝기 범위 지정\n",
        "    )\n",
        "\n",
        "    img = tf.keras.preprocessing.image.load_img(fname)\n",
        "    x = img_to_array(img)\n",
        "    x = x.reshape((1,) + x.shape)\n",
        "    i = 0\n",
        "\n",
        "    save=\"/content/drive/MyDrive/Colab Notebooks/clouddata/train2/Ns\"\n",
        "\n",
        "    for batch in ImageDG.flow(x, batch_size=1, save_to_dir=save, save_prefix='Ns_DA2',\n",
        "                              save_format='jpg'):\n",
        "      print(save)\n",
        "      i += 1\n",
        "      if i > 7:\n",
        "          break\n",
        "\n",
        "folder_path = '/content/drive/MyDrive/Colab Notebooks/originaldata/train/Ns'\n",
        "file_list = os.listdir(folder_path)\n",
        "\n",
        "for filename in file_list:\n",
        "    filepath = os.path.join(folder_path, filename)\n",
        "    IDG(filepath)"
      ],
      "metadata": {
        "id": "T3WR73cLzpwc"
      },
      "execution_count": null,
      "outputs": []
    },
    {
      "cell_type": "code",
      "source": [
        "def IDG(filename):\n",
        "    ImageDG = tf.keras.preprocessing.image.ImageDataGenerator(\n",
        "        rescale=1. / 255,\n",
        "        rotation_range=30,\n",
        "        width_shift_range=0.4,\n",
        "        zoom_range=0.2,\n",
        "        fill_mode='nearest',\n",
        "        brightness_range=(0.7, 1.3)  # 밝기 범위 지정\n",
        "    )\n",
        "\n",
        "    img = tf.keras.preprocessing.image.load_img(fname)\n",
        "    x = img_to_array(img)\n",
        "    x = x.reshape((1,) + x.shape)\n",
        "    i = 0\n",
        "\n",
        "    save=\"/content/drive/MyDrive/Colab Notebooks/clouddata/train2/Sc\"\n",
        "\n",
        "    for batch in ImageDG.flow(x, batch_size=1, save_to_dir=save, save_prefix='Sc_DA2',\n",
        "                              save_format='jpg'):\n",
        "      print(save)\n",
        "      i += 1\n",
        "      if i > 7:\n",
        "          break\n",
        "\n",
        "folder_path = '/content/drive/MyDrive/Colab Notebooks/originaldata/train/Sc'\n",
        "file_list = os.listdir(folder_path)\n",
        "\n",
        "for filename in file_list:\n",
        "    filepath = os.path.join(folder_path, filename)\n",
        "    IDG(filepath)"
      ],
      "metadata": {
        "id": "46sHnEPlzu21"
      },
      "execution_count": null,
      "outputs": []
    },
    {
      "cell_type": "code",
      "source": [
        "def IDG(filename):\n",
        "    ImageDG = tf.keras.preprocessing.image.ImageDataGenerator(\n",
        "        rescale=1. / 255,\n",
        "        rotation_range=30,\n",
        "        width_shift_range=0.4,\n",
        "        zoom_range=0.2,\n",
        "        fill_mode='nearest',\n",
        "        brightness_range=(0.7, 1.3)  # 밝기 범위 지정\n",
        "    )\n",
        "\n",
        "    img = tf.keras.preprocessing.image.load_img(fname)\n",
        "    x = img_to_array(img)\n",
        "    x = x.reshape((1,) + x.shape)\n",
        "    i = 0\n",
        "\n",
        "    save=\"/content/drive/MyDrive/Colab Notebooks/clouddata/train2/St\"\n",
        "\n",
        "    for batch in ImageDG.flow(x, batch_size=1, save_to_dir=save, save_prefix='St_DA2',\n",
        "                              save_format='jpg'):\n",
        "      print(save)\n",
        "      i += 1\n",
        "      if i > 7:\n",
        "          break\n",
        "\n",
        "\n",
        "folder_path = '/content/drive/MyDrive/Colab Notebooks/originaldata/train/St'\n",
        "file_list = os.listdir(folder_path)\n",
        "\n",
        "for filename in file_list:\n",
        "    filepath = os.path.join(folder_path, filename)\n",
        "    IDG(filepath)"
      ],
      "metadata": {
        "id": "9dAh_oLuzxG4"
      },
      "execution_count": null,
      "outputs": []
    }
  ]
}