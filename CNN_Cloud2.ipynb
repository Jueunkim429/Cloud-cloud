{
  "cells": [
    {
      "cell_type": "markdown",
      "metadata": {
        "id": "view-in-github",
        "colab_type": "text"
      },
      "source": [
        "<a href=\"https://colab.research.google.com/github/Jueunkim429/Cloud-cloud/blob/main/CNN_Cloud2.ipynb\" target=\"_parent\"><img src=\"https://colab.research.google.com/assets/colab-badge.svg\" alt=\"Open In Colab\"/></a>"
      ]
    },
    {
      "cell_type": "code",
      "execution_count": null,
      "metadata": {
        "colab": {
          "base_uri": "https://localhost:8080/"
        },
        "id": "EX70GOa1pgC3",
        "outputId": "640096be-970c-40c7-9824-ca8626f7dc60"
      },
      "outputs": [
        {
          "output_type": "stream",
          "name": "stdout",
          "text": [
            "Looking in indexes: https://pypi.org/simple, https://us-python.pkg.dev/colab-wheels/public/simple/\n",
            "Requirement already satisfied: libarchive-c in /usr/local/lib/python3.10/dist-packages (4.0)\n"
          ]
        }
      ],
      "source": [
        "!pip install libarchive-c"
      ]
    },
    {
      "cell_type": "code",
      "execution_count": null,
      "metadata": {
        "colab": {
          "base_uri": "https://localhost:8080/"
        },
        "id": "GuEb_3v7pzfI",
        "outputId": "c5c33ee5-9401-4214-b408-886bd51bb09b"
      },
      "outputs": [
        {
          "output_type": "stream",
          "name": "stdout",
          "text": [
            "Looking in indexes: https://pypi.org/simple, https://us-python.pkg.dev/colab-wheels/public/simple/\n",
            "Requirement already satisfied: cartopy in /usr/local/lib/python3.10/dist-packages (0.21.1)\n",
            "Requirement already satisfied: numpy>=1.18 in /usr/local/lib/python3.10/dist-packages (from cartopy) (1.22.4)\n",
            "Requirement already satisfied: matplotlib>=3.1 in /usr/local/lib/python3.10/dist-packages (from cartopy) (3.7.1)\n",
            "Requirement already satisfied: shapely>=1.6.4 in /usr/local/lib/python3.10/dist-packages (from cartopy) (2.0.1)\n",
            "Requirement already satisfied: pyshp>=2.1 in /usr/local/lib/python3.10/dist-packages (from cartopy) (2.3.1)\n",
            "Requirement already satisfied: pyproj>=3.0.0 in /usr/local/lib/python3.10/dist-packages (from cartopy) (3.6.0)\n",
            "Requirement already satisfied: contourpy>=1.0.1 in /usr/local/lib/python3.10/dist-packages (from matplotlib>=3.1->cartopy) (1.0.7)\n",
            "Requirement already satisfied: cycler>=0.10 in /usr/local/lib/python3.10/dist-packages (from matplotlib>=3.1->cartopy) (0.11.0)\n",
            "Requirement already satisfied: fonttools>=4.22.0 in /usr/local/lib/python3.10/dist-packages (from matplotlib>=3.1->cartopy) (4.39.3)\n",
            "Requirement already satisfied: kiwisolver>=1.0.1 in /usr/local/lib/python3.10/dist-packages (from matplotlib>=3.1->cartopy) (1.4.4)\n",
            "Requirement already satisfied: packaging>=20.0 in /usr/local/lib/python3.10/dist-packages (from matplotlib>=3.1->cartopy) (23.1)\n",
            "Requirement already satisfied: pillow>=6.2.0 in /usr/local/lib/python3.10/dist-packages (from matplotlib>=3.1->cartopy) (8.4.0)\n",
            "Requirement already satisfied: pyparsing>=2.3.1 in /usr/local/lib/python3.10/dist-packages (from matplotlib>=3.1->cartopy) (3.0.9)\n",
            "Requirement already satisfied: python-dateutil>=2.7 in /usr/local/lib/python3.10/dist-packages (from matplotlib>=3.1->cartopy) (2.8.2)\n",
            "Requirement already satisfied: certifi in /usr/local/lib/python3.10/dist-packages (from pyproj>=3.0.0->cartopy) (2022.12.7)\n",
            "Requirement already satisfied: six>=1.5 in /usr/local/lib/python3.10/dist-packages (from python-dateutil>=2.7->matplotlib>=3.1->cartopy) (1.16.0)\n"
          ]
        }
      ],
      "source": [
        "!pip install cartopy"
      ]
    },
    {
      "cell_type": "code",
      "execution_count": null,
      "metadata": {
        "colab": {
          "base_uri": "https://localhost:8080/"
        },
        "id": "iL3ulF7qqO5y",
        "outputId": "89a2d220-0d47-4866-c6e2-1e2cad9c1729"
      },
      "outputs": [
        {
          "output_type": "stream",
          "name": "stdout",
          "text": [
            "Looking in indexes: https://pypi.org/simple, https://us-python.pkg.dev/colab-wheels/public/simple/\n",
            "Requirement already satisfied: keras in /usr/local/lib/python3.10/dist-packages (2.12.0)\n"
          ]
        }
      ],
      "source": [
        "!pip install --upgrade keras"
      ]
    },
    {
      "cell_type": "code",
      "execution_count": null,
      "metadata": {
        "colab": {
          "base_uri": "https://localhost:8080/"
        },
        "id": "G-DFi-fpqQ4O",
        "outputId": "9c1c4f9b-ff34-472d-9d07-0212c8962671"
      },
      "outputs": [
        {
          "output_type": "stream",
          "name": "stdout",
          "text": [
            "Looking in indexes: https://pypi.org/simple, https://us-python.pkg.dev/colab-wheels/public/simple/\n",
            "Requirement already satisfied: tensorflow in /usr/local/lib/python3.10/dist-packages (2.12.0)\n",
            "Requirement already satisfied: absl-py>=1.0.0 in /usr/local/lib/python3.10/dist-packages (from tensorflow) (1.4.0)\n",
            "Requirement already satisfied: astunparse>=1.6.0 in /usr/local/lib/python3.10/dist-packages (from tensorflow) (1.6.3)\n",
            "Requirement already satisfied: flatbuffers>=2.0 in /usr/local/lib/python3.10/dist-packages (from tensorflow) (23.3.3)\n",
            "Requirement already satisfied: gast<=0.4.0,>=0.2.1 in /usr/local/lib/python3.10/dist-packages (from tensorflow) (0.4.0)\n",
            "Requirement already satisfied: google-pasta>=0.1.1 in /usr/local/lib/python3.10/dist-packages (from tensorflow) (0.2.0)\n",
            "Requirement already satisfied: grpcio<2.0,>=1.24.3 in /usr/local/lib/python3.10/dist-packages (from tensorflow) (1.54.0)\n",
            "Requirement already satisfied: h5py>=2.9.0 in /usr/local/lib/python3.10/dist-packages (from tensorflow) (3.8.0)\n",
            "Requirement already satisfied: jax>=0.3.15 in /usr/local/lib/python3.10/dist-packages (from tensorflow) (0.4.10)\n",
            "Requirement already satisfied: keras<2.13,>=2.12.0 in /usr/local/lib/python3.10/dist-packages (from tensorflow) (2.12.0)\n",
            "Requirement already satisfied: libclang>=13.0.0 in /usr/local/lib/python3.10/dist-packages (from tensorflow) (16.0.0)\n",
            "Requirement already satisfied: numpy<1.24,>=1.22 in /usr/local/lib/python3.10/dist-packages (from tensorflow) (1.22.4)\n",
            "Requirement already satisfied: opt-einsum>=2.3.2 in /usr/local/lib/python3.10/dist-packages (from tensorflow) (3.3.0)\n",
            "Requirement already satisfied: packaging in /usr/local/lib/python3.10/dist-packages (from tensorflow) (23.1)\n",
            "Requirement already satisfied: protobuf!=4.21.0,!=4.21.1,!=4.21.2,!=4.21.3,!=4.21.4,!=4.21.5,<5.0.0dev,>=3.20.3 in /usr/local/lib/python3.10/dist-packages (from tensorflow) (3.20.3)\n",
            "Requirement already satisfied: setuptools in /usr/local/lib/python3.10/dist-packages (from tensorflow) (67.7.2)\n",
            "Requirement already satisfied: six>=1.12.0 in /usr/local/lib/python3.10/dist-packages (from tensorflow) (1.16.0)\n",
            "Requirement already satisfied: tensorboard<2.13,>=2.12 in /usr/local/lib/python3.10/dist-packages (from tensorflow) (2.12.2)\n",
            "Requirement already satisfied: tensorflow-estimator<2.13,>=2.12.0 in /usr/local/lib/python3.10/dist-packages (from tensorflow) (2.12.0)\n",
            "Requirement already satisfied: termcolor>=1.1.0 in /usr/local/lib/python3.10/dist-packages (from tensorflow) (2.3.0)\n",
            "Requirement already satisfied: typing-extensions>=3.6.6 in /usr/local/lib/python3.10/dist-packages (from tensorflow) (4.5.0)\n",
            "Requirement already satisfied: wrapt<1.15,>=1.11.0 in /usr/local/lib/python3.10/dist-packages (from tensorflow) (1.14.1)\n",
            "Requirement already satisfied: tensorflow-io-gcs-filesystem>=0.23.1 in /usr/local/lib/python3.10/dist-packages (from tensorflow) (0.32.0)\n",
            "Requirement already satisfied: wheel<1.0,>=0.23.0 in /usr/local/lib/python3.10/dist-packages (from astunparse>=1.6.0->tensorflow) (0.40.0)\n",
            "Requirement already satisfied: ml-dtypes>=0.1.0 in /usr/local/lib/python3.10/dist-packages (from jax>=0.3.15->tensorflow) (0.1.0)\n",
            "Requirement already satisfied: scipy>=1.7 in /usr/local/lib/python3.10/dist-packages (from jax>=0.3.15->tensorflow) (1.10.1)\n",
            "Requirement already satisfied: google-auth<3,>=1.6.3 in /usr/local/lib/python3.10/dist-packages (from tensorboard<2.13,>=2.12->tensorflow) (2.17.3)\n",
            "Requirement already satisfied: google-auth-oauthlib<1.1,>=0.5 in /usr/local/lib/python3.10/dist-packages (from tensorboard<2.13,>=2.12->tensorflow) (1.0.0)\n",
            "Requirement already satisfied: markdown>=2.6.8 in /usr/local/lib/python3.10/dist-packages (from tensorboard<2.13,>=2.12->tensorflow) (3.4.3)\n",
            "Requirement already satisfied: requests<3,>=2.21.0 in /usr/local/lib/python3.10/dist-packages (from tensorboard<2.13,>=2.12->tensorflow) (2.27.1)\n",
            "Requirement already satisfied: tensorboard-data-server<0.8.0,>=0.7.0 in /usr/local/lib/python3.10/dist-packages (from tensorboard<2.13,>=2.12->tensorflow) (0.7.0)\n",
            "Requirement already satisfied: tensorboard-plugin-wit>=1.6.0 in /usr/local/lib/python3.10/dist-packages (from tensorboard<2.13,>=2.12->tensorflow) (1.8.1)\n",
            "Requirement already satisfied: werkzeug>=1.0.1 in /usr/local/lib/python3.10/dist-packages (from tensorboard<2.13,>=2.12->tensorflow) (2.3.0)\n",
            "Requirement already satisfied: cachetools<6.0,>=2.0.0 in /usr/local/lib/python3.10/dist-packages (from google-auth<3,>=1.6.3->tensorboard<2.13,>=2.12->tensorflow) (5.3.0)\n",
            "Requirement already satisfied: pyasn1-modules>=0.2.1 in /usr/local/lib/python3.10/dist-packages (from google-auth<3,>=1.6.3->tensorboard<2.13,>=2.12->tensorflow) (0.3.0)\n",
            "Requirement already satisfied: rsa<5,>=3.1.4 in /usr/local/lib/python3.10/dist-packages (from google-auth<3,>=1.6.3->tensorboard<2.13,>=2.12->tensorflow) (4.9)\n",
            "Requirement already satisfied: requests-oauthlib>=0.7.0 in /usr/local/lib/python3.10/dist-packages (from google-auth-oauthlib<1.1,>=0.5->tensorboard<2.13,>=2.12->tensorflow) (1.3.1)\n",
            "Requirement already satisfied: urllib3<1.27,>=1.21.1 in /usr/local/lib/python3.10/dist-packages (from requests<3,>=2.21.0->tensorboard<2.13,>=2.12->tensorflow) (1.26.15)\n",
            "Requirement already satisfied: certifi>=2017.4.17 in /usr/local/lib/python3.10/dist-packages (from requests<3,>=2.21.0->tensorboard<2.13,>=2.12->tensorflow) (2022.12.7)\n",
            "Requirement already satisfied: charset-normalizer~=2.0.0 in /usr/local/lib/python3.10/dist-packages (from requests<3,>=2.21.0->tensorboard<2.13,>=2.12->tensorflow) (2.0.12)\n",
            "Requirement already satisfied: idna<4,>=2.5 in /usr/local/lib/python3.10/dist-packages (from requests<3,>=2.21.0->tensorboard<2.13,>=2.12->tensorflow) (3.4)\n",
            "Requirement already satisfied: MarkupSafe>=2.1.1 in /usr/local/lib/python3.10/dist-packages (from werkzeug>=1.0.1->tensorboard<2.13,>=2.12->tensorflow) (2.1.2)\n",
            "Requirement already satisfied: pyasn1<0.6.0,>=0.4.6 in /usr/local/lib/python3.10/dist-packages (from pyasn1-modules>=0.2.1->google-auth<3,>=1.6.3->tensorboard<2.13,>=2.12->tensorflow) (0.5.0)\n",
            "Requirement already satisfied: oauthlib>=3.0.0 in /usr/local/lib/python3.10/dist-packages (from requests-oauthlib>=0.7.0->google-auth-oauthlib<1.1,>=0.5->tensorboard<2.13,>=2.12->tensorflow) (3.2.2)\n"
          ]
        }
      ],
      "source": [
        "!pip install --upgrade tensorflow"
      ]
    },
    {
      "cell_type": "code",
      "execution_count": null,
      "metadata": {
        "id": "I9WwjvTcpLa1"
      },
      "outputs": [],
      "source": [
        "from PIL import Image\n",
        "import os, glob, numpy as np\n",
        "import os\n",
        "from sklearn.model_selection import train_test_split\n",
        "import os, glob, numpy as np\n",
        "from keras.models import Sequential\n",
        "from keras.layers import Conv2D, MaxPooling2D, Dense, Flatten, Dropout\n",
        "from keras.callbacks import EarlyStopping, ModelCheckpoint\n",
        "import matplotlib.pyplot as plt\n",
        "import tensorflow as tf\n",
        "from keras.backend import set_session as K\n",
        "from tensorflow.keras.preprocessing.image import img_to_array, load_img, array_to_img\n",
        "from keras.preprocessing.image import ImageDataGenerator\n",
        "import libarchive\n",
        "import pydot\n",
        "import cartopy"
      ]
    },
    {
      "cell_type": "code",
      "execution_count": null,
      "metadata": {
        "colab": {
          "base_uri": "https://localhost:8080/"
        },
        "id": "QCJ-nD6lq8i-",
        "outputId": "c6311a00-12f6-46e6-8044-055ff4f88146"
      },
      "outputs": [
        {
          "output_type": "stream",
          "name": "stdout",
          "text": [
            "2.12.0\n"
          ]
        }
      ],
      "source": [
        "from tensorflow.keras.preprocessing.image import load_img, img_to_array, array_to_img\n",
        "import tensorflow.keras\n",
        "print(tensorflow.keras.__version__)"
      ]
    },
    {
      "cell_type": "code",
      "execution_count": null,
      "metadata": {
        "colab": {
          "base_uri": "https://localhost:8080/"
        },
        "id": "RzqQpOpoq_JP",
        "outputId": "0aa64d91-ffb5-4465-a006-906aa4a565a3"
      },
      "outputs": [
        {
          "output_type": "stream",
          "name": "stdout",
          "text": [
            "Drive already mounted at /content/drive; to attempt to forcibly remount, call drive.mount(\"/content/drive\", force_remount=True).\n"
          ]
        }
      ],
      "source": [
        "from google.colab import drive\n",
        "drive.mount('/content/drive')"
      ]
    },
    {
      "cell_type": "markdown",
      "metadata": {
        "id": "Grjg3brBrQOb"
      },
      "source": [
        "##  ImageDataGenerator 를 활용하여 각 구름 종류별 데이터의 수를 1500개 이상으로 늘리기"
      ]
    },
    {
      "cell_type": "code",
      "execution_count": null,
      "metadata": {
        "id": "jcXQHbR8rEWm"
      },
      "outputs": [],
      "source": [
        "def IDG(fname):\n",
        "    ImageDG = ImageDataGenerator(\n",
        "        rescale=1. / 255,\n",
        "        rotation_range=15,\n",
        "        width_shift_range=0.1,\n",
        "        height_shift_range=0.1,\n",
        "        horizontal_flip=True,\n",
        "        zoom_range=0.1,\n",
        "        fill_mode='nearest'\n",
        "    )\n",
        "    img = tf.keras.preprocessing.image.load_img(fname)\n",
        "    x = img_to_array(img)\n",
        "    x = x.reshape((1,) + x.shape)\n",
        "    i = 0\n",
        "   #save = fname.split('/')[0] + \"/\" + fname.split('/')[1]+ \"/\" + fname.split('/')[2]+ \"/\" + fname.split('/')[3]+ \"/\" + fname.split('/')[4] + \"/\" + fname.split('/')[5]+ \"/\" + fname.split('/')[6]+ \"/\" + fname.split('/')[7] + \"/\"  # Modified save path based on the file's directory\n",
        "    save=\"/content/drive/MyDrive/Colab Notebooks/clouddata/train/Cb\"\n",
        "\n",
        "    for batch in ImageDG.flow(x, batch_size=1, save_to_dir=save, save_prefix='new',\n",
        "                              save_format='jpg'):\n",
        "      print(save)\n",
        "      i += 1\n",
        "      if i > 7:\n",
        "          break\n"
      ]
    },
    {
      "cell_type": "code",
      "execution_count": null,
      "metadata": {
        "colab": {
          "base_uri": "https://localhost:8080/",
          "height": 263
        },
        "id": "Mq-k8fRlsswu",
        "outputId": "fa29ffa7-a166-4d60-e0bb-c01febeb316c"
      },
      "outputs": [
        {
          "output_type": "error",
          "ename": "NotADirectoryError",
          "evalue": "ignored",
          "traceback": [
            "\u001b[0;31m---------------------------------------------------------------------------\u001b[0m",
            "\u001b[0;31mNotADirectoryError\u001b[0m                        Traceback (most recent call last)",
            "\u001b[0;32m<ipython-input-34-c3c22616559c>\u001b[0m in \u001b[0;36m<cell line: 4>\u001b[0;34m()\u001b[0m\n\u001b[1;32m      4\u001b[0m \u001b[0;32mfor\u001b[0m \u001b[0mf\u001b[0m \u001b[0;32min\u001b[0m \u001b[0mfolder_list\u001b[0m\u001b[0;34m:\u001b[0m\u001b[0;34m\u001b[0m\u001b[0;34m\u001b[0m\u001b[0m\n\u001b[1;32m      5\u001b[0m     \u001b[0mfname\u001b[0m \u001b[0;34m=\u001b[0m \u001b[0;34m\"/content/drive/MyDrive/Colab Notebooks/clouddata/train/Cb/\"\u001b[0m \u001b[0;34m+\u001b[0m \u001b[0mf\u001b[0m\u001b[0;34m\u001b[0m\u001b[0;34m\u001b[0m\u001b[0m\n\u001b[0;32m----> 6\u001b[0;31m     \u001b[0mfile_list\u001b[0m \u001b[0;34m=\u001b[0m \u001b[0mos\u001b[0m\u001b[0;34m.\u001b[0m\u001b[0mlistdir\u001b[0m\u001b[0;34m(\u001b[0m\u001b[0mfname\u001b[0m\u001b[0;34m)\u001b[0m\u001b[0;34m\u001b[0m\u001b[0;34m\u001b[0m\u001b[0m\n\u001b[0m\u001b[1;32m      7\u001b[0m     \u001b[0;32mfor\u001b[0m \u001b[0mi\u001b[0m \u001b[0;32min\u001b[0m \u001b[0mfile_list\u001b[0m\u001b[0;34m:\u001b[0m\u001b[0;34m\u001b[0m\u001b[0;34m\u001b[0m\u001b[0m\n\u001b[1;32m      8\u001b[0m         \u001b[0mfilename\u001b[0m \u001b[0;34m=\u001b[0m \u001b[0mfname\u001b[0m \u001b[0;34m+\u001b[0m \u001b[0mi\u001b[0m\u001b[0;34m\u001b[0m\u001b[0;34m\u001b[0m\u001b[0m\n",
            "\u001b[0;31mNotADirectoryError\u001b[0m: [Errno 20] Not a directory: '/content/drive/MyDrive/Colab Notebooks/clouddata/train/Cb/Cb-N015.jpg'"
          ]
        }
      ],
      "source": [
        "# Cb\n",
        "folder_list = os.listdir('/content/drive/MyDrive/Colab Notebooks/clouddata/train/Cb')\n",
        "\n",
        "for f in folder_list:\n",
        "    fname = \"/content/drive/MyDrive/Colab Notebooks/clouddata/train/Cb/\" + f\n",
        "    file_list = os.listdir(fname)\n",
        "    for i in file_list:\n",
        "        filename = fname + i\n",
        "        print(filename)\n",
        "        IDG(filename)\n"
      ]
    },
    {
      "cell_type": "code",
      "source": [
        "def IDG(filename):\n",
        "    ImageDG = tf.keras.preprocessing.image.ImageDataGenerator(\n",
        "        rescale=1. / 255,\n",
        "        rotation_range=15,\n",
        "        width_shift_range=0.1,\n",
        "        height_shift_range=0.1,\n",
        "        horizontal_flip=True,\n",
        "        zoom_range=0.1,\n",
        "        fill_mode='nearest'\n",
        "    )\n",
        "\n",
        "    img = tf.keras.preprocessing.image.load_img(filename)\n",
        "    x = tf.keras.preprocessing.image.img_to_array(img)\n",
        "    x = x.reshape((1,) + x.shape)\n",
        "\n",
        "    save_dir = os.path.dirname(filename)  # Get the directory of the image file\n",
        "    save_prefix = 'new_' + os.path.splitext(os.path.basename(filename))[0]  # Create a prefix for saved images\n",
        "\n",
        "    i = 0\n",
        "    for batch in ImageDG.flow(x, batch_size=1, save_to_dir=save_dir, save_prefix=save_prefix, save_format='jpg'):\n",
        "        i += 1\n",
        "        if i > 7:\n",
        "            break\n",
        "\n",
        "folder_path = '/content/drive/MyDrive/Colab Notebooks/clouddata/train/Cb'\n",
        "file_list = os.listdir(folder_path)\n",
        "\n",
        "for filename in file_list:\n",
        "    filepath = os.path.join(folder_path, filename)\n",
        "    IDG(filepath)\n"
      ],
      "metadata": {
        "id": "RURAZ7d5dp78"
      },
      "execution_count": null,
      "outputs": []
    },
    {
      "cell_type": "code",
      "source": [
        "def IDG(filename):\n",
        "    ImageDG = tf.keras.preprocessing.image.ImageDataGenerator(\n",
        "        rescale=1. / 255,\n",
        "        rotation_range=15,\n",
        "        width_shift_range=0.1,\n",
        "        height_shift_range=0.1,\n",
        "        horizontal_flip=True,\n",
        "        zoom_range=0.1,\n",
        "        fill_mode='nearest'\n",
        "    )\n",
        "\n",
        "    img = tf.keras.preprocessing.image.load_img(filename)\n",
        "    x = tf.keras.preprocessing.image.img_to_array(img)\n",
        "    x = x.reshape((1,) + x.shape)\n",
        "\n",
        "    save_dir = os.path.dirname(filename)  # Get the directory of the image file\n",
        "    save_prefix = 'new_' + os.path.splitext(os.path.basename(filename))[0]  # Create a prefix for saved images\n",
        "\n",
        "    i = 0\n",
        "    for batch in ImageDG.flow(x, batch_size=1, save_to_dir=save_dir, save_prefix=save_prefix, save_format='jpg'):\n",
        "        i += 1\n",
        "        if i > 7:\n",
        "            break\n",
        "\n",
        "folder_path = '/content/drive/MyDrive/Colab Notebooks/clouddata/train/Cc'\n",
        "file_list = os.listdir(folder_path)\n",
        "\n",
        "for filename in file_list:\n",
        "    filepath = os.path.join(folder_path, filename)\n",
        "    IDG(filepath)"
      ],
      "metadata": {
        "id": "PCNrXwPFeDnB"
      },
      "execution_count": null,
      "outputs": []
    },
    {
      "cell_type": "code",
      "source": [
        "def IDG(filename):\n",
        "    ImageDG = tf.keras.preprocessing.image.ImageDataGenerator(\n",
        "        rescale=1. / 255,\n",
        "        rotation_range=15,\n",
        "        width_shift_range=0.1,\n",
        "        height_shift_range=0.1,\n",
        "        horizontal_flip=True,\n",
        "        zoom_range=0.1,\n",
        "        fill_mode='nearest'\n",
        "    )\n",
        "\n",
        "    img = tf.keras.preprocessing.image.load_img(filename)\n",
        "    x = tf.keras.preprocessing.image.img_to_array(img)\n",
        "    x = x.reshape((1,) + x.shape)\n",
        "\n",
        "    save_dir = os.path.dirname(filename)  # Get the directory of the image file\n",
        "    save_prefix = 'new_' + os.path.splitext(os.path.basename(filename))[0]  # Create a prefix for saved images\n",
        "\n",
        "    i = 0\n",
        "    for batch in ImageDG.flow(x, batch_size=1, save_to_dir=save_dir, save_prefix=save_prefix, save_format='jpg'):\n",
        "        i += 1\n",
        "        if i > 7:\n",
        "            break\n",
        "\n",
        "folder_path = '/content/drive/MyDrive/Colab Notebooks/clouddata/train/Ns'\n",
        "file_list = os.listdir(folder_path)\n",
        "\n",
        "for filename in file_list:\n",
        "    filepath = os.path.join(folder_path, filename)\n",
        "    IDG(filepath)"
      ],
      "metadata": {
        "id": "CeMgbH-WeQra"
      },
      "execution_count": null,
      "outputs": []
    },
    {
      "cell_type": "code",
      "source": [
        "def IDG(filename):\n",
        "    ImageDG = tf.keras.preprocessing.image.ImageDataGenerator(\n",
        "        rescale=1. / 255,\n",
        "        rotation_range=15,\n",
        "        width_shift_range=0.1,\n",
        "        height_shift_range=0.1,\n",
        "        horizontal_flip=True,\n",
        "        zoom_range=0.1,\n",
        "        fill_mode='nearest'\n",
        "    )\n",
        "\n",
        "    img = tf.keras.preprocessing.image.load_img(filename)\n",
        "    x = tf.keras.preprocessing.image.img_to_array(img)\n",
        "    x = x.reshape((1,) + x.shape)\n",
        "\n",
        "    save_dir = os.path.dirname(filename)  # Get the directory of the image file\n",
        "    save_prefix = 'new_' + os.path.splitext(os.path.basename(filename))[0]  # Create a prefix for saved images\n",
        "\n",
        "    i = 0\n",
        "    for batch in ImageDG.flow(x, batch_size=1, save_to_dir=save_dir, save_prefix=save_prefix, save_format='jpg'):\n",
        "        i += 1\n",
        "        if i > 7:\n",
        "            break\n",
        "\n",
        "folder_path = '/content/drive/MyDrive/Colab Notebooks/clouddata/train/Sc'\n",
        "file_list = os.listdir(folder_path)\n",
        "\n",
        "for filename in file_list:\n",
        "    filepath = os.path.join(folder_path, filename)\n",
        "    IDG(filepath)"
      ],
      "metadata": {
        "id": "20DCWpsjeU7a"
      },
      "execution_count": null,
      "outputs": []
    },
    {
      "cell_type": "code",
      "source": [
        "def IDG(filename):\n",
        "    ImageDG = tf.keras.preprocessing.image.ImageDataGenerator(\n",
        "        rescale=1. / 255,\n",
        "        rotation_range=15,\n",
        "        width_shift_range=0.1,\n",
        "        height_shift_range=0.1,\n",
        "        horizontal_flip=True,\n",
        "        zoom_range=0.1,\n",
        "        fill_mode='nearest'\n",
        "    )\n",
        "\n",
        "    img = tf.keras.preprocessing.image.load_img(filename)\n",
        "    x = tf.keras.preprocessing.image.img_to_array(img)\n",
        "    x = x.reshape((1,) + x.shape)\n",
        "\n",
        "    save_dir = os.path.dirname(filename)  # Get the directory of the image file\n",
        "    save_prefix = 'new_' + os.path.splitext(os.path.basename(filename))[0]  # Create a prefix for saved images\n",
        "\n",
        "    i = 0\n",
        "    for batch in ImageDG.flow(x, batch_size=1, save_to_dir=save_dir, save_prefix=save_prefix, save_format='jpg'):\n",
        "        i += 1\n",
        "        if i > 7:\n",
        "            break\n",
        "\n",
        "folder_path = '/content/drive/MyDrive/Colab Notebooks/clouddata/train/St'\n",
        "file_list = os.listdir(folder_path)\n",
        "\n",
        "for filename in file_list:\n",
        "    filepath = os.path.join(folder_path, filename)\n",
        "    IDG(filepath)"
      ],
      "metadata": {
        "id": "0Ljb_rs3eX5t"
      },
      "execution_count": null,
      "outputs": []
    },
    {
      "cell_type": "markdown",
      "metadata": {
        "id": "ofYg0OuHy0he"
      },
      "source": [
        "## Image 데이터를 학습 데이터로 변환"
      ]
    },
    {
      "cell_type": "code",
      "execution_count": null,
      "metadata": {
        "colab": {
          "base_uri": "https://localhost:8080/"
        },
        "id": "mKKuyIoTyzLT",
        "outputId": "2c00c01d-455d-4fe9-ffb2-96e8389164fb"
      },
      "outputs": [
        {
          "output_type": "stream",
          "name": "stdout",
          "text": [
            "Cb  :  /content/drive/MyDrive/Colab Notebooks/clouddata/train/Cb/Cb-N015.jpg\n",
            "Cb  :  /content/drive/MyDrive/Colab Notebooks/clouddata/train/Cb/new_Cb-N008_0_7386.jpg\n",
            "Cb  :  /content/drive/MyDrive/Colab Notebooks/clouddata/train/Cb/new_Cb-N072_0_7679.jpg\n",
            "Cb  :  /content/drive/MyDrive/Colab Notebooks/clouddata/train/Cb/new_Cb-N209_0_9914.jpg\n",
            "Cb  :  /content/drive/MyDrive/Colab Notebooks/clouddata/train/Cb/new_Cb-N170_0_8479.jpg\n",
            "Cb  :  /content/drive/MyDrive/Colab Notebooks/clouddata/train/Cb/new_Cb-N116_0_3827.jpg\n",
            "Cb  :  /content/drive/MyDrive/Colab Notebooks/clouddata/train/Cb/new_Cb-N237_0_140.jpg\n",
            "Cc  :  /content/drive/MyDrive/Colab Notebooks/clouddata/train/Cc/Cc-N017.jpg\n",
            "Cc  :  /content/drive/MyDrive/Colab Notebooks/clouddata/train/Cc/new_Cc-N016_0_3202.jpg\n",
            "Cc  :  /content/drive/MyDrive/Colab Notebooks/clouddata/train/Cc/new_Cc-N022_0_5727.jpg\n",
            "Cc  :  /content/drive/MyDrive/Colab Notebooks/clouddata/train/Cc/new_Cc-N099_0_7197.jpg\n",
            "Cc  :  /content/drive/MyDrive/Colab Notebooks/clouddata/train/Cc/new_Cc-N126_0_6676.jpg\n",
            "Cc  :  /content/drive/MyDrive/Colab Notebooks/clouddata/train/Cc/new_Cc-N147_0_8734.jpg\n",
            "Cc  :  /content/drive/MyDrive/Colab Notebooks/clouddata/train/Cc/new_Cc-N184_0_6747.jpg\n",
            "Cc  :  /content/drive/MyDrive/Colab Notebooks/clouddata/train/Cc/new_Cc-N222_0_6396.jpg\n",
            "Ns  :  /content/drive/MyDrive/Colab Notebooks/clouddata/train/Ns/Ns-N017.jpg\n",
            "Ns  :  /content/drive/MyDrive/Colab Notebooks/clouddata/train/Ns/new_Ns-N003_0_2411.jpg\n",
            "Ns  :  /content/drive/MyDrive/Colab Notebooks/clouddata/train/Ns/new_Ns-N069_0_691.jpg\n",
            "Ns  :  /content/drive/MyDrive/Colab Notebooks/clouddata/train/Ns/new_Ns-N097_0_2488.jpg\n",
            "Ns  :  /content/drive/MyDrive/Colab Notebooks/clouddata/train/Ns/new_Ns-N117_0_1536.jpg\n",
            "Ns  :  /content/drive/MyDrive/Colab Notebooks/clouddata/train/Ns/new_Ns-N147_0_7435.jpg\n",
            "Ns  :  /content/drive/MyDrive/Colab Notebooks/clouddata/train/Ns/new_Ns-N226_0_8341.jpg\n",
            "Ns  :  /content/drive/MyDrive/Colab Notebooks/clouddata/train/Ns/new_Ns-N267_0_8606.jpg\n",
            "Sc  :  /content/drive/MyDrive/Colab Notebooks/clouddata/train/Sc/Sc-N002.jpg\n",
            "Sc  :  /content/drive/MyDrive/Colab Notebooks/clouddata/train/Sc/Sc-N314.jpg\n",
            "Sc  :  /content/drive/MyDrive/Colab Notebooks/clouddata/train/Sc/new_Sc-N045_0_8171.jpg\n",
            "Sc  :  /content/drive/MyDrive/Colab Notebooks/clouddata/train/Sc/new_Sc-N054_0_1325.jpg\n",
            "Sc  :  /content/drive/MyDrive/Colab Notebooks/clouddata/train/Sc/new_Sc-N117_0_4969.jpg\n",
            "Sc  :  /content/drive/MyDrive/Colab Notebooks/clouddata/train/Sc/new_Sc-N167_0_3811.jpg\n",
            "Sc  :  /content/drive/MyDrive/Colab Notebooks/clouddata/train/Sc/new_Sc-N221_0_4496.jpg\n",
            "Sc  :  /content/drive/MyDrive/Colab Notebooks/clouddata/train/Sc/new_Sc-N231_0_1018.jpg\n",
            "Sc  :  /content/drive/MyDrive/Colab Notebooks/clouddata/train/Sc/new_Sc-N276_0_4464.jpg\n",
            "Sc  :  /content/drive/MyDrive/Colab Notebooks/clouddata/train/Sc/new_Sc-N313_0_4842.jpg\n",
            "St  :  /content/drive/MyDrive/Colab Notebooks/clouddata/train/St/St-N002.jpg\n",
            "St  :  /content/drive/MyDrive/Colab Notebooks/clouddata/train/St/new_St-N005_0_5027.jpg\n",
            "St  :  /content/drive/MyDrive/Colab Notebooks/clouddata/train/St/new_St-N081_0_5102.jpg\n",
            "St  :  /content/drive/MyDrive/Colab Notebooks/clouddata/train/St/new_St-N116_0_8278.jpg\n",
            "St  :  /content/drive/MyDrive/Colab Notebooks/clouddata/train/St/new_St-N151_0_8116.jpg\n",
            "St  :  /content/drive/MyDrive/Colab Notebooks/clouddata/train/St/new_St-N180_0_1348.jpg\n"
          ]
        }
      ],
      "source": [
        "img_dir =  \"/content/drive/MyDrive/Colab Notebooks/clouddata/train\"\n",
        "categories = os.listdir(img_dir)\n",
        "num_classes = len(categories)\n",
        "\n",
        "image_w = 64  #64*64*3 사이즈로 조정\n",
        "image_h = 64\n",
        "\n",
        "pixel=  image_w * image_h * 3\n",
        "X=[]\n",
        "y=[]\n",
        "\n",
        "for idx, cat in enumerate(categories): # 카테고리를 enumerate를 이용하여 카테고리와 인덱스 사용\n",
        "    img_dir_detail = img_dir + '/' + cat\n",
        "    files = glob.glob(img_dir_detail + \"/*.jpg\")\n",
        "    for i,f in enumerate(files):\n",
        "        try:\n",
        "            img = Image.open(f)\n",
        "            img = img.convert('RGB')\n",
        "            img = img.resize((image_w,image_h)) #이미지의 사이즈를 조정\n",
        "            data = np.asarray(img)\n",
        "            X.append(data)\n",
        "            y.append(idx)\n",
        "            if i % 300 == 0 : # 300번쨰 마다 프린트\n",
        "                print(cat, \" : \", f)\n",
        "        except:\n",
        "            print(cat,str(i),\" 번째에서 에러\")\n",
        "\n",
        "X = np.array(X)  #array로 변환\n",
        "y = np.array(y)  #array로 변환\n",
        "\n",
        "X_train, X_test, y_train, y_test = train_test_split(X,y, test_size = 0.3) #train test 구분"
      ]
    },
    {
      "cell_type": "markdown",
      "metadata": {
        "id": "U4OsknnR0WDb"
      },
      "source": [
        "## 학습데이터 가공"
      ]
    },
    {
      "cell_type": "code",
      "execution_count": null,
      "metadata": {
        "colab": {
          "base_uri": "https://localhost:8080/"
        },
        "id": "8uLDY5yh0ZXh",
        "outputId": "ded604de-18e5-45df-f832-da6b8ab0839d"
      },
      "outputs": [
        {
          "output_type": "stream",
          "name": "stdout",
          "text": [
            "(7721, 64, 64, 3)\n",
            "(7721,)\n",
            "(3310, 64, 64, 3)\n",
            "(3310,)\n"
          ]
        }
      ],
      "source": [
        "print(X_train.shape) # 데이터 크기 확인\n",
        "print(y_train.shape)\n",
        "print(X_test.shape)\n",
        "print(y_test.shape)\n",
        "\n",
        "# img를 array로 변환시 0~255의 값을 가지는데 이것을 0~1로 변환\n",
        "X_train = X_train.astype(float) / 255.0\n",
        "X_test = X_test.astype(float) / 255.0\n",
        "\n",
        "from keras.utils import to_categorical\n",
        "# 기존의 1의 값을가지는 y값을 [0,1,0,0,---]와 같이 변환\n",
        "y_train = to_categorical(y_train)\n",
        "y_test = to_categorical(y_test)"
      ]
    },
    {
      "cell_type": "markdown",
      "metadata": {
        "id": "qCvW0wvM0d05"
      },
      "source": [
        "## 모델 구축"
      ]
    },
    {
      "cell_type": "code",
      "execution_count": null,
      "metadata": {
        "id": "4O4u7E_uz76B"
      },
      "outputs": [],
      "source": [
        "image_w = 64\n",
        "image_h = 64\n",
        "\n",
        "with tf.device('/device:GPU:0'):\n",
        "    model = Sequential()\n",
        "\n",
        "    model.add(Conv2D(32, (3,3), padding=\"same\", input_shape=X_train.shape[1:], activation=\"relu\"))\n",
        "    model.add(MaxPooling2D(pool_size=(2,2)))\n",
        "    model.add(Dropout(0.25))\n",
        "\n",
        "    model.add(Conv2D(64, (3,3), padding=\"same\", activation=\"relu\"))\n",
        "    model.add(MaxPooling2D(pool_size=(2,2)))\n",
        "    model.add(Dropout(0.25))\n",
        "\n",
        "    model.add(Flatten())\n",
        "    model.add(Dense(256, activation='relu'))\n",
        "    model.add(Dropout(0.5))\n",
        "    model.add(Dense(num_classes, activation='softmax')) # 출력 레이어 수정\n",
        "\n",
        "    model.compile(loss='categorical_crossentropy', optimizer='adam', metrics=['accuracy'])\n",
        "\n",
        "    model_dir = './model'\n",
        "    model_path = model_dir + \"/cloud_classify.model\"\n",
        "\n",
        "    checkpoint = ModelCheckpoint(filepath=model_path, monitor='val_loss', verbose=1, save_best_only=True)\n",
        "    early_stopping = EarlyStopping(monitor='val_loss', patience=6)\n"
      ]
    },
    {
      "cell_type": "code",
      "execution_count": null,
      "metadata": {
        "id": "o1lwEx500b76"
      },
      "outputs": [],
      "source": [
        "image_w = 64\n",
        "image_h = 64\n",
        "\n",
        "with tf.device('/device:CPU:0'): #가동할 GPU가 없어 CPU로 설정\n",
        "    model = Sequential() # 모델 선언\n",
        "\n",
        "    # (Convolution layer , Pooling layer) 2개 다중분류여서 activation 은 모두 relu사용\n",
        "    model.add(Conv2D(32, (3,3), padding=\"same\", input_shape=X_train.shape[1:], activation=\"relu\"))\n",
        "    model.add(MaxPooling2D(pool_size=(2,2)))\n",
        "    model.add(Dropout(0.25)) #과적합 방지\n",
        "\n",
        "    model.add(Conv2D(64, (3,3), padding=\"same\", activation=\"relu\"))\n",
        "    model.add(MaxPooling2D(pool_size=(2,2)))\n",
        "    model.add(Dropout(0.25))\n",
        "\n",
        "    #FC layer\n",
        "    model.add(Flatten())\n",
        "    model.add(Dense(256, activation = 'relu'))\n",
        "    model.add(Dropout(0.5))\n",
        "    model.add(Dense(num_classes, activation = 'softmax'))\n",
        "\n",
        "    #loss= 다중분류 categorical사용\n",
        "    model.compile(loss = 'categorical_crossentropy', optimizer = 'adam',metrics=['accuracy'])\n",
        "\n",
        "    model_dir = './model'\n",
        "    model_path = model_dir + \"/cloud_classify.model\"\n",
        "    # 모델결과 저장 및 earlystopping\n",
        "    checkpoint = ModelCheckpoint(filepath = model_path, monitor='val_loss', verbose = 1, save_best_only = True)\n",
        "    early_stopping = EarlyStopping(monitor = 'val_loss', patience = 6)\n"
      ]
    },
    {
      "cell_type": "code",
      "execution_count": null,
      "metadata": {
        "id": "W5dwAXWD0JWn"
      },
      "outputs": [],
      "source": [
        "image_w = 64\n",
        "image_h = 64\n",
        "\n",
        "with tf.device('/device:CPU:0'):\n",
        "    model = Sequential()\n",
        "\n",
        "    model.add(Conv2D(32, (3,3), padding=\"same\", input_shape=X_train.shape[1:], activation=\"relu\"))\n",
        "    model.add(MaxPooling2D(pool_size=(2,2)))\n",
        "    model.add(Dropout(0.25))\n",
        "\n",
        "    model.add(Conv2D(64, (3,3), padding=\"same\", activation=\"relu\"))\n",
        "    model.add(MaxPooling2D(pool_size=(2,2)))\n",
        "    model.add(Dropout(0.25))\n",
        "\n",
        "    model.add(Flatten())\n",
        "    model.add(Dense(256, activation='relu'))\n",
        "    model.add(Dropout(0.5))\n",
        "    model.add(Dense(y_train.shape[1], activation='softmax'))  # 출력 레이어 수정\n",
        "\n",
        "    model.compile(loss='categorical_crossentropy', optimizer='adam', metrics=['accuracy'])\n",
        "\n",
        "    model_dir = './model'\n",
        "    model_path = model_dir + \"/cloud_classify.model\"\n",
        "\n",
        "    checkpoint = ModelCheckpoint(filepath=model_path, monitor='val_loss', verbose=1, save_best_only=True)\n",
        "    early_stopping = EarlyStopping(monitor='val_loss', patience=6)\n"
      ]
    },
    {
      "cell_type": "code",
      "execution_count": null,
      "metadata": {
        "colab": {
          "base_uri": "https://localhost:8080/"
        },
        "id": "_LtDJgVI05II",
        "outputId": "a3a49ecd-b962-4a24-870e-003472476d3a"
      },
      "outputs": [
        {
          "output_type": "stream",
          "name": "stdout",
          "text": [
            "Model: \"sequential\"\n",
            "_________________________________________________________________\n",
            " Layer (type)                Output Shape              Param #   \n",
            "=================================================================\n",
            " conv2d (Conv2D)             (None, 64, 64, 32)        896       \n",
            "                                                                 \n",
            " max_pooling2d (MaxPooling2D  (None, 32, 32, 32)       0         \n",
            " )                                                               \n",
            "                                                                 \n",
            " dropout (Dropout)           (None, 32, 32, 32)        0         \n",
            "                                                                 \n",
            " conv2d_1 (Conv2D)           (None, 32, 32, 64)        18496     \n",
            "                                                                 \n",
            " max_pooling2d_1 (MaxPooling  (None, 16, 16, 64)       0         \n",
            " 2D)                                                             \n",
            "                                                                 \n",
            " dropout_1 (Dropout)         (None, 16, 16, 64)        0         \n",
            "                                                                 \n",
            " flatten (Flatten)           (None, 16384)             0         \n",
            "                                                                 \n",
            " dense (Dense)               (None, 256)               4194560   \n",
            "                                                                 \n",
            " dropout_2 (Dropout)         (None, 256)               0         \n",
            "                                                                 \n",
            " dense_1 (Dense)             (None, 5)                 1285      \n",
            "                                                                 \n",
            "=================================================================\n",
            "Total params: 4,215,237\n",
            "Trainable params: 4,215,237\n",
            "Non-trainable params: 0\n",
            "_________________________________________________________________\n"
          ]
        }
      ],
      "source": [
        "model.summary()"
      ]
    },
    {
      "cell_type": "code",
      "execution_count": null,
      "metadata": {
        "colab": {
          "base_uri": "https://localhost:8080/"
        },
        "id": "3FuP9S0R0-ny",
        "outputId": "cf0c8586-1187-4015-ef50-68a5b18fd4d8"
      },
      "outputs": [
        {
          "output_type": "stream",
          "name": "stdout",
          "text": [
            "Epoch 1/100\n",
            "103/103 [==============================] - ETA: 0s - loss: 1.5184 - accuracy: 0.3782\n",
            "Epoch 1: val_loss improved from inf to 1.36447, saving model to ./model/cloud_classify.model\n"
          ]
        },
        {
          "output_type": "stream",
          "name": "stderr",
          "text": [
            "WARNING:absl:Found untraced functions such as _jit_compiled_convolution_op, _jit_compiled_convolution_op while saving (showing 2 of 2). These functions will not be directly callable after loading.\n"
          ]
        },
        {
          "output_type": "stream",
          "name": "stdout",
          "text": [
            "\b\b\b\b\b\b\b\b\b\b\b\b\b\b\b\b\b\b\b\b\b\b\b\b\b\b\b\b\b\b\b\b\b\b\b\b\b\b\b\b\b\b\b\b\b\b\b\b\b\b\b\b\b\b\b\b\b\b\b\b\b\b\b\b\b\b\b\b\b\b\b\b\b\b\b\b\b\b\b\b\b\b\b\b\r103/103 [==============================] - 13s 25ms/step - loss: 1.5184 - accuracy: 0.3782 - val_loss: 1.3645 - val_accuracy: 0.4392\n",
            "Epoch 2/100\n",
            "100/103 [============================>.] - ETA: 0s - loss: 1.2977 - accuracy: 0.4664\n",
            "Epoch 2: val_loss improved from 1.36447 to 1.22454, saving model to ./model/cloud_classify.model\n"
          ]
        },
        {
          "output_type": "stream",
          "name": "stderr",
          "text": [
            "WARNING:absl:Found untraced functions such as _jit_compiled_convolution_op, _jit_compiled_convolution_op while saving (showing 2 of 2). These functions will not be directly callable after loading.\n"
          ]
        },
        {
          "output_type": "stream",
          "name": "stdout",
          "text": [
            "\b\b\b\b\b\b\b\b\b\b\b\b\b\b\b\b\b\b\b\b\b\b\b\b\b\b\b\b\b\b\b\b\b\b\b\b\b\b\b\b\b\b\b\b\b\b\b\b\b\b\b\b\b\b\b\b\b\b\b\b\b\b\b\b\b\b\b\b\b\b\b\b\b\b\b\b\b\b\b\b\b\b\b\b\r103/103 [==============================] - 2s 17ms/step - loss: 1.2985 - accuracy: 0.4654 - val_loss: 1.2245 - val_accuracy: 0.4961\n",
            "Epoch 3/100\n",
            "103/103 [==============================] - ETA: 0s - loss: 1.2035 - accuracy: 0.5120\n",
            "Epoch 3: val_loss improved from 1.22454 to 1.16347, saving model to ./model/cloud_classify.model\n"
          ]
        },
        {
          "output_type": "stream",
          "name": "stderr",
          "text": [
            "WARNING:absl:Found untraced functions such as _jit_compiled_convolution_op, _jit_compiled_convolution_op while saving (showing 2 of 2). These functions will not be directly callable after loading.\n"
          ]
        },
        {
          "output_type": "stream",
          "name": "stdout",
          "text": [
            "\b\b\b\b\b\b\b\b\b\b\b\b\b\b\b\b\b\b\b\b\b\b\b\b\b\b\b\b\b\b\b\b\b\b\b\b\b\b\b\b\b\b\b\b\b\b\b\b\b\b\b\b\b\b\b\b\b\b\b\b\b\b\b\b\b\b\b\b\b\b\b\b\b\b\b\b\b\b\b\b\b\b\b\b\r103/103 [==============================] - 2s 17ms/step - loss: 1.2035 - accuracy: 0.5120 - val_loss: 1.1635 - val_accuracy: 0.5298\n",
            "Epoch 4/100\n",
            " 96/103 [==========================>...] - ETA: 0s - loss: 1.1292 - accuracy: 0.5469\n",
            "Epoch 4: val_loss improved from 1.16347 to 1.12570, saving model to ./model/cloud_classify.model\n"
          ]
        },
        {
          "output_type": "stream",
          "name": "stderr",
          "text": [
            "WARNING:absl:Found untraced functions such as _jit_compiled_convolution_op, _jit_compiled_convolution_op while saving (showing 2 of 2). These functions will not be directly callable after loading.\n"
          ]
        },
        {
          "output_type": "stream",
          "name": "stdout",
          "text": [
            "\b\b\b\b\b\b\b\b\b\b\b\b\b\b\b\b\b\b\b\b\b\b\b\b\b\b\b\b\b\b\b\b\b\b\b\b\b\b\b\b\b\b\b\b\b\b\b\b\b\b\b\b\b\b\b\b\b\b\b\b\b\b\b\b\b\b\b\b\b\b\b\b\b\b\b\b\b\b\b\b\b\b\b\b\r103/103 [==============================] - 2s 17ms/step - loss: 1.1315 - accuracy: 0.5457 - val_loss: 1.1257 - val_accuracy: 0.5349\n",
            "Epoch 5/100\n",
            " 93/103 [==========================>...] - ETA: 0s - loss: 1.0769 - accuracy: 0.5655\n",
            "Epoch 5: val_loss improved from 1.12570 to 1.04797, saving model to ./model/cloud_classify.model\n"
          ]
        },
        {
          "output_type": "stream",
          "name": "stderr",
          "text": [
            "WARNING:absl:Found untraced functions such as _jit_compiled_convolution_op, _jit_compiled_convolution_op while saving (showing 2 of 2). These functions will not be directly callable after loading.\n"
          ]
        },
        {
          "output_type": "stream",
          "name": "stdout",
          "text": [
            "\b\b\b\b\b\b\b\b\b\b\b\b\b\b\b\b\b\b\b\b\b\b\b\b\b\b\b\b\b\b\b\b\b\b\b\b\b\b\b\b\b\b\b\b\b\b\b\b\b\b\b\b\b\b\b\b\b\b\b\b\b\b\b\b\b\b\b\b\b\b\b\b\b\b\b\b\b\b\b\b\b\b\b\b\r103/103 [==============================] - 2s 19ms/step - loss: 1.0754 - accuracy: 0.5671 - val_loss: 1.0480 - val_accuracy: 0.5712\n",
            "Epoch 6/100\n",
            " 96/103 [==========================>...] - ETA: 0s - loss: 1.0329 - accuracy: 0.5807\n",
            "Epoch 6: val_loss did not improve from 1.04797\n",
            "103/103 [==============================] - 1s 5ms/step - loss: 1.0307 - accuracy: 0.5797 - val_loss: 1.0631 - val_accuracy: 0.5643\n",
            "Epoch 7/100\n",
            " 94/103 [==========================>...] - ETA: 0s - loss: 0.9907 - accuracy: 0.6044\n",
            "Epoch 7: val_loss improved from 1.04797 to 0.95565, saving model to ./model/cloud_classify.model\n"
          ]
        },
        {
          "output_type": "stream",
          "name": "stderr",
          "text": [
            "WARNING:absl:Found untraced functions such as _jit_compiled_convolution_op, _jit_compiled_convolution_op while saving (showing 2 of 2). These functions will not be directly callable after loading.\n"
          ]
        },
        {
          "output_type": "stream",
          "name": "stdout",
          "text": [
            "\b\b\b\b\b\b\b\b\b\b\b\b\b\b\b\b\b\b\b\b\b\b\b\b\b\b\b\b\b\b\b\b\b\b\b\b\b\b\b\b\b\b\b\b\b\b\b\b\b\b\b\b\b\b\b\b\b\b\b\b\b\b\b\b\b\b\b\b\b\b\b\b\b\b\b\b\b\b\b\b\b\b\b\b\r103/103 [==============================] - 2s 17ms/step - loss: 0.9854 - accuracy: 0.6068 - val_loss: 0.9556 - val_accuracy: 0.6221\n",
            "Epoch 8/100\n",
            "103/103 [==============================] - ETA: 0s - loss: 0.9417 - accuracy: 0.6216\n",
            "Epoch 8: val_loss did not improve from 0.95565\n",
            "103/103 [==============================] - 1s 5ms/step - loss: 0.9417 - accuracy: 0.6216 - val_loss: 0.9716 - val_accuracy: 0.5997\n",
            "Epoch 9/100\n",
            " 93/103 [==========================>...] - ETA: 0s - loss: 0.8981 - accuracy: 0.6347\n",
            "Epoch 9: val_loss improved from 0.95565 to 0.92876, saving model to ./model/cloud_classify.model\n"
          ]
        },
        {
          "output_type": "stream",
          "name": "stderr",
          "text": [
            "WARNING:absl:Found untraced functions such as _jit_compiled_convolution_op, _jit_compiled_convolution_op while saving (showing 2 of 2). These functions will not be directly callable after loading.\n"
          ]
        },
        {
          "output_type": "stream",
          "name": "stdout",
          "text": [
            "\b\b\b\b\b\b\b\b\b\b\b\b\b\b\b\b\b\b\b\b\b\b\b\b\b\b\b\b\b\b\b\b\b\b\b\b\b\b\b\b\b\b\b\b\b\b\b\b\b\b\b\b\b\b\b\b\b\b\b\b\b\b\b\b\b\b\b\b\b\b\b\b\b\b\b\b\b\b\b\b\b\b\b\b\r103/103 [==============================] - 2s 17ms/step - loss: 0.8961 - accuracy: 0.6362 - val_loss: 0.9288 - val_accuracy: 0.6212\n",
            "Epoch 10/100\n",
            " 92/103 [=========================>....] - ETA: 0s - loss: 0.8686 - accuracy: 0.6546\n",
            "Epoch 10: val_loss improved from 0.92876 to 0.86707, saving model to ./model/cloud_classify.model\n"
          ]
        },
        {
          "output_type": "stream",
          "name": "stderr",
          "text": [
            "WARNING:absl:Found untraced functions such as _jit_compiled_convolution_op, _jit_compiled_convolution_op while saving (showing 2 of 2). These functions will not be directly callable after loading.\n"
          ]
        },
        {
          "output_type": "stream",
          "name": "stdout",
          "text": [
            "\b\b\b\b\b\b\b\b\b\b\b\b\b\b\b\b\b\b\b\b\b\b\b\b\b\b\b\b\b\b\b\b\b\b\b\b\b\b\b\b\b\b\b\b\b\b\b\b\b\b\b\b\b\b\b\b\b\b\b\b\b\b\b\b\b\b\b\b\b\b\b\b\b\b\b\b\b\b\b\b\b\b\b\b\r103/103 [==============================] - 2s 17ms/step - loss: 0.8627 - accuracy: 0.6571 - val_loss: 0.8671 - val_accuracy: 0.6575\n",
            "Epoch 11/100\n",
            " 92/103 [=========================>....] - ETA: 0s - loss: 0.8008 - accuracy: 0.6810\n",
            "Epoch 11: val_loss improved from 0.86707 to 0.84577, saving model to ./model/cloud_classify.model\n"
          ]
        },
        {
          "output_type": "stream",
          "name": "stderr",
          "text": [
            "WARNING:absl:Found untraced functions such as _jit_compiled_convolution_op, _jit_compiled_convolution_op while saving (showing 2 of 2). These functions will not be directly callable after loading.\n"
          ]
        },
        {
          "output_type": "stream",
          "name": "stdout",
          "text": [
            "\b\b\b\b\b\b\b\b\b\b\b\b\b\b\b\b\b\b\b\b\b\b\b\b\b\b\b\b\b\b\b\b\b\b\b\b\b\b\b\b\b\b\b\b\b\b\b\b\b\b\b\b\b\b\b\b\b\b\b\b\b\b\b\b\b\b\b\b\b\b\b\b\b\b\b\b\b\b\b\b\b\b\b\b\r103/103 [==============================] - 2s 17ms/step - loss: 0.8042 - accuracy: 0.6785 - val_loss: 0.8458 - val_accuracy: 0.6609\n",
            "Epoch 12/100\n",
            " 97/103 [===========================>..] - ETA: 0s - loss: 0.7779 - accuracy: 0.6880\n",
            "Epoch 12: val_loss did not improve from 0.84577\n",
            "103/103 [==============================] - 1s 5ms/step - loss: 0.7778 - accuracy: 0.6897 - val_loss: 0.8488 - val_accuracy: 0.6635\n",
            "Epoch 13/100\n",
            " 95/103 [==========================>...] - ETA: 0s - loss: 0.7400 - accuracy: 0.7039\n",
            "Epoch 13: val_loss improved from 0.84577 to 0.80035, saving model to ./model/cloud_classify.model\n"
          ]
        },
        {
          "output_type": "stream",
          "name": "stderr",
          "text": [
            "WARNING:absl:Found untraced functions such as _jit_compiled_convolution_op, _jit_compiled_convolution_op while saving (showing 2 of 2). These functions will not be directly callable after loading.\n"
          ]
        },
        {
          "output_type": "stream",
          "name": "stdout",
          "text": [
            "\b\b\b\b\b\b\b\b\b\b\b\b\b\b\b\b\b\b\b\b\b\b\b\b\b\b\b\b\b\b\b\b\b\b\b\b\b\b\b\b\b\b\b\b\b\b\b\b\b\b\b\b\b\b\b\b\b\b\b\b\b\b\b\b\b\b\b\b\b\b\b\b\b\b\b\b\b\b\b\b\b\b\b\b\r103/103 [==============================] - 2s 20ms/step - loss: 0.7394 - accuracy: 0.7034 - val_loss: 0.8003 - val_accuracy: 0.6825\n",
            "Epoch 14/100\n",
            " 94/103 [==========================>...] - ETA: 0s - loss: 0.6943 - accuracy: 0.7227\n",
            "Epoch 14: val_loss improved from 0.80035 to 0.78007, saving model to ./model/cloud_classify.model\n"
          ]
        },
        {
          "output_type": "stream",
          "name": "stderr",
          "text": [
            "WARNING:absl:Found untraced functions such as _jit_compiled_convolution_op, _jit_compiled_convolution_op while saving (showing 2 of 2). These functions will not be directly callable after loading.\n"
          ]
        },
        {
          "output_type": "stream",
          "name": "stdout",
          "text": [
            "\b\b\b\b\b\b\b\b\b\b\b\b\b\b\b\b\b\b\b\b\b\b\b\b\b\b\b\b\b\b\b\b\b\b\b\b\b\b\b\b\b\b\b\b\b\b\b\b\b\b\b\b\b\b\b\b\b\b\b\b\b\b\b\b\b\b\b\b\b\b\b\b\b\b\b\b\b\b\b\b\b\b\b\b\r103/103 [==============================] - 2s 17ms/step - loss: 0.6941 - accuracy: 0.7220 - val_loss: 0.7801 - val_accuracy: 0.6652\n",
            "Epoch 15/100\n",
            " 94/103 [==========================>...] - ETA: 0s - loss: 0.6561 - accuracy: 0.7306\n",
            "Epoch 15: val_loss improved from 0.78007 to 0.75580, saving model to ./model/cloud_classify.model\n"
          ]
        },
        {
          "output_type": "stream",
          "name": "stderr",
          "text": [
            "WARNING:absl:Found untraced functions such as _jit_compiled_convolution_op, _jit_compiled_convolution_op while saving (showing 2 of 2). These functions will not be directly callable after loading.\n"
          ]
        },
        {
          "output_type": "stream",
          "name": "stdout",
          "text": [
            "\b\b\b\b\b\b\b\b\b\b\b\b\b\b\b\b\b\b\b\b\b\b\b\b\b\b\b\b\b\b\b\b\b\b\b\b\b\b\b\b\b\b\b\b\b\b\b\b\b\b\b\b\b\b\b\b\b\b\b\b\b\b\b\b\b\b\b\b\b\b\b\b\b\b\b\b\b\b\b\b\b\b\b\b\r103/103 [==============================] - 2s 17ms/step - loss: 0.6517 - accuracy: 0.7330 - val_loss: 0.7558 - val_accuracy: 0.6825\n",
            "Epoch 16/100\n",
            " 94/103 [==========================>...] - ETA: 0s - loss: 0.6355 - accuracy: 0.7468\n",
            "Epoch 16: val_loss did not improve from 0.75580\n",
            "103/103 [==============================] - 1s 5ms/step - loss: 0.6306 - accuracy: 0.7505 - val_loss: 0.7633 - val_accuracy: 0.6972\n",
            "Epoch 17/100\n",
            " 94/103 [==========================>...] - ETA: 0s - loss: 0.5874 - accuracy: 0.7653\n",
            "Epoch 17: val_loss improved from 0.75580 to 0.69426, saving model to ./model/cloud_classify.model\n"
          ]
        },
        {
          "output_type": "stream",
          "name": "stderr",
          "text": [
            "WARNING:absl:Found untraced functions such as _jit_compiled_convolution_op, _jit_compiled_convolution_op while saving (showing 2 of 2). These functions will not be directly callable after loading.\n"
          ]
        },
        {
          "output_type": "stream",
          "name": "stdout",
          "text": [
            "\b\b\b\b\b\b\b\b\b\b\b\b\b\b\b\b\b\b\b\b\b\b\b\b\b\b\b\b\b\b\b\b\b\b\b\b\b\b\b\b\b\b\b\b\b\b\b\b\b\b\b\b\b\b\b\b\b\b\b\b\b\b\b\b\b\b\b\b\b\b\b\b\b\b\b\b\b\b\b\b\b\b\b\b\r103/103 [==============================] - 2s 17ms/step - loss: 0.5866 - accuracy: 0.7679 - val_loss: 0.6943 - val_accuracy: 0.7101\n",
            "Epoch 18/100\n",
            " 96/103 [==========================>...] - ETA: 0s - loss: 0.5461 - accuracy: 0.7874\n",
            "Epoch 18: val_loss did not improve from 0.69426\n",
            "103/103 [==============================] - 1s 5ms/step - loss: 0.5493 - accuracy: 0.7859 - val_loss: 0.7223 - val_accuracy: 0.7291\n",
            "Epoch 19/100\n",
            " 95/103 [==========================>...] - ETA: 0s - loss: 0.5323 - accuracy: 0.7870\n",
            "Epoch 19: val_loss improved from 0.69426 to 0.69293, saving model to ./model/cloud_classify.model\n"
          ]
        },
        {
          "output_type": "stream",
          "name": "stderr",
          "text": [
            "WARNING:absl:Found untraced functions such as _jit_compiled_convolution_op, _jit_compiled_convolution_op while saving (showing 2 of 2). These functions will not be directly callable after loading.\n"
          ]
        },
        {
          "output_type": "stream",
          "name": "stdout",
          "text": [
            "\b\b\b\b\b\b\b\b\b\b\b\b\b\b\b\b\b\b\b\b\b\b\b\b\b\b\b\b\b\b\b\b\b\b\b\b\b\b\b\b\b\b\b\b\b\b\b\b\b\b\b\b\b\b\b\b\b\b\b\b\b\b\b\b\b\b\b\b\b\b\b\b\b\b\b\b\b\b\b\b\b\b\b\b\r103/103 [==============================] - 2s 20ms/step - loss: 0.5333 - accuracy: 0.7867 - val_loss: 0.6929 - val_accuracy: 0.7179\n",
            "Epoch 20/100\n",
            " 97/103 [===========================>..] - ETA: 0s - loss: 0.5124 - accuracy: 0.7945\n",
            "Epoch 20: val_loss did not improve from 0.69293\n",
            "103/103 [==============================] - 1s 5ms/step - loss: 0.5146 - accuracy: 0.7932 - val_loss: 0.7224 - val_accuracy: 0.7299\n",
            "Epoch 21/100\n",
            " 96/103 [==========================>...] - ETA: 0s - loss: 0.4600 - accuracy: 0.8231\n",
            "Epoch 21: val_loss improved from 0.69293 to 0.67336, saving model to ./model/cloud_classify.model\n"
          ]
        },
        {
          "output_type": "stream",
          "name": "stderr",
          "text": [
            "WARNING:absl:Found untraced functions such as _jit_compiled_convolution_op, _jit_compiled_convolution_op while saving (showing 2 of 2). These functions will not be directly callable after loading.\n"
          ]
        },
        {
          "output_type": "stream",
          "name": "stdout",
          "text": [
            "\b\b\b\b\b\b\b\b\b\b\b\b\b\b\b\b\b\b\b\b\b\b\b\b\b\b\b\b\b\b\b\b\b\b\b\b\b\b\b\b\b\b\b\b\b\b\b\b\b\b\b\b\b\b\b\b\b\b\b\b\b\b\b\b\b\b\b\b\b\b\b\b\b\b\b\b\b\b\b\b\b\b\b\b\r103/103 [==============================] - 2s 17ms/step - loss: 0.4648 - accuracy: 0.8200 - val_loss: 0.6734 - val_accuracy: 0.7299\n",
            "Epoch 22/100\n",
            "102/103 [============================>.] - ETA: 0s - loss: 0.4622 - accuracy: 0.8166\n",
            "Epoch 22: val_loss did not improve from 0.67336\n",
            "103/103 [==============================] - 1s 6ms/step - loss: 0.4620 - accuracy: 0.8168 - val_loss: 0.7075 - val_accuracy: 0.7187\n",
            "Epoch 23/100\n",
            " 96/103 [==========================>...] - ETA: 0s - loss: 0.4337 - accuracy: 0.8180\n",
            "Epoch 23: val_loss improved from 0.67336 to 0.66216, saving model to ./model/cloud_classify.model\n"
          ]
        },
        {
          "output_type": "stream",
          "name": "stderr",
          "text": [
            "WARNING:absl:Found untraced functions such as _jit_compiled_convolution_op, _jit_compiled_convolution_op while saving (showing 2 of 2). These functions will not be directly callable after loading.\n"
          ]
        },
        {
          "output_type": "stream",
          "name": "stdout",
          "text": [
            "\b\b\b\b\b\b\b\b\b\b\b\b\b\b\b\b\b\b\b\b\b\b\b\b\b\b\b\b\b\b\b\b\b\b\b\b\b\b\b\b\b\b\b\b\b\b\b\b\b\b\b\b\b\b\b\b\b\b\b\b\b\b\b\b\b\b\b\b\b\b\b\b\b\b\b\b\b\b\b\b\b\b\b\b\r103/103 [==============================] - 2s 17ms/step - loss: 0.4331 - accuracy: 0.8183 - val_loss: 0.6622 - val_accuracy: 0.7532\n",
            "Epoch 24/100\n",
            " 93/103 [==========================>...] - ETA: 0s - loss: 0.4045 - accuracy: 0.8375\n",
            "Epoch 24: val_loss did not improve from 0.66216\n",
            "103/103 [==============================] - 1s 5ms/step - loss: 0.4041 - accuracy: 0.8397 - val_loss: 0.6757 - val_accuracy: 0.7481\n",
            "Epoch 25/100\n",
            "103/103 [==============================] - ETA: 0s - loss: 0.3943 - accuracy: 0.8440\n",
            "Epoch 25: val_loss improved from 0.66216 to 0.64936, saving model to ./model/cloud_classify.model\n"
          ]
        },
        {
          "output_type": "stream",
          "name": "stderr",
          "text": [
            "WARNING:absl:Found untraced functions such as _jit_compiled_convolution_op, _jit_compiled_convolution_op while saving (showing 2 of 2). These functions will not be directly callable after loading.\n"
          ]
        },
        {
          "output_type": "stream",
          "name": "stdout",
          "text": [
            "\b\b\b\b\b\b\b\b\b\b\b\b\b\b\b\b\b\b\b\b\b\b\b\b\b\b\b\b\b\b\b\b\b\b\b\b\b\b\b\b\b\b\b\b\b\b\b\b\b\b\b\b\b\b\b\b\b\b\b\b\b\b\b\b\b\b\b\b\b\b\b\b\b\b\b\b\b\b\b\b\b\b\b\b\r103/103 [==============================] - 2s 17ms/step - loss: 0.3943 - accuracy: 0.8440 - val_loss: 0.6494 - val_accuracy: 0.7455\n",
            "Epoch 26/100\n",
            " 92/103 [=========================>....] - ETA: 0s - loss: 0.3772 - accuracy: 0.8504\n",
            "Epoch 26: val_loss improved from 0.64936 to 0.64934, saving model to ./model/cloud_classify.model\n"
          ]
        },
        {
          "output_type": "stream",
          "name": "stderr",
          "text": [
            "WARNING:absl:Found untraced functions such as _jit_compiled_convolution_op, _jit_compiled_convolution_op while saving (showing 2 of 2). These functions will not be directly callable after loading.\n"
          ]
        },
        {
          "output_type": "stream",
          "name": "stdout",
          "text": [
            "\b\b\b\b\b\b\b\b\b\b\b\b\b\b\b\b\b\b\b\b\b\b\b\b\b\b\b\b\b\b\b\b\b\b\b\b\b\b\b\b\b\b\b\b\b\b\b\b\b\b\b\b\b\b\b\b\b\b\b\b\b\b\b\b\b\b\b\b\b\b\b\b\b\b\b\b\b\b\b\b\b\b\b\b\r103/103 [==============================] - 2s 17ms/step - loss: 0.3786 - accuracy: 0.8502 - val_loss: 0.6493 - val_accuracy: 0.7515\n",
            "Epoch 27/100\n",
            " 94/103 [==========================>...] - ETA: 0s - loss: 0.3653 - accuracy: 0.8517\n",
            "Epoch 27: val_loss improved from 0.64934 to 0.63150, saving model to ./model/cloud_classify.model\n"
          ]
        },
        {
          "output_type": "stream",
          "name": "stderr",
          "text": [
            "WARNING:absl:Found untraced functions such as _jit_compiled_convolution_op, _jit_compiled_convolution_op while saving (showing 2 of 2). These functions will not be directly callable after loading.\n"
          ]
        },
        {
          "output_type": "stream",
          "name": "stdout",
          "text": [
            "\b\b\b\b\b\b\b\b\b\b\b\b\b\b\b\b\b\b\b\b\b\b\b\b\b\b\b\b\b\b\b\b\b\b\b\b\b\b\b\b\b\b\b\b\b\b\b\b\b\b\b\b\b\b\b\b\b\b\b\b\b\b\b\b\b\b\b\b\b\b\b\b\b\b\b\b\b\b\b\b\b\b\b\b\r103/103 [==============================] - 2s 19ms/step - loss: 0.3608 - accuracy: 0.8543 - val_loss: 0.6315 - val_accuracy: 0.7619\n",
            "Epoch 28/100\n",
            "101/103 [============================>.] - ETA: 0s - loss: 0.3451 - accuracy: 0.8612\n",
            "Epoch 28: val_loss did not improve from 0.63150\n",
            "103/103 [==============================] - 1s 5ms/step - loss: 0.3476 - accuracy: 0.8596 - val_loss: 0.6426 - val_accuracy: 0.7696\n",
            "Epoch 29/100\n",
            " 95/103 [==========================>...] - ETA: 0s - loss: 0.3351 - accuracy: 0.8630\n",
            "Epoch 29: val_loss did not improve from 0.63150\n",
            "103/103 [==============================] - 1s 5ms/step - loss: 0.3391 - accuracy: 0.8607 - val_loss: 0.6446 - val_accuracy: 0.7739\n",
            "Epoch 30/100\n",
            " 95/103 [==========================>...] - ETA: 0s - loss: 0.3157 - accuracy: 0.8770\n",
            "Epoch 30: val_loss did not improve from 0.63150\n",
            "103/103 [==============================] - 1s 5ms/step - loss: 0.3156 - accuracy: 0.8766 - val_loss: 0.6823 - val_accuracy: 0.7783\n",
            "Epoch 31/100\n",
            " 97/103 [===========================>..] - ETA: 0s - loss: 0.3081 - accuracy: 0.8756\n",
            "Epoch 31: val_loss did not improve from 0.63150\n",
            "103/103 [==============================] - 1s 5ms/step - loss: 0.3090 - accuracy: 0.8755 - val_loss: 0.7161 - val_accuracy: 0.7584\n",
            "Epoch 32/100\n",
            " 95/103 [==========================>...] - ETA: 0s - loss: 0.3064 - accuracy: 0.8757\n",
            "Epoch 32: val_loss did not improve from 0.63150\n",
            "103/103 [==============================] - 1s 5ms/step - loss: 0.3081 - accuracy: 0.8763 - val_loss: 0.7228 - val_accuracy: 0.7722\n",
            "Epoch 33/100\n",
            " 93/103 [==========================>...] - ETA: 0s - loss: 0.3103 - accuracy: 0.8785\n",
            "Epoch 33: val_loss did not improve from 0.63150\n",
            "103/103 [==============================] - 1s 5ms/step - loss: 0.3107 - accuracy: 0.8782 - val_loss: 0.6855 - val_accuracy: 0.7722\n"
          ]
        }
      ],
      "source": [
        "history = model.fit(X_train, y_train, batch_size=64, epochs=100, validation_split=0.15, callbacks=[checkpoint, early_stopping])"
      ]
    },
    {
      "cell_type": "code",
      "execution_count": null,
      "metadata": {
        "id": "i4Fq7nby1Z31",
        "colab": {
          "base_uri": "https://localhost:8080/"
        },
        "outputId": "a493dfe1-558f-4020-ee0b-e3c9d4d30691"
      },
      "outputs": [
        {
          "output_type": "stream",
          "name": "stdout",
          "text": [
            "104/104 [==============================] - 0s 3ms/step - loss: 0.7576 - accuracy: 0.7517\n",
            "정확도 : 0.75\n"
          ]
        }
      ],
      "source": [
        "print(\"정확도 : %.2f\" %(model.evaluate(X_test, y_test)[1]))"
      ]
    },
    {
      "cell_type": "markdown",
      "metadata": {
        "id": "d2GzOWo31s5V"
      },
      "source": [
        "### model 2"
      ]
    },
    {
      "cell_type": "code",
      "execution_count": null,
      "metadata": {
        "id": "d-4hviku1vTX"
      },
      "outputs": [],
      "source": [
        "with tf.device('/device:GPU:0'):\n",
        "    model2 = Sequential()\n",
        "\n",
        "    model2.add(Conv2D(32, (3,3), padding=\"same\", input_shape=X_train.shape[1:], activation=\"relu\"))\n",
        "    model2.add(MaxPooling2D(pool_size=(2,2)))\n",
        "    model2.add(Dropout(0.25))\n",
        "\n",
        "    model2.add(Conv2D(64, (3,3), padding=\"same\", activation=\"relu\"))\n",
        "    model2.add(MaxPooling2D(pool_size=(2,2)))\n",
        "    model2.add(Dropout(0.25))\n",
        "\n",
        "    model2.add(Conv2D(128, (3,3), padding=\"same\", activation=\"relu\")) #새로추가\n",
        "    #model2.add(Conv2D(128, (3,3), padding=\"same\", activation=\"relu\")) #새로추가\n",
        "    model2.add(MaxPooling2D(pool_size=(2,2)))\n",
        "    model2.add(Dropout(0.25))\n",
        "\n",
        "    model2.add(Flatten())\n",
        "    model2.add(Dense(256, activation = 'relu'))\n",
        "    model2.add(Dropout(0.5))\n",
        "    model2.add(Dense(num_classes, activation = 'softmax'))\n",
        "\n",
        "    model2.compile(loss = 'categorical_crossentropy', optimizer = 'adam',metrics=['accuracy'])\n",
        "\n",
        "    model_dir = './model2'\n",
        "    model_path = model_dir + \"/cloud_classify.model2\"\n",
        "\n",
        "    checkpoint = ModelCheckpoint(filepath = model_path, monitor='val_loss', verbose = 1, save_best_only = True)\n",
        "    early_stopping = EarlyStopping(monitor = 'val_loss', patience = 6)\n"
      ]
    },
    {
      "cell_type": "code",
      "execution_count": null,
      "metadata": {
        "colab": {
          "base_uri": "https://localhost:8080/"
        },
        "id": "TNdCALYSsyyL",
        "outputId": "4ec2fd54-4000-4a3e-9b44-fd603caa410b"
      },
      "outputs": [
        {
          "output_type": "stream",
          "name": "stdout",
          "text": [
            "Model: \"sequential_2\"\n",
            "_________________________________________________________________\n",
            " Layer (type)                Output Shape              Param #   \n",
            "=================================================================\n",
            " conv2d_6 (Conv2D)           (None, 64, 64, 32)        896       \n",
            "                                                                 \n",
            " max_pooling2d_5 (MaxPooling  (None, 32, 32, 32)       0         \n",
            " 2D)                                                             \n",
            "                                                                 \n",
            " dropout_7 (Dropout)         (None, 32, 32, 32)        0         \n",
            "                                                                 \n",
            " conv2d_7 (Conv2D)           (None, 32, 32, 64)        18496     \n",
            "                                                                 \n",
            " max_pooling2d_6 (MaxPooling  (None, 16, 16, 64)       0         \n",
            " 2D)                                                             \n",
            "                                                                 \n",
            " dropout_8 (Dropout)         (None, 16, 16, 64)        0         \n",
            "                                                                 \n",
            " conv2d_8 (Conv2D)           (None, 16, 16, 128)       73856     \n",
            "                                                                 \n",
            " max_pooling2d_7 (MaxPooling  (None, 8, 8, 128)        0         \n",
            " 2D)                                                             \n",
            "                                                                 \n",
            " dropout_9 (Dropout)         (None, 8, 8, 128)         0         \n",
            "                                                                 \n",
            " flatten_2 (Flatten)         (None, 8192)              0         \n",
            "                                                                 \n",
            " dense_4 (Dense)             (None, 256)               2097408   \n",
            "                                                                 \n",
            " dropout_10 (Dropout)        (None, 256)               0         \n",
            "                                                                 \n",
            " dense_5 (Dense)             (None, 5)                 1285      \n",
            "                                                                 \n",
            "=================================================================\n",
            "Total params: 2,191,941\n",
            "Trainable params: 2,191,941\n",
            "Non-trainable params: 0\n",
            "_________________________________________________________________\n"
          ]
        }
      ],
      "source": [
        "model2.summary()"
      ]
    },
    {
      "cell_type": "code",
      "execution_count": null,
      "metadata": {
        "colab": {
          "base_uri": "https://localhost:8080/"
        },
        "id": "-BJ2gUL9jtq0",
        "outputId": "144a1d76-57f8-471f-8a8c-6c4f7ef47226"
      },
      "outputs": [
        {
          "output_type": "stream",
          "name": "stdout",
          "text": [
            "Epoch 1/100\n",
            " 98/103 [===========================>..] - ETA: 0s - loss: 0.2378 - accuracy: 0.9048\n",
            "Epoch 1: val_loss improved from inf to 0.71349, saving model to ./model2/cloud_classify.model2\n"
          ]
        },
        {
          "output_type": "stream",
          "name": "stderr",
          "text": [
            "WARNING:absl:Found untraced functions such as _jit_compiled_convolution_op, _jit_compiled_convolution_op while saving (showing 2 of 2). These functions will not be directly callable after loading.\n"
          ]
        },
        {
          "output_type": "stream",
          "name": "stdout",
          "text": [
            "\b\b\b\b\b\b\b\b\b\b\b\b\b\b\b\b\b\b\b\b\b\b\b\b\b\b\b\b\b\b\b\b\b\b\b\b\b\b\b\b\b\b\b\b\b\b\b\b\b\b\b\b\b\b\b\b\b\b\b\b\b\b\b\b\b\b\b\b\b\b\b\b\b\b\b\b\b\b\b\b\b\b\b\b\r103/103 [==============================] - 2s 18ms/step - loss: 0.2353 - accuracy: 0.9063 - val_loss: 0.7135 - val_accuracy: 0.7852\n",
            "Epoch 2/100\n",
            "103/103 [==============================] - ETA: 0s - loss: 0.2294 - accuracy: 0.9096\n",
            "Epoch 2: val_loss did not improve from 0.71349\n",
            "103/103 [==============================] - 1s 5ms/step - loss: 0.2294 - accuracy: 0.9096 - val_loss: 0.7239 - val_accuracy: 0.7860\n",
            "Epoch 3/100\n",
            " 96/103 [==========================>...] - ETA: 0s - loss: 0.2243 - accuracy: 0.9137\n",
            "Epoch 3: val_loss improved from 0.71349 to 0.69770, saving model to ./model2/cloud_classify.model2\n"
          ]
        },
        {
          "output_type": "stream",
          "name": "stderr",
          "text": [
            "WARNING:absl:Found untraced functions such as _jit_compiled_convolution_op, _jit_compiled_convolution_op while saving (showing 2 of 2). These functions will not be directly callable after loading.\n"
          ]
        },
        {
          "output_type": "stream",
          "name": "stdout",
          "text": [
            "\b\b\b\b\b\b\b\b\b\b\b\b\b\b\b\b\b\b\b\b\b\b\b\b\b\b\b\b\b\b\b\b\b\b\b\b\b\b\b\b\b\b\b\b\b\b\b\b\b\b\b\b\b\b\b\b\b\b\b\b\b\b\b\b\b\b\b\b\b\b\b\b\b\b\b\b\b\b\b\b\b\b\b\b\r103/103 [==============================] - 2s 17ms/step - loss: 0.2223 - accuracy: 0.9147 - val_loss: 0.6977 - val_accuracy: 0.8007\n",
            "Epoch 4/100\n",
            " 94/103 [==========================>...] - ETA: 0s - loss: 0.2203 - accuracy: 0.9112\n",
            "Epoch 4: val_loss improved from 0.69770 to 0.67043, saving model to ./model2/cloud_classify.model2\n"
          ]
        },
        {
          "output_type": "stream",
          "name": "stderr",
          "text": [
            "WARNING:absl:Found untraced functions such as _jit_compiled_convolution_op, _jit_compiled_convolution_op while saving (showing 2 of 2). These functions will not be directly callable after loading.\n"
          ]
        },
        {
          "output_type": "stream",
          "name": "stdout",
          "text": [
            "\b\b\b\b\b\b\b\b\b\b\b\b\b\b\b\b\b\b\b\b\b\b\b\b\b\b\b\b\b\b\b\b\b\b\b\b\b\b\b\b\b\b\b\b\b\b\b\b\b\b\b\b\b\b\b\b\b\b\b\b\b\b\b\b\b\b\b\b\b\b\b\b\b\b\b\b\b\b\b\b\b\b\b\b\r103/103 [==============================] - 2s 17ms/step - loss: 0.2221 - accuracy: 0.9116 - val_loss: 0.6704 - val_accuracy: 0.7955\n",
            "Epoch 5/100\n",
            " 96/103 [==========================>...] - ETA: 0s - loss: 0.2126 - accuracy: 0.9183\n",
            "Epoch 5: val_loss did not improve from 0.67043\n",
            "103/103 [==============================] - 1s 5ms/step - loss: 0.2133 - accuracy: 0.9182 - val_loss: 0.7141 - val_accuracy: 0.8007\n",
            "Epoch 6/100\n",
            " 96/103 [==========================>...] - ETA: 0s - loss: 0.2133 - accuracy: 0.9136\n",
            "Epoch 6: val_loss did not improve from 0.67043\n",
            "103/103 [==============================] - 1s 5ms/step - loss: 0.2109 - accuracy: 0.9150 - val_loss: 0.7030 - val_accuracy: 0.7912\n",
            "Epoch 7/100\n",
            " 96/103 [==========================>...] - ETA: 0s - loss: 0.1980 - accuracy: 0.9172\n",
            "Epoch 7: val_loss did not improve from 0.67043\n",
            "103/103 [==============================] - 1s 5ms/step - loss: 0.1971 - accuracy: 0.9182 - val_loss: 0.6738 - val_accuracy: 0.7981\n",
            "Epoch 8/100\n",
            " 97/103 [===========================>..] - ETA: 0s - loss: 0.2033 - accuracy: 0.9216\n",
            "Epoch 8: val_loss did not improve from 0.67043\n",
            "103/103 [==============================] - 1s 5ms/step - loss: 0.2042 - accuracy: 0.9201 - val_loss: 0.7163 - val_accuracy: 0.7955\n",
            "Epoch 9/100\n",
            " 97/103 [===========================>..] - ETA: 0s - loss: 0.1922 - accuracy: 0.9236\n",
            "Epoch 9: val_loss did not improve from 0.67043\n",
            "103/103 [==============================] - 1s 5ms/step - loss: 0.1948 - accuracy: 0.9227 - val_loss: 0.7994 - val_accuracy: 0.7877\n",
            "Epoch 10/100\n",
            " 96/103 [==========================>...] - ETA: 0s - loss: 0.1949 - accuracy: 0.9194\n",
            "Epoch 10: val_loss did not improve from 0.67043\n",
            "103/103 [==============================] - 1s 5ms/step - loss: 0.1972 - accuracy: 0.9185 - val_loss: 0.6736 - val_accuracy: 0.8128\n"
          ]
        }
      ],
      "source": [
        "history = model.fit(X_train, y_train, batch_size=64, epochs=100, validation_split=0.15, callbacks=[checkpoint, early_stopping])"
      ]
    },
    {
      "cell_type": "code",
      "execution_count": null,
      "metadata": {
        "colab": {
          "base_uri": "https://localhost:8080/"
        },
        "id": "wiJ_okDbjwU6",
        "outputId": "10e074c1-13b9-4bea-f912-cb03a1822f4b"
      },
      "outputs": [
        {
          "output_type": "stream",
          "name": "stdout",
          "text": [
            "104/104 [==============================] - 1s 3ms/step - loss: 1.6195 - accuracy: 0.1764\n",
            "정확도 : 0.18\n"
          ]
        }
      ],
      "source": [
        "print(\"정확도 : %.2f\" %(model2.evaluate(X_test, y_test)[1]))"
      ]
    },
    {
      "cell_type": "code",
      "source": [
        "from tensorflow.keras.models import Sequential\n",
        "from tensorflow.keras.layers import Conv2D, MaxPooling2D, Dropout, Flatten, Dense\n",
        "\n",
        "model2 = Sequential()\n",
        "\n",
        "model2.add(Conv2D(32, (3, 3), padding=\"same\", input_shape=X_train.shape[1:], activation=\"relu\"))\n",
        "model2.add(MaxPooling2D(pool_size=(2, 2)))\n",
        "model2.add(Dropout(0.25))\n",
        "\n",
        "model2.add(Conv2D(64, (3, 3), padding=\"same\", activation=\"relu\"))\n",
        "model2.add(MaxPooling2D(pool_size=(2, 2)))\n",
        "model2.add(Dropout(0.25))\n",
        "\n",
        "model2.add(Conv2D(128, (3, 3), padding=\"same\", activation=\"relu\"))\n",
        "model2.add(MaxPooling2D(pool_size=(2, 2)))\n",
        "model2.add(Dropout(0.25))\n",
        "\n",
        "model2.add(Flatten())\n",
        "model2.add(Dense(256, activation='relu'))\n",
        "model2.add(Dropout(0.5))\n",
        "model2.add(Dense(num_classes, activation='softmax'))\n"
      ],
      "metadata": {
        "id": "-sI4HdVuhRqZ"
      },
      "execution_count": null,
      "outputs": []
    },
    {
      "cell_type": "code",
      "source": [
        "from tensorflow.keras.optimizers import Adam\n",
        "\n",
        "model2.compile(loss='categorical_crossentropy', optimizer=Adam(lr=0.001), metrics=['accuracy'])\n"
      ],
      "metadata": {
        "colab": {
          "base_uri": "https://localhost:8080/"
        },
        "id": "ali5kEVIhU87",
        "outputId": "a300e4e0-e7e3-4f40-fbaf-f66f0ab35fba"
      },
      "execution_count": null,
      "outputs": [
        {
          "output_type": "stream",
          "name": "stderr",
          "text": [
            "WARNING:absl:`lr` is deprecated in Keras optimizer, please use `learning_rate` or use the legacy optimizer, e.g.,tf.keras.optimizers.legacy.Adam.\n"
          ]
        }
      ]
    },
    {
      "cell_type": "code",
      "source": [
        "history = model2.fit(X_train, y_train, batch_size=64, epochs=100, validation_split=0.15, callbacks=[checkpoint, early_stopping])"
      ],
      "metadata": {
        "colab": {
          "base_uri": "https://localhost:8080/"
        },
        "id": "JGE6kDWIhWD8",
        "outputId": "9e378793-f19d-4961-8374-123062ee59a3"
      },
      "execution_count": null,
      "outputs": [
        {
          "output_type": "stream",
          "name": "stdout",
          "text": [
            "Epoch 1/100\n",
            " 99/103 [===========================>..] - ETA: 0s - loss: 1.4589 - accuracy: 0.3518\n",
            "Epoch 1: val_loss did not improve from 0.40965\n",
            "103/103 [==============================] - 3s 8ms/step - loss: 1.4519 - accuracy: 0.3548 - val_loss: 1.3263 - val_accuracy: 0.4228\n",
            "Epoch 2/100\n",
            " 97/103 [===========================>..] - ETA: 0s - loss: 1.2659 - accuracy: 0.4734\n",
            "Epoch 2: val_loss did not improve from 0.40965\n",
            "103/103 [==============================] - 1s 6ms/step - loss: 1.2682 - accuracy: 0.4733 - val_loss: 1.2122 - val_accuracy: 0.5160\n",
            "Epoch 3/100\n",
            " 95/103 [==========================>...] - ETA: 0s - loss: 1.1804 - accuracy: 0.5183\n",
            "Epoch 3: val_loss did not improve from 0.40965\n",
            "103/103 [==============================] - 1s 6ms/step - loss: 1.1841 - accuracy: 0.5174 - val_loss: 1.1386 - val_accuracy: 0.5487\n",
            "Epoch 4/100\n",
            " 97/103 [===========================>..] - ETA: 0s - loss: 1.1269 - accuracy: 0.5469\n",
            "Epoch 4: val_loss did not improve from 0.40965\n",
            "103/103 [==============================] - 1s 6ms/step - loss: 1.1238 - accuracy: 0.5466 - val_loss: 1.0648 - val_accuracy: 0.5815\n",
            "Epoch 5/100\n",
            " 94/103 [==========================>...] - ETA: 0s - loss: 1.0584 - accuracy: 0.5745\n",
            "Epoch 5: val_loss did not improve from 0.40965\n",
            "103/103 [==============================] - 1s 6ms/step - loss: 1.0554 - accuracy: 0.5777 - val_loss: 1.0258 - val_accuracy: 0.5841\n",
            "Epoch 6/100\n",
            " 96/103 [==========================>...] - ETA: 0s - loss: 0.9948 - accuracy: 0.6024\n",
            "Epoch 6: val_loss did not improve from 0.40965\n",
            "103/103 [==============================] - 1s 6ms/step - loss: 0.9971 - accuracy: 0.6021 - val_loss: 0.9771 - val_accuracy: 0.6238\n",
            "Epoch 7/100\n",
            " 97/103 [===========================>..] - ETA: 0s - loss: 0.9504 - accuracy: 0.6268\n",
            "Epoch 7: val_loss did not improve from 0.40965\n",
            "103/103 [==============================] - 1s 6ms/step - loss: 0.9471 - accuracy: 0.6279 - val_loss: 0.9005 - val_accuracy: 0.6376\n",
            "Epoch 8/100\n",
            " 95/103 [==========================>...] - ETA: 0s - loss: 0.9064 - accuracy: 0.6431\n",
            "Epoch 8: val_loss did not improve from 0.40965\n",
            "103/103 [==============================] - 1s 6ms/step - loss: 0.8994 - accuracy: 0.6464 - val_loss: 0.8488 - val_accuracy: 0.6575\n",
            "Epoch 9/100\n",
            " 94/103 [==========================>...] - ETA: 0s - loss: 0.8415 - accuracy: 0.6690\n",
            "Epoch 9: val_loss did not improve from 0.40965\n",
            "103/103 [==============================] - 1s 6ms/step - loss: 0.8382 - accuracy: 0.6727 - val_loss: 0.7894 - val_accuracy: 0.6877\n",
            "Epoch 10/100\n",
            " 97/103 [===========================>..] - ETA: 0s - loss: 0.7704 - accuracy: 0.7025\n",
            "Epoch 10: val_loss did not improve from 0.40965\n",
            "103/103 [==============================] - 1s 6ms/step - loss: 0.7705 - accuracy: 0.7027 - val_loss: 0.7740 - val_accuracy: 0.6920\n",
            "Epoch 11/100\n",
            " 96/103 [==========================>...] - ETA: 0s - loss: 0.7317 - accuracy: 0.7137\n",
            "Epoch 11: val_loss did not improve from 0.40965\n",
            "103/103 [==============================] - 1s 6ms/step - loss: 0.7272 - accuracy: 0.7150 - val_loss: 0.7393 - val_accuracy: 0.6997\n",
            "Epoch 12/100\n",
            " 96/103 [==========================>...] - ETA: 0s - loss: 0.6742 - accuracy: 0.7324\n",
            "Epoch 12: val_loss did not improve from 0.40965\n",
            "103/103 [==============================] - 1s 6ms/step - loss: 0.6772 - accuracy: 0.7313 - val_loss: 0.6997 - val_accuracy: 0.7230\n",
            "Epoch 13/100\n",
            " 95/103 [==========================>...] - ETA: 0s - loss: 0.6501 - accuracy: 0.7451\n",
            "Epoch 13: val_loss did not improve from 0.40965\n",
            "103/103 [==============================] - 1s 6ms/step - loss: 0.6488 - accuracy: 0.7464 - val_loss: 0.6819 - val_accuracy: 0.7230\n",
            "Epoch 14/100\n",
            " 95/103 [==========================>...] - ETA: 0s - loss: 0.5976 - accuracy: 0.7689\n",
            "Epoch 14: val_loss did not improve from 0.40965\n",
            "103/103 [==============================] - 1s 6ms/step - loss: 0.5992 - accuracy: 0.7678 - val_loss: 0.6134 - val_accuracy: 0.7670\n",
            "Epoch 15/100\n",
            " 96/103 [==========================>...] - ETA: 0s - loss: 0.5471 - accuracy: 0.7848\n",
            "Epoch 15: val_loss did not improve from 0.40965\n",
            "103/103 [==============================] - 1s 6ms/step - loss: 0.5482 - accuracy: 0.7836 - val_loss: 0.5944 - val_accuracy: 0.7584\n",
            "Epoch 16/100\n",
            " 94/103 [==========================>...] - ETA: 0s - loss: 0.5088 - accuracy: 0.7965\n",
            "Epoch 16: val_loss did not improve from 0.40965\n",
            "103/103 [==============================] - 1s 6ms/step - loss: 0.5077 - accuracy: 0.7976 - val_loss: 0.5445 - val_accuracy: 0.7938\n",
            "Epoch 17/100\n",
            "103/103 [==============================] - ETA: 0s - loss: 0.4736 - accuracy: 0.8121\n",
            "Epoch 17: val_loss did not improve from 0.40965\n",
            "103/103 [==============================] - 1s 6ms/step - loss: 0.4736 - accuracy: 0.8121 - val_loss: 0.5359 - val_accuracy: 0.7877\n",
            "Epoch 18/100\n",
            "102/103 [============================>.] - ETA: 0s - loss: 0.4602 - accuracy: 0.8208\n",
            "Epoch 18: val_loss did not improve from 0.40965\n",
            "103/103 [==============================] - 1s 6ms/step - loss: 0.4606 - accuracy: 0.8205 - val_loss: 0.5616 - val_accuracy: 0.7903\n",
            "Epoch 19/100\n",
            " 94/103 [==========================>...] - ETA: 0s - loss: 0.4434 - accuracy: 0.8303\n",
            "Epoch 19: val_loss did not improve from 0.40965\n",
            "103/103 [==============================] - 1s 6ms/step - loss: 0.4390 - accuracy: 0.8310 - val_loss: 0.4846 - val_accuracy: 0.8205\n",
            "Epoch 20/100\n",
            " 94/103 [==========================>...] - ETA: 0s - loss: 0.3745 - accuracy: 0.8554\n",
            "Epoch 20: val_loss did not improve from 0.40965\n",
            "103/103 [==============================] - 1s 6ms/step - loss: 0.3741 - accuracy: 0.8542 - val_loss: 0.4851 - val_accuracy: 0.8197\n",
            "Epoch 21/100\n",
            "103/103 [==============================] - ETA: 0s - loss: 0.4069 - accuracy: 0.8426\n",
            "Epoch 21: val_loss did not improve from 0.40965\n",
            "103/103 [==============================] - 1s 6ms/step - loss: 0.4069 - accuracy: 0.8426 - val_loss: 0.4921 - val_accuracy: 0.8119\n",
            "Epoch 22/100\n",
            " 96/103 [==========================>...] - ETA: 0s - loss: 0.3543 - accuracy: 0.8674\n",
            "Epoch 22: val_loss did not improve from 0.40965\n",
            "103/103 [==============================] - 1s 6ms/step - loss: 0.3559 - accuracy: 0.8677 - val_loss: 0.4881 - val_accuracy: 0.8179\n",
            "Epoch 23/100\n",
            " 94/103 [==========================>...] - ETA: 0s - loss: 0.3298 - accuracy: 0.8728\n",
            "Epoch 23: val_loss did not improve from 0.40965\n",
            "103/103 [==============================] - 1s 6ms/step - loss: 0.3305 - accuracy: 0.8715 - val_loss: 0.4353 - val_accuracy: 0.8507\n",
            "Epoch 24/100\n",
            "103/103 [==============================] - ETA: 0s - loss: 0.3076 - accuracy: 0.8824\n",
            "Epoch 24: val_loss did not improve from 0.40965\n",
            "103/103 [==============================] - 1s 6ms/step - loss: 0.3076 - accuracy: 0.8824 - val_loss: 0.4546 - val_accuracy: 0.8412\n",
            "Epoch 25/100\n",
            " 98/103 [===========================>..] - ETA: 0s - loss: 0.3169 - accuracy: 0.8747\n",
            "Epoch 25: val_loss did not improve from 0.40965\n",
            "103/103 [==============================] - 1s 6ms/step - loss: 0.3151 - accuracy: 0.8752 - val_loss: 0.4432 - val_accuracy: 0.8318\n",
            "Epoch 26/100\n",
            " 97/103 [===========================>..] - ETA: 0s - loss: 0.2700 - accuracy: 0.8992\n",
            "Epoch 26: val_loss did not improve from 0.40965\n",
            "103/103 [==============================] - 1s 6ms/step - loss: 0.2762 - accuracy: 0.8968 - val_loss: 0.4113 - val_accuracy: 0.8456\n",
            "Epoch 27/100\n",
            " 96/103 [==========================>...] - ETA: 0s - loss: 0.2810 - accuracy: 0.8911\n",
            "Epoch 27: val_loss improved from 0.40965 to 0.38851, saving model to ./model2/cloud_classify.model2\n"
          ]
        },
        {
          "output_type": "stream",
          "name": "stderr",
          "text": [
            "WARNING:absl:Found untraced functions such as _jit_compiled_convolution_op, _jit_compiled_convolution_op, _jit_compiled_convolution_op while saving (showing 3 of 3). These functions will not be directly callable after loading.\n"
          ]
        },
        {
          "output_type": "stream",
          "name": "stdout",
          "text": [
            "\b\b\b\b\b\b\b\b\b\b\b\b\b\b\b\b\b\b\b\b\b\b\b\b\b\b\b\b\b\b\b\b\b\b\b\b\b\b\b\b\b\b\b\b\b\b\b\b\b\b\b\b\b\b\b\b\b\b\b\b\b\b\b\b\b\b\b\b\b\b\b\b\b\b\b\b\b\b\b\b\b\b\b\b\r103/103 [==============================] - 2s 20ms/step - loss: 0.2811 - accuracy: 0.8904 - val_loss: 0.3885 - val_accuracy: 0.8619\n",
            "Epoch 28/100\n",
            " 95/103 [==========================>...] - ETA: 0s - loss: 0.2806 - accuracy: 0.8929\n",
            "Epoch 28: val_loss did not improve from 0.38851\n",
            "103/103 [==============================] - 1s 6ms/step - loss: 0.2830 - accuracy: 0.8916 - val_loss: 0.4037 - val_accuracy: 0.8559\n",
            "Epoch 29/100\n",
            "102/103 [============================>.] - ETA: 0s - loss: 0.2833 - accuracy: 0.8949\n",
            "Epoch 29: val_loss improved from 0.38851 to 0.37283, saving model to ./model2/cloud_classify.model2\n"
          ]
        },
        {
          "output_type": "stream",
          "name": "stderr",
          "text": [
            "WARNING:absl:Found untraced functions such as _jit_compiled_convolution_op, _jit_compiled_convolution_op, _jit_compiled_convolution_op while saving (showing 3 of 3). These functions will not be directly callable after loading.\n"
          ]
        },
        {
          "output_type": "stream",
          "name": "stdout",
          "text": [
            "\b\b\b\b\b\b\b\b\b\b\b\b\b\b\b\b\b\b\b\b\b\b\b\b\b\b\b\b\b\b\b\b\b\b\b\b\b\b\b\b\b\b\b\b\b\b\b\b\b\b\b\b\b\b\b\b\b\b\b\b\b\b\b\b\b\b\b\b\b\b\b\b\b\b\b\b\b\b\b\b\b\b\b\b\r103/103 [==============================] - 2s 20ms/step - loss: 0.2837 - accuracy: 0.8947 - val_loss: 0.3728 - val_accuracy: 0.8680\n",
            "Epoch 30/100\n",
            "102/103 [============================>.] - ETA: 0s - loss: 0.2398 - accuracy: 0.9082\n",
            "Epoch 30: val_loss did not improve from 0.37283\n",
            "103/103 [==============================] - 1s 6ms/step - loss: 0.2389 - accuracy: 0.9086 - val_loss: 0.3945 - val_accuracy: 0.8594\n",
            "Epoch 31/100\n",
            "103/103 [==============================] - ETA: 0s - loss: 0.2460 - accuracy: 0.9069\n",
            "Epoch 31: val_loss did not improve from 0.37283\n",
            "103/103 [==============================] - 1s 6ms/step - loss: 0.2460 - accuracy: 0.9069 - val_loss: 0.3886 - val_accuracy: 0.8749\n",
            "Epoch 32/100\n",
            " 95/103 [==========================>...] - ETA: 0s - loss: 0.2284 - accuracy: 0.9125\n",
            "Epoch 32: val_loss did not improve from 0.37283\n",
            "103/103 [==============================] - 1s 6ms/step - loss: 0.2274 - accuracy: 0.9133 - val_loss: 0.3933 - val_accuracy: 0.8628\n",
            "Epoch 33/100\n",
            "101/103 [============================>.] - ETA: 0s - loss: 0.2101 - accuracy: 0.9149\n",
            "Epoch 33: val_loss did not improve from 0.37283\n",
            "103/103 [==============================] - 1s 6ms/step - loss: 0.2094 - accuracy: 0.9153 - val_loss: 0.4091 - val_accuracy: 0.8714\n",
            "Epoch 34/100\n",
            " 99/103 [===========================>..] - ETA: 0s - loss: 0.2301 - accuracy: 0.9100\n",
            "Epoch 34: val_loss did not improve from 0.37283\n",
            "103/103 [==============================] - 1s 6ms/step - loss: 0.2287 - accuracy: 0.9101 - val_loss: 0.4014 - val_accuracy: 0.8645\n",
            "Epoch 35/100\n",
            "102/103 [============================>.] - ETA: 0s - loss: 0.2149 - accuracy: 0.9179\n",
            "Epoch 35: val_loss did not improve from 0.37283\n",
            "103/103 [==============================] - 1s 6ms/step - loss: 0.2161 - accuracy: 0.9171 - val_loss: 0.3892 - val_accuracy: 0.8637\n"
          ]
        }
      ]
    },
    {
      "cell_type": "code",
      "source": [
        "print(\"정확도 : %.2f\" %(model2.evaluate(X_test, y_test)[1]))"
      ],
      "metadata": {
        "colab": {
          "base_uri": "https://localhost:8080/"
        },
        "id": "Ro9dmkgqhzIc",
        "outputId": "dc8cef2d-0396-46bb-cd25-af893c77f0c2"
      },
      "execution_count": null,
      "outputs": [
        {
          "output_type": "stream",
          "name": "stdout",
          "text": [
            "104/104 [==============================] - 0s 3ms/step - loss: 0.4650 - accuracy: 0.8532\n",
            "정확도 : 0.85\n"
          ]
        }
      ]
    },
    {
      "cell_type": "markdown",
      "metadata": {
        "id": "uZY1m2Fis5pO"
      },
      "source": [
        "## test"
      ]
    },
    {
      "cell_type": "code",
      "execution_count": null,
      "metadata": {
        "colab": {
          "base_uri": "https://localhost:8080/"
        },
        "id": "J8Gk51iVs6xL",
        "outputId": "9b91d4aa-aa9a-4241-de4b-05b2be345fc3"
      },
      "outputs": [
        {
          "output_type": "stream",
          "name": "stdout",
          "text": [
            "7/7 [==============================] - 0s 2ms/step\n",
            "////////////////////\n",
            "75.jpg의 예측되는 구름종류 : St\n",
            "////////////////////\n",
            "72.jpg의 예측되는 구름종류 : Sc\n",
            "////////////////////\n",
            "74.jpg의 예측되는 구름종류 : Sc\n",
            "////////////////////\n",
            "71.jpg의 예측되는 구름종류 : Cc\n",
            "////////////////////\n",
            "70.jpg의 예측되는 구름종류 : St\n",
            "////////////////////\n",
            "7.jpg의 예측되는 구름종류 : Sc\n",
            "////////////////////\n",
            "64.jpg의 예측되는 구름종류 : Cc\n",
            "////////////////////\n",
            "67.jpg의 예측되는 구름종류 : Cc\n",
            "////////////////////\n",
            "66.jpg의 예측되는 구름종류 : Sc\n",
            "////////////////////\n",
            "98.jpg의 예측되는 구름종류 : St\n",
            "////////////////////\n",
            "99.jpg의 예측되는 구름종류 : Sc\n",
            "////////////////////\n",
            "97.jpg의 예측되는 구름종류 : Cc\n",
            "////////////////////\n",
            "96.jpg의 예측되는 구름종류 : Sc\n",
            "////////////////////\n",
            "93.jpg의 예측되는 구름종류 : Sc\n",
            "////////////////////\n",
            "94.jpg의 예측되는 구름종류 : Cc\n",
            "////////////////////\n",
            "95.jpg의 예측되는 구름종류 : Sc\n",
            "////////////////////\n",
            "91.jpg의 예측되는 구름종류 : Cc\n",
            "////////////////////\n",
            "92.jpg의 예측되는 구름종류 : Cc\n",
            "////////////////////\n",
            "90.jpg의 예측되는 구름종류 : St\n",
            "////////////////////\n",
            "89.jpg의 예측되는 구름종류 : Sc\n",
            "////////////////////\n",
            "9.jpg의 예측되는 구름종류 : Cc\n",
            "////////////////////\n",
            "88.jpg의 예측되는 구름종류 : Cc\n",
            "////////////////////\n",
            "87.jpg의 예측되는 구름종류 : Sc\n",
            "////////////////////\n",
            "85.jpg의 예측되는 구름종류 : Sc\n",
            "////////////////////\n",
            "84.jpg의 예측되는 구름종류 : Cb\n",
            "////////////////////\n",
            "86.jpg의 예측되는 구름종류 : Sc\n",
            "////////////////////\n",
            "82.jpg의 예측되는 구름종류 : Sc\n",
            "////////////////////\n",
            "83.jpg의 예측되는 구름종류 : Sc\n",
            "////////////////////\n",
            "8.jpg의 예측되는 구름종류 : Cb\n",
            "////////////////////\n",
            "80.jpg의 예측되는 구름종류 : Sc\n",
            "////////////////////\n",
            "81.jpg의 예측되는 구름종류 : Sc\n",
            "////////////////////\n",
            "79.jpg의 예측되는 구름종류 : Cc\n",
            "////////////////////\n",
            "78.jpg의 예측되는 구름종류 : Sc\n",
            "////////////////////\n",
            "76.jpg의 예측되는 구름종류 : Cc\n",
            "////////////////////\n",
            "73.jpg의 예측되는 구름종류 : Cc\n",
            "////////////////////\n",
            "77.jpg의 예측되는 구름종류 : St\n",
            "////////////////////\n",
            "1.jpg의 예측되는 구름종류 : Sc\n",
            "////////////////////\n",
            "100.jpg의 예측되는 구름종류 : Cc\n",
            "////////////////////\n",
            "101.jpg의 예측되는 구름종류 : Cc\n",
            "////////////////////\n",
            "104.jpg의 예측되는 구름종류 : Sc\n",
            "////////////////////\n",
            "10.jpg의 예측되는 구름종류 : Cc\n",
            "////////////////////\n",
            "102.jpg의 예측되는 구름종류 : Sc\n",
            "////////////////////\n",
            "106.jpg의 예측되는 구름종류 : Cc\n",
            "////////////////////\n",
            "108.jpg의 예측되는 구름종류 : St\n",
            "////////////////////\n",
            "107.jpg의 예측되는 구름종류 : St\n",
            "////////////////////\n",
            "103.jpg의 예측되는 구름종류 : Sc\n",
            "////////////////////\n",
            "105.jpg의 예측되는 구름종류 : St\n",
            "////////////////////\n",
            "12.jpg의 예측되는 구름종류 : Sc\n",
            "////////////////////\n",
            "130.jpg의 예측되는 구름종류 : St\n",
            "////////////////////\n",
            "131.jpg의 예측되는 구름종류 : St\n",
            "////////////////////\n",
            "137.jpg의 예측되는 구름종류 : Cc\n",
            "////////////////////\n",
            "122.jpg의 예측되는 구름종류 : Sc\n",
            "////////////////////\n",
            "119.jpg의 예측되는 구름종류 : Sc\n",
            "////////////////////\n",
            "117.jpg의 예측되는 구름종류 : Cc\n",
            "////////////////////\n",
            "118.jpg의 예측되는 구름종류 : St\n",
            "////////////////////\n",
            "127.jpg의 예측되는 구름종류 : Sc\n",
            "////////////////////\n",
            "123.jpg의 예측되는 구름종류 : Cc\n",
            "////////////////////\n",
            "125.jpg의 예측되는 구름종류 : Sc\n",
            "////////////////////\n",
            "13.jpg의 예측되는 구름종류 : Sc\n",
            "////////////////////\n",
            "109.jpg의 예측되는 구름종류 : Cc\n",
            "////////////////////\n",
            "112.jpg의 예측되는 구름종류 : Sc\n",
            "////////////////////\n",
            "135.jpg의 예측되는 구름종류 : Cc\n",
            "////////////////////\n",
            "110.jpg의 예측되는 구름종류 : Sc\n",
            "////////////////////\n",
            "124.jpg의 예측되는 구름종류 : St\n",
            "////////////////////\n",
            "115.jpg의 예측되는 구름종류 : Cc\n",
            "////////////////////\n",
            "121.jpg의 예측되는 구름종류 : Sc\n",
            "////////////////////\n",
            "138.jpg의 예측되는 구름종류 : Sc\n",
            "////////////////////\n",
            "136.jpg의 예측되는 구름종류 : St\n",
            "////////////////////\n",
            "114.jpg의 예측되는 구름종류 : Sc\n",
            "////////////////////\n",
            "132.jpg의 예측되는 구름종류 : Cc\n",
            "////////////////////\n",
            "128.jpg의 예측되는 구름종류 : Cc\n",
            "////////////////////\n",
            "133.jpg의 예측되는 구름종류 : Cc\n",
            "////////////////////\n",
            "134.jpg의 예측되는 구름종류 : Cc\n",
            "////////////////////\n",
            "111.jpg의 예측되는 구름종류 : Cc\n",
            "////////////////////\n",
            "129.jpg의 예측되는 구름종류 : Cc\n",
            "////////////////////\n",
            "113.jpg의 예측되는 구름종류 : Cc\n",
            "////////////////////\n",
            "126.jpg의 예측되는 구름종류 : Sc\n",
            "////////////////////\n",
            "120.jpg의 예측되는 구름종류 : Sc\n",
            "////////////////////\n",
            "116.jpg의 예측되는 구름종류 : Sc\n",
            "////////////////////\n",
            "11.jpg의 예측되는 구름종류 : Cc\n",
            "////////////////////\n",
            "152.jpg의 예측되는 구름종류 : St\n",
            "////////////////////\n",
            "163.jpg의 예측되는 구름종류 : Cc\n",
            "////////////////////\n",
            "169.jpg의 예측되는 구름종류 : Sc\n",
            "////////////////////\n",
            "146.jpg의 예측되는 구름종류 : Cc\n",
            "////////////////////\n",
            "139.jpg의 예측되는 구름종류 : Cc\n",
            "////////////////////\n",
            "156.jpg의 예측되는 구름종류 : Sc\n",
            "////////////////////\n",
            "151.jpg의 예측되는 구름종류 : Cc\n",
            "////////////////////\n",
            "153.jpg의 예측되는 구름종류 : Cc\n",
            "////////////////////\n",
            "167.jpg의 예측되는 구름종류 : Cc\n",
            "////////////////////\n",
            "157.jpg의 예측되는 구름종류 : St\n",
            "////////////////////\n",
            "149.jpg의 예측되는 구름종류 : Sc\n",
            "////////////////////\n",
            "16.jpg의 예측되는 구름종류 : Sc\n",
            "////////////////////\n",
            "15.jpg의 예측되는 구름종류 : Sc\n",
            "////////////////////\n",
            "162.jpg의 예측되는 구름종류 : Cc\n",
            "////////////////////\n",
            "159.jpg의 예측되는 구름종류 : Sc\n",
            "////////////////////\n",
            "148.jpg의 예측되는 구름종류 : Cc\n",
            "////////////////////\n",
            "158.jpg의 예측되는 구름종류 : St\n",
            "////////////////////\n",
            "143.jpg의 예측되는 구름종류 : Sc\n",
            "////////////////////\n",
            "17.jpg의 예측되는 구름종류 : Sc\n",
            "////////////////////\n",
            "160.jpg의 예측되는 구름종류 : Sc\n",
            "////////////////////\n",
            "140.jpg의 예측되는 구름종류 : Ns\n",
            "////////////////////\n",
            "168.jpg의 예측되는 구름종류 : Sc\n",
            "////////////////////\n",
            "166.jpg의 예측되는 구름종류 : Ns\n",
            "////////////////////\n",
            "142.jpg의 예측되는 구름종류 : Sc\n",
            "////////////////////\n",
            "145.jpg의 예측되는 구름종류 : Cc\n",
            "////////////////////\n",
            "150.jpg의 예측되는 구름종류 : St\n",
            "////////////////////\n",
            "154.jpg의 예측되는 구름종류 : Cc\n",
            "////////////////////\n",
            "165.jpg의 예측되는 구름종류 : St\n",
            "////////////////////\n",
            "147.jpg의 예측되는 구름종류 : Sc\n",
            "////////////////////\n",
            "161.jpg의 예측되는 구름종류 : Sc\n",
            "////////////////////\n",
            "155.jpg의 예측되는 구름종류 : Sc\n",
            "////////////////////\n",
            "14.jpg의 예측되는 구름종류 : Cc\n",
            "////////////////////\n",
            "144.jpg의 예측되는 구름종류 : Sc\n",
            "////////////////////\n",
            "141.jpg의 예측되는 구름종류 : Sc\n",
            "////////////////////\n",
            "164.jpg의 예측되는 구름종류 : Sc\n",
            "////////////////////\n",
            "188.jpg의 예측되는 구름종류 : Sc\n",
            "////////////////////\n",
            "178.jpg의 예측되는 구름종류 : Cc\n",
            "////////////////////\n",
            "180.jpg의 예측되는 구름종류 : Cc\n",
            "////////////////////\n",
            "179.jpg의 예측되는 구름종류 : Sc\n",
            "////////////////////\n",
            "177.jpg의 예측되는 구름종류 : Sc\n",
            "////////////////////\n",
            "190.jpg의 예측되는 구름종류 : Sc\n",
            "////////////////////\n",
            "184.jpg의 예측되는 구름종류 : Cc\n",
            "////////////////////\n",
            "2.jpg의 예측되는 구름종류 : Cc\n",
            "////////////////////\n",
            "174.jpg의 예측되는 구름종류 : Cc\n",
            "////////////////////\n",
            "20.jpg의 예측되는 구름종류 : Cc\n",
            "////////////////////\n",
            "192.jpg의 예측되는 구름종류 : Sc\n",
            "////////////////////\n",
            "195.jpg의 예측되는 구름종류 : Cc\n",
            "////////////////////\n",
            "193.jpg의 예측되는 구름종류 : Sc\n",
            "////////////////////\n",
            "18.jpg의 예측되는 구름종류 : Sc\n",
            "////////////////////\n",
            "187.jpg의 예측되는 구름종류 : Cc\n",
            "////////////////////\n",
            "189.jpg의 예측되는 구름종류 : Cc\n",
            "////////////////////\n",
            "175.jpg의 예측되는 구름종류 : Sc\n",
            "////////////////////\n",
            "191.jpg의 예측되는 구름종류 : Sc\n",
            "////////////////////\n",
            "197.jpg의 예측되는 구름종류 : Sc\n",
            "////////////////////\n",
            "173.jpg의 예측되는 구름종류 : Sc\n",
            "////////////////////\n",
            "183.jpg의 예측되는 구름종류 : Sc\n",
            "////////////////////\n",
            "198.jpg의 예측되는 구름종류 : St\n",
            "////////////////////\n",
            "172.jpg의 예측되는 구름종류 : Cc\n",
            "////////////////////\n",
            "171.jpg의 예측되는 구름종류 : Cc\n",
            "////////////////////\n",
            "185.jpg의 예측되는 구름종류 : Sc\n",
            "////////////////////\n",
            "200.jpg의 예측되는 구름종류 : Cc\n",
            "////////////////////\n",
            "19.jpg의 예측되는 구름종류 : Sc\n",
            "////////////////////\n",
            "194.jpg의 예측되는 구름종류 : St\n",
            "////////////////////\n",
            "181.jpg의 예측되는 구름종류 : Sc\n",
            "////////////////////\n",
            "182.jpg의 예측되는 구름종류 : Cc\n",
            "////////////////////\n",
            "186.jpg의 예측되는 구름종류 : Cc\n",
            "////////////////////\n",
            "199.jpg의 예측되는 구름종류 : Sc\n",
            "////////////////////\n",
            "196.jpg의 예측되는 구름종류 : St\n",
            "////////////////////\n",
            "201.jpg의 예측되는 구름종류 : Sc\n",
            "////////////////////\n",
            "170.jpg의 예측되는 구름종류 : Cc\n",
            "////////////////////\n",
            "176.jpg의 예측되는 구름종류 : Sc\n",
            "////////////////////\n",
            "202.jpg의 예측되는 구름종류 : Cc\n",
            "////////////////////\n",
            "25.jpg의 예측되는 구름종류 : St\n",
            "////////////////////\n",
            "212.jpg의 예측되는 구름종류 : St\n",
            "////////////////////\n",
            "28.jpg의 예측되는 구름종류 : Cc\n",
            "////////////////////\n",
            "27.jpg의 예측되는 구름종류 : Sc\n",
            "////////////////////\n",
            "220.jpg의 예측되는 구름종류 : St\n",
            "////////////////////\n",
            "26.jpg의 예측되는 구름종류 : Sc\n",
            "////////////////////\n",
            "217.jpg의 예측되는 구름종류 : Sc\n",
            "////////////////////\n",
            "21.jpg의 예측되는 구름종류 : Cc\n",
            "////////////////////\n",
            "31.jpg의 예측되는 구름종류 : Sc\n",
            "////////////////////\n",
            "218.jpg의 예측되는 구름종류 : Sc\n",
            "////////////////////\n",
            "206.jpg의 예측되는 구름종류 : Sc\n",
            "////////////////////\n",
            "209.jpg의 예측되는 구름종류 : Sc\n",
            "////////////////////\n",
            "215.jpg의 예측되는 구름종류 : Cc\n",
            "////////////////////\n",
            "32.jpg의 예측되는 구름종류 : Cc\n",
            "////////////////////\n",
            "211.jpg의 예측되는 구름종류 : Sc\n",
            "////////////////////\n",
            "34.jpg의 예측되는 구름종류 : Sc\n",
            "////////////////////\n",
            "30.jpg의 예측되는 구름종류 : Sc\n",
            "////////////////////\n",
            "216.jpg의 예측되는 구름종류 : Sc\n",
            "////////////////////\n",
            "24.jpg의 예측되는 구름종류 : Cc\n",
            "////////////////////\n",
            "33.jpg의 예측되는 구름종류 : St\n",
            "////////////////////\n",
            "214.jpg의 예측되는 구름종류 : Cc\n",
            "////////////////////\n",
            "207.jpg의 예측되는 구름종류 : St\n",
            "////////////////////\n",
            "208.jpg의 예측되는 구름종류 : Sc\n",
            "////////////////////\n",
            "219.jpg의 예측되는 구름종류 : Cc\n",
            "////////////////////\n",
            "36.jpg의 예측되는 구름종류 : Cc\n",
            "////////////////////\n",
            "23.jpg의 예측되는 구름종류 : St\n",
            "////////////////////\n",
            "213.jpg의 예측되는 구름종류 : Sc\n",
            "////////////////////\n",
            "210.jpg의 예측되는 구름종류 : Cc\n",
            "////////////////////\n",
            "22.jpg의 예측되는 구름종류 : Sc\n",
            "////////////////////\n",
            "205.jpg의 예측되는 구름종류 : Sc\n",
            "////////////////////\n",
            "203.jpg의 예측되는 구름종류 : Sc\n",
            "////////////////////\n",
            "35.jpg의 예측되는 구름종류 : Cc\n",
            "////////////////////\n",
            "204.jpg의 예측되는 구름종류 : St\n",
            "////////////////////\n",
            "29.jpg의 예측되는 구름종류 : Sc\n",
            "////////////////////\n",
            "3.jpg의 예측되는 구름종류 : Cb\n",
            "////////////////////\n",
            "55.jpg의 예측되는 구름종류 : Cc\n",
            "////////////////////\n",
            "38.jpg의 예측되는 구름종류 : Sc\n",
            "////////////////////\n",
            "69.jpg의 예측되는 구름종류 : Cc\n",
            "////////////////////\n",
            "61.jpg의 예측되는 구름종류 : Cc\n",
            "////////////////////\n",
            "68.jpg의 예측되는 구름종류 : Sc\n",
            "////////////////////\n",
            "6.jpg의 예측되는 구름종류 : Cb\n",
            "////////////////////\n",
            "51.jpg의 예측되는 구름종류 : Sc\n",
            "////////////////////\n",
            "5.jpg의 예측되는 구름종류 : Sc\n",
            "////////////////////\n",
            "65.jpg의 예측되는 구름종류 : Cc\n",
            "////////////////////\n",
            "37.jpg의 예측되는 구름종류 : Cc\n",
            "////////////////////\n",
            "49.jpg의 예측되는 구름종류 : Cc\n",
            "////////////////////\n",
            "52.jpg의 예측되는 구름종류 : Ns\n",
            "////////////////////\n",
            "50.jpg의 예측되는 구름종류 : Sc\n",
            "////////////////////\n",
            "59.jpg의 예측되는 구름종류 : Cc\n",
            "////////////////////\n",
            "63.jpg의 예측되는 구름종류 : Cb\n",
            "////////////////////\n",
            "60.jpg의 예측되는 구름종류 : St\n",
            "////////////////////\n",
            "40.jpg의 예측되는 구름종류 : Sc\n",
            "////////////////////\n",
            "4.jpg의 예측되는 구름종류 : Sc\n",
            "////////////////////\n",
            "44.jpg의 예측되는 구름종류 : Sc\n",
            "////////////////////\n",
            "56.jpg의 예측되는 구름종류 : St\n",
            "////////////////////\n",
            "58.jpg의 예측되는 구름종류 : Cc\n",
            "////////////////////\n",
            "42.jpg의 예측되는 구름종류 : Sc\n",
            "////////////////////\n",
            "54.jpg의 예측되는 구름종류 : Cc\n",
            "////////////////////\n",
            "53.jpg의 예측되는 구름종류 : Sc\n",
            "////////////////////\n",
            "48.jpg의 예측되는 구름종류 : Sc\n",
            "////////////////////\n",
            "39.jpg의 예측되는 구름종류 : Sc\n",
            "////////////////////\n",
            "62.jpg의 예측되는 구름종류 : Cc\n",
            "////////////////////\n",
            "47.jpg의 예측되는 구름종류 : Sc\n",
            "////////////////////\n",
            "41.jpg의 예측되는 구름종류 : Sc\n",
            "////////////////////\n",
            "45.jpg의 예측되는 구름종류 : Sc\n",
            "////////////////////\n",
            "46.jpg의 예측되는 구름종류 : Sc\n",
            "////////////////////\n",
            "57.jpg의 예측되는 구름종류 : Cc\n",
            "////////////////////\n",
            "43.jpg의 예측되는 구름종류 : Cc\n"
          ]
        }
      ],
      "source": [
        "from keras.models import load_model\n",
        "\n",
        "path = \"/content/drive/MyDrive/Colab Notebooks/clouddata/test/\"\n",
        "category = os.listdir(\"/content/drive/MyDrive/Colab Notebooks/clouddata/train\")\n",
        "\n",
        "image_w = 64\n",
        "image_h = 64\n",
        "\n",
        "pixels = image_h * image_w * 3\n",
        "\n",
        "X = []\n",
        "filenames = []\n",
        "files = glob.glob(path+\"/*.*\")\n",
        "for f in files:\n",
        "    img = Image.open(f)\n",
        "    img = img.convert(\"RGB\")\n",
        "    img = img.resize((image_w, image_h))\n",
        "    data = np.asarray(img)\n",
        "    filenames.append(f)\n",
        "    X.append(data)\n",
        "\n",
        "X = np.array(X)\n",
        "prediction_test = model.predict(X)\n",
        "\n",
        "file_index = 0\n",
        "for i in prediction_test:\n",
        "    label = i.argmax() # [0.000, 0.000, 0.000, ..., 0.000, 1.000, 0.000] 중 최대값 추출 즉,1값의 인덱스\n",
        "    print(\"////////////////////\")\n",
        "    print( filenames[file_index].split('/')[-1] + \"의 예측되는 구름종류 : \" + category[label])\n",
        "    file_index  = file_index+1"
      ]
    },
    {
      "cell_type": "code",
      "source": [
        "from keras.models import load_model\n",
        "\n",
        "path2 = \"/content/drive/MyDrive/Colab Notebooks/mydata/\"\n",
        "category = os.listdir(\"/content/drive/MyDrive/Colab Notebooks/clouddata/train\")\n",
        "\n",
        "image_w = 64\n",
        "image_h = 64\n",
        "\n",
        "pixels = image_h * image_w * 3\n",
        "\n",
        "X = []\n",
        "filenames = []\n",
        "files = glob.glob(path2+\"/*.*\")\n",
        "for f in files:\n",
        "    img = Image.open(f)\n",
        "    img = img.convert(\"RGB\")\n",
        "    img = img.resize((image_w, image_h))\n",
        "    data = np.asarray(img)\n",
        "    filenames.append(f)\n",
        "    X.append(data)\n",
        "\n",
        "X = np.array(X)\n",
        "prediction_test = model.predict(X)\n",
        "\n",
        "file_index = 0\n",
        "for i in prediction_test:\n",
        "    label = i.argmax() # [0.000, 0.000, 0.000, ..., 0.000, 1.000, 0.000] 중 최대값 추출 즉,1값의 인덱스\n",
        "    print(\"////////////////////\")\n",
        "    print( filenames[file_index].split('/')[-1] + \"의 예측되는 구름종류 : \" + category[label])\n",
        "    file_index  = file_index+1"
      ],
      "metadata": {
        "colab": {
          "base_uri": "https://localhost:8080/"
        },
        "id": "vN-F1N_8lPPc",
        "outputId": "8e829577-e5b3-4acf-ccaa-4b44f55113ea"
      },
      "execution_count": null,
      "outputs": [
        {
          "output_type": "stream",
          "name": "stdout",
          "text": [
            "1/1 [==============================] - 0s 87ms/step\n",
            "////////////////////\n",
            "cloud.jpg의 예측되는 구름종류 : St\n",
            "////////////////////\n",
            "cloud1.jpg의 예측되는 구름종류 : Sc\n",
            "////////////////////\n",
            "cloud3.jpg의 예측되는 구름종류 : Cc\n",
            "////////////////////\n",
            "cloud2.jpg의 예측되는 구름종류 : Cc\n"
          ]
        }
      ]
    }
  ],
  "metadata": {
    "colab": {
      "provenance": [],
      "machine_shape": "hm",
      "gpuType": "A100",
      "authorship_tag": "ABX9TyNWuwau2xBDrWRM63FspY0E",
      "include_colab_link": true
    },
    "kernelspec": {
      "display_name": "Python 3",
      "name": "python3"
    },
    "language_info": {
      "name": "python"
    },
    "accelerator": "GPU"
  },
  "nbformat": 4,
  "nbformat_minor": 0
}